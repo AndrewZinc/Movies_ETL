{
 "cells": [
  {
   "cell_type": "code",
   "execution_count": 1,
   "id": "23969407",
   "metadata": {},
   "outputs": [],
   "source": [
    "import json\n",
    "import pandas as pd\n",
    "import numpy as np\n",
    "import re"
   ]
  },
  {
   "cell_type": "code",
   "execution_count": 2,
   "id": "09cdf06d",
   "metadata": {},
   "outputs": [],
   "source": [
    "file_dir = \"C:/Users/azinc/Github/Movies-ETL/\"\n",
    "\n",
    "filename = 'wikipedia-movies.json'\n"
   ]
  },
  {
   "cell_type": "code",
   "execution_count": 3,
   "id": "35b7a2da",
   "metadata": {},
   "outputs": [
    {
     "data": {
      "text/plain": [
       "7311"
      ]
     },
     "execution_count": 3,
     "metadata": {},
     "output_type": "execute_result"
    }
   ],
   "source": [
    "with open(f'{filename}', mode='r') as file:\n",
    "    wiki_movies_raw = json.load(file)\n",
    "    \n",
    "len(wiki_movies_raw)"
   ]
  },
  {
   "cell_type": "code",
   "execution_count": 4,
   "id": "8f818e28",
   "metadata": {},
   "outputs": [
    {
     "data": {
      "text/plain": [
       "{'url': 'https://en.wikipedia.org/wiki/Puzzle_(2018_film)',\n",
       " 'year': 2018,\n",
       " 'imdb_link': 'https://www.imdb.com/title/tt6933454/',\n",
       " 'title': 'Puzzle',\n",
       " 'Directed by': 'Marc Turtletaub',\n",
       " 'Produced by': ['Wren Arthur',\n",
       "  'Guy Stodel',\n",
       "  'Marc Turtletaub',\n",
       "  'Peter Saraf'],\n",
       " 'Written by': ['Oren Moverman', 'Polly Mann'],\n",
       " 'Based on': ['Rompecabezas', 'by', 'Natalia Smirnoff'],\n",
       " 'Starring': ['Kelly Macdonald',\n",
       "  'Irrfan Khan',\n",
       "  'David Denman',\n",
       "  'Bubba Weiler',\n",
       "  'Austin Abrams',\n",
       "  'Liv Hewson'],\n",
       " 'Music by': \"Dustin O'Halloran\",\n",
       " 'Cinematography': 'Chris Norr',\n",
       " 'Edited by': 'Catherine Haight',\n",
       " 'Productioncompanies ': ['Big Beach', 'Olive Productions'],\n",
       " 'Distributed by': 'Sony Pictures Classics',\n",
       " 'Release date': ['January 23, 2018',\n",
       "  '(',\n",
       "  '2018-01-23',\n",
       "  ')',\n",
       "  '(',\n",
       "  'Sundance',\n",
       "  ')',\n",
       "  'July 27, 2018',\n",
       "  '(',\n",
       "  '2018-07-27',\n",
       "  ')',\n",
       "  '(United States)'],\n",
       " 'Running time': '103 minutes',\n",
       " 'Country': 'United States',\n",
       " 'Language': 'English',\n",
       " 'Box office': '$2.1 million'}"
      ]
     },
     "execution_count": 4,
     "metadata": {},
     "output_type": "execute_result"
    }
   ],
   "source": [
    "wiki_movies_raw[7200]"
   ]
  },
  {
   "cell_type": "code",
   "execution_count": 5,
   "id": "e7608283",
   "metadata": {},
   "outputs": [],
   "source": [
    "kaggle_metadata_df = pd.read_csv('movies_metadata.csv',low_memory=False)"
   ]
  },
  {
   "cell_type": "code",
   "execution_count": 6,
   "id": "332da511",
   "metadata": {},
   "outputs": [
    {
     "data": {
      "text/html": [
       "<div>\n",
       "<style scoped>\n",
       "    .dataframe tbody tr th:only-of-type {\n",
       "        vertical-align: middle;\n",
       "    }\n",
       "\n",
       "    .dataframe tbody tr th {\n",
       "        vertical-align: top;\n",
       "    }\n",
       "\n",
       "    .dataframe thead th {\n",
       "        text-align: right;\n",
       "    }\n",
       "</style>\n",
       "<table border=\"1\" class=\"dataframe\">\n",
       "  <thead>\n",
       "    <tr style=\"text-align: right;\">\n",
       "      <th></th>\n",
       "      <th>adult</th>\n",
       "      <th>belongs_to_collection</th>\n",
       "      <th>budget</th>\n",
       "      <th>genres</th>\n",
       "      <th>homepage</th>\n",
       "      <th>id</th>\n",
       "      <th>imdb_id</th>\n",
       "      <th>original_language</th>\n",
       "      <th>original_title</th>\n",
       "      <th>overview</th>\n",
       "      <th>...</th>\n",
       "      <th>release_date</th>\n",
       "      <th>revenue</th>\n",
       "      <th>runtime</th>\n",
       "      <th>spoken_languages</th>\n",
       "      <th>status</th>\n",
       "      <th>tagline</th>\n",
       "      <th>title</th>\n",
       "      <th>video</th>\n",
       "      <th>vote_average</th>\n",
       "      <th>vote_count</th>\n",
       "    </tr>\n",
       "  </thead>\n",
       "  <tbody>\n",
       "    <tr>\n",
       "      <th>22425</th>\n",
       "      <td>False</td>\n",
       "      <td>NaN</td>\n",
       "      <td>0</td>\n",
       "      <td>[{'id': 18, 'name': 'Drama'}]</td>\n",
       "      <td>NaN</td>\n",
       "      <td>183654</td>\n",
       "      <td>tt0073034</td>\n",
       "      <td>ur</td>\n",
       "      <td>गर्म हवा</td>\n",
       "      <td>In post-Partition India, a Muslim businessman ...</td>\n",
       "      <td>...</td>\n",
       "      <td>1973-01-05</td>\n",
       "      <td>0.0</td>\n",
       "      <td>146.0</td>\n",
       "      <td>[{'iso_639_1': 'hi', 'name': 'हिन्दी'}, {'iso_...</td>\n",
       "      <td>Released</td>\n",
       "      <td>NaN</td>\n",
       "      <td>Garm Hava</td>\n",
       "      <td>False</td>\n",
       "      <td>6.2</td>\n",
       "      <td>3.0</td>\n",
       "    </tr>\n",
       "    <tr>\n",
       "      <th>30159</th>\n",
       "      <td>False</td>\n",
       "      <td>NaN</td>\n",
       "      <td>0</td>\n",
       "      <td>[{'id': 35, 'name': 'Comedy'}]</td>\n",
       "      <td>NaN</td>\n",
       "      <td>61303</td>\n",
       "      <td>tt0129161</td>\n",
       "      <td>it</td>\n",
       "      <td>Infelici e contenti</td>\n",
       "      <td>NaN</td>\n",
       "      <td>...</td>\n",
       "      <td>1992-12-18</td>\n",
       "      <td>0.0</td>\n",
       "      <td>0.0</td>\n",
       "      <td>[{'iso_639_1': 'it', 'name': 'Italiano'}]</td>\n",
       "      <td>Released</td>\n",
       "      <td>NaN</td>\n",
       "      <td>Infelici e contenti</td>\n",
       "      <td>False</td>\n",
       "      <td>4.6</td>\n",
       "      <td>21.0</td>\n",
       "    </tr>\n",
       "    <tr>\n",
       "      <th>9951</th>\n",
       "      <td>False</td>\n",
       "      <td>NaN</td>\n",
       "      <td>0</td>\n",
       "      <td>[{'id': 18, 'name': 'Drama'}, {'id': 10752, 'n...</td>\n",
       "      <td>NaN</td>\n",
       "      <td>31442</td>\n",
       "      <td>tt0056111</td>\n",
       "      <td>ru</td>\n",
       "      <td>Ива́ново де́тство</td>\n",
       "      <td>Poetic journey through the shards and shadows ...</td>\n",
       "      <td>...</td>\n",
       "      <td>1962-05-05</td>\n",
       "      <td>0.0</td>\n",
       "      <td>95.0</td>\n",
       "      <td>[{'iso_639_1': 'de', 'name': 'Deutsch'}, {'iso...</td>\n",
       "      <td>Released</td>\n",
       "      <td>NaN</td>\n",
       "      <td>Ivan's Childhood</td>\n",
       "      <td>False</td>\n",
       "      <td>7.7</td>\n",
       "      <td>109.0</td>\n",
       "    </tr>\n",
       "    <tr>\n",
       "      <th>2759</th>\n",
       "      <td>False</td>\n",
       "      <td>NaN</td>\n",
       "      <td>0</td>\n",
       "      <td>[{'id': 18, 'name': 'Drama'}, {'id': 53, 'name...</td>\n",
       "      <td>NaN</td>\n",
       "      <td>1049</td>\n",
       "      <td>tt0108185</td>\n",
       "      <td>en</td>\n",
       "      <td>Sommersby</td>\n",
       "      <td>Set in the south of the United States just aft...</td>\n",
       "      <td>...</td>\n",
       "      <td>1993-02-05</td>\n",
       "      <td>140081992.0</td>\n",
       "      <td>109.0</td>\n",
       "      <td>[{'iso_639_1': 'en', 'name': 'English'}]</td>\n",
       "      <td>Released</td>\n",
       "      <td>She knew his face. His touch. His voice. She k...</td>\n",
       "      <td>Sommersby</td>\n",
       "      <td>False</td>\n",
       "      <td>6.0</td>\n",
       "      <td>82.0</td>\n",
       "    </tr>\n",
       "    <tr>\n",
       "      <th>18646</th>\n",
       "      <td>False</td>\n",
       "      <td>NaN</td>\n",
       "      <td>10000000</td>\n",
       "      <td>[{'id': 28, 'name': 'Action'}, {'id': 53, 'nam...</td>\n",
       "      <td>NaN</td>\n",
       "      <td>71254</td>\n",
       "      <td>tt1117581</td>\n",
       "      <td>en</td>\n",
       "      <td>Arena</td>\n",
       "      <td>David Lord finds himself forced into the savag...</td>\n",
       "      <td>...</td>\n",
       "      <td>2011-10-11</td>\n",
       "      <td>0.0</td>\n",
       "      <td>94.0</td>\n",
       "      <td>[{'iso_639_1': 'en', 'name': 'English'}, {'iso...</td>\n",
       "      <td>Released</td>\n",
       "      <td>There's no greater battle... Than the battle f...</td>\n",
       "      <td>Arena</td>\n",
       "      <td>False</td>\n",
       "      <td>5.0</td>\n",
       "      <td>90.0</td>\n",
       "    </tr>\n",
       "    <tr>\n",
       "      <th>40490</th>\n",
       "      <td>False</td>\n",
       "      <td>NaN</td>\n",
       "      <td>0</td>\n",
       "      <td>[{'id': 27, 'name': 'Horror'}]</td>\n",
       "      <td>NaN</td>\n",
       "      <td>155706</td>\n",
       "      <td>tt1656197</td>\n",
       "      <td>en</td>\n",
       "      <td>The Speak</td>\n",
       "      <td>A small TV crew make their way into the most h...</td>\n",
       "      <td>...</td>\n",
       "      <td>2011-01-06</td>\n",
       "      <td>0.0</td>\n",
       "      <td>83.0</td>\n",
       "      <td>[]</td>\n",
       "      <td>Released</td>\n",
       "      <td>NaN</td>\n",
       "      <td>The Speak</td>\n",
       "      <td>False</td>\n",
       "      <td>3.0</td>\n",
       "      <td>3.0</td>\n",
       "    </tr>\n",
       "    <tr>\n",
       "      <th>13206</th>\n",
       "      <td>False</td>\n",
       "      <td>NaN</td>\n",
       "      <td>0</td>\n",
       "      <td>[{'id': 28, 'name': 'Action'}, {'id': 35, 'nam...</td>\n",
       "      <td>NaN</td>\n",
       "      <td>27991</td>\n",
       "      <td>tt0024262</td>\n",
       "      <td>en</td>\n",
       "      <td>The Little Giant</td>\n",
       "      <td>Prohibition is ending so bootlegger Bugs Ahear...</td>\n",
       "      <td>...</td>\n",
       "      <td>1933-05-20</td>\n",
       "      <td>0.0</td>\n",
       "      <td>76.0</td>\n",
       "      <td>[{'iso_639_1': 'en', 'name': 'English'}]</td>\n",
       "      <td>Released</td>\n",
       "      <td>NaN</td>\n",
       "      <td>The Little Giant</td>\n",
       "      <td>False</td>\n",
       "      <td>6.3</td>\n",
       "      <td>6.0</td>\n",
       "    </tr>\n",
       "    <tr>\n",
       "      <th>45317</th>\n",
       "      <td>False</td>\n",
       "      <td>NaN</td>\n",
       "      <td>0</td>\n",
       "      <td>[]</td>\n",
       "      <td>NaN</td>\n",
       "      <td>80284</td>\n",
       "      <td>tt0969746</td>\n",
       "      <td>es</td>\n",
       "      <td>La sangre iluminada</td>\n",
       "      <td>Six characters narrate their complex existence...</td>\n",
       "      <td>...</td>\n",
       "      <td>2008-04-25</td>\n",
       "      <td>0.0</td>\n",
       "      <td>104.0</td>\n",
       "      <td>[{'iso_639_1': 'es', 'name': 'Español'}]</td>\n",
       "      <td>Released</td>\n",
       "      <td>NaN</td>\n",
       "      <td>Enlightened blood</td>\n",
       "      <td>False</td>\n",
       "      <td>8.3</td>\n",
       "      <td>2.0</td>\n",
       "    </tr>\n",
       "    <tr>\n",
       "      <th>6063</th>\n",
       "      <td>False</td>\n",
       "      <td>NaN</td>\n",
       "      <td>8500000</td>\n",
       "      <td>[{'id': 18, 'name': 'Drama'}, {'id': 10749, 'n...</td>\n",
       "      <td>NaN</td>\n",
       "      <td>21867</td>\n",
       "      <td>tt0091374</td>\n",
       "      <td>en</td>\n",
       "      <td>Lady Jane</td>\n",
       "      <td>The death of King Henry VIII throws his kingdo...</td>\n",
       "      <td>...</td>\n",
       "      <td>1986-02-07</td>\n",
       "      <td>0.0</td>\n",
       "      <td>142.0</td>\n",
       "      <td>[{'iso_639_1': 'en', 'name': 'English'}]</td>\n",
       "      <td>Released</td>\n",
       "      <td>NaN</td>\n",
       "      <td>Lady Jane</td>\n",
       "      <td>False</td>\n",
       "      <td>6.9</td>\n",
       "      <td>22.0</td>\n",
       "    </tr>\n",
       "    <tr>\n",
       "      <th>13394</th>\n",
       "      <td>False</td>\n",
       "      <td>NaN</td>\n",
       "      <td>0</td>\n",
       "      <td>[{'id': 80, 'name': 'Crime'}, {'id': 18, 'name...</td>\n",
       "      <td>NaN</td>\n",
       "      <td>26900</td>\n",
       "      <td>tt0116231</td>\n",
       "      <td>tr</td>\n",
       "      <td>Eşkıya</td>\n",
       "      <td>The epic adventures of the legendary Baran the...</td>\n",
       "      <td>...</td>\n",
       "      <td>1996-11-29</td>\n",
       "      <td>0.0</td>\n",
       "      <td>121.0</td>\n",
       "      <td>[{'iso_639_1': 'tr', 'name': 'Türkçe'}]</td>\n",
       "      <td>Released</td>\n",
       "      <td>NaN</td>\n",
       "      <td>The Bandit</td>\n",
       "      <td>False</td>\n",
       "      <td>7.5</td>\n",
       "      <td>51.0</td>\n",
       "    </tr>\n",
       "  </tbody>\n",
       "</table>\n",
       "<p>10 rows × 24 columns</p>\n",
       "</div>"
      ],
      "text/plain": [
       "       adult belongs_to_collection    budget  \\\n",
       "22425  False                   NaN         0   \n",
       "30159  False                   NaN         0   \n",
       "9951   False                   NaN         0   \n",
       "2759   False                   NaN         0   \n",
       "18646  False                   NaN  10000000   \n",
       "40490  False                   NaN         0   \n",
       "13206  False                   NaN         0   \n",
       "45317  False                   NaN         0   \n",
       "6063   False                   NaN   8500000   \n",
       "13394  False                   NaN         0   \n",
       "\n",
       "                                                  genres homepage      id  \\\n",
       "22425                      [{'id': 18, 'name': 'Drama'}]      NaN  183654   \n",
       "30159                     [{'id': 35, 'name': 'Comedy'}]      NaN   61303   \n",
       "9951   [{'id': 18, 'name': 'Drama'}, {'id': 10752, 'n...      NaN   31442   \n",
       "2759   [{'id': 18, 'name': 'Drama'}, {'id': 53, 'name...      NaN    1049   \n",
       "18646  [{'id': 28, 'name': 'Action'}, {'id': 53, 'nam...      NaN   71254   \n",
       "40490                     [{'id': 27, 'name': 'Horror'}]      NaN  155706   \n",
       "13206  [{'id': 28, 'name': 'Action'}, {'id': 35, 'nam...      NaN   27991   \n",
       "45317                                                 []      NaN   80284   \n",
       "6063   [{'id': 18, 'name': 'Drama'}, {'id': 10749, 'n...      NaN   21867   \n",
       "13394  [{'id': 80, 'name': 'Crime'}, {'id': 18, 'name...      NaN   26900   \n",
       "\n",
       "         imdb_id original_language       original_title  \\\n",
       "22425  tt0073034                ur             गर्म हवा   \n",
       "30159  tt0129161                it  Infelici e contenti   \n",
       "9951   tt0056111                ru    Ива́ново де́тство   \n",
       "2759   tt0108185                en            Sommersby   \n",
       "18646  tt1117581                en                Arena   \n",
       "40490  tt1656197                en            The Speak   \n",
       "13206  tt0024262                en     The Little Giant   \n",
       "45317  tt0969746                es  La sangre iluminada   \n",
       "6063   tt0091374                en            Lady Jane   \n",
       "13394  tt0116231                tr               Eşkıya   \n",
       "\n",
       "                                                overview  ... release_date  \\\n",
       "22425  In post-Partition India, a Muslim businessman ...  ...   1973-01-05   \n",
       "30159                                                NaN  ...   1992-12-18   \n",
       "9951   Poetic journey through the shards and shadows ...  ...   1962-05-05   \n",
       "2759   Set in the south of the United States just aft...  ...   1993-02-05   \n",
       "18646  David Lord finds himself forced into the savag...  ...   2011-10-11   \n",
       "40490  A small TV crew make their way into the most h...  ...   2011-01-06   \n",
       "13206  Prohibition is ending so bootlegger Bugs Ahear...  ...   1933-05-20   \n",
       "45317  Six characters narrate their complex existence...  ...   2008-04-25   \n",
       "6063   The death of King Henry VIII throws his kingdo...  ...   1986-02-07   \n",
       "13394  The epic adventures of the legendary Baran the...  ...   1996-11-29   \n",
       "\n",
       "           revenue runtime                                   spoken_languages  \\\n",
       "22425          0.0   146.0  [{'iso_639_1': 'hi', 'name': 'हिन्दी'}, {'iso_...   \n",
       "30159          0.0     0.0          [{'iso_639_1': 'it', 'name': 'Italiano'}]   \n",
       "9951           0.0    95.0  [{'iso_639_1': 'de', 'name': 'Deutsch'}, {'iso...   \n",
       "2759   140081992.0   109.0           [{'iso_639_1': 'en', 'name': 'English'}]   \n",
       "18646          0.0    94.0  [{'iso_639_1': 'en', 'name': 'English'}, {'iso...   \n",
       "40490          0.0    83.0                                                 []   \n",
       "13206          0.0    76.0           [{'iso_639_1': 'en', 'name': 'English'}]   \n",
       "45317          0.0   104.0           [{'iso_639_1': 'es', 'name': 'Español'}]   \n",
       "6063           0.0   142.0           [{'iso_639_1': 'en', 'name': 'English'}]   \n",
       "13394          0.0   121.0            [{'iso_639_1': 'tr', 'name': 'Türkçe'}]   \n",
       "\n",
       "         status                                            tagline  \\\n",
       "22425  Released                                                NaN   \n",
       "30159  Released                                                NaN   \n",
       "9951   Released                                                NaN   \n",
       "2759   Released  She knew his face. His touch. His voice. She k...   \n",
       "18646  Released  There's no greater battle... Than the battle f...   \n",
       "40490  Released                                                NaN   \n",
       "13206  Released                                                NaN   \n",
       "45317  Released                                                NaN   \n",
       "6063   Released                                                NaN   \n",
       "13394  Released                                                NaN   \n",
       "\n",
       "                     title  video vote_average vote_count  \n",
       "22425            Garm Hava  False          6.2        3.0  \n",
       "30159  Infelici e contenti  False          4.6       21.0  \n",
       "9951      Ivan's Childhood  False          7.7      109.0  \n",
       "2759             Sommersby  False          6.0       82.0  \n",
       "18646                Arena  False          5.0       90.0  \n",
       "40490            The Speak  False          3.0        3.0  \n",
       "13206     The Little Giant  False          6.3        6.0  \n",
       "45317    Enlightened blood  False          8.3        2.0  \n",
       "6063             Lady Jane  False          6.9       22.0  \n",
       "13394           The Bandit  False          7.5       51.0  \n",
       "\n",
       "[10 rows x 24 columns]"
      ]
     },
     "execution_count": 6,
     "metadata": {},
     "output_type": "execute_result"
    }
   ],
   "source": [
    "kaggle_metadata_df.sample(n=10)"
   ]
  },
  {
   "cell_type": "code",
   "execution_count": 7,
   "id": "24f6197c",
   "metadata": {},
   "outputs": [],
   "source": [
    "ratings_df = pd.read_csv('ratings.csv')"
   ]
  },
  {
   "cell_type": "code",
   "execution_count": 8,
   "id": "dc318679",
   "metadata": {},
   "outputs": [
    {
     "data": {
      "text/plain": [
       "7076"
      ]
     },
     "execution_count": 8,
     "metadata": {},
     "output_type": "execute_result"
    }
   ],
   "source": [
    "# Use list comprehension to filter wikipedia json columns to clean up the movie data\n",
    "\n",
    "wiki_movies = [movie for movie in wiki_movies_raw \n",
    "              if ('Director' in movie or 'Directed by' in movie\n",
    "                  and 'imdb_link' in movie\n",
    "                 and 'No. of episodes' not in movie)]\n",
    "                  \n",
    "len(wiki_movies)"
   ]
  },
  {
   "cell_type": "code",
   "execution_count": 9,
   "id": "3eb6667a",
   "metadata": {},
   "outputs": [],
   "source": [
    "def clean_movie(movie):\n",
    "    movie = dict(movie) # non-destructive copy of the movie-data\n",
    "    \n",
    "    alt_titles = {}\n",
    "    alt_title_fields = ['Also known as','Arabic', 'Cantonese', 'Chinese', 'French', 'Hangul', 'Hebrew', 'Hepburn', 'Japanese', 'Literally',\n",
    "    'Mandarin', 'McCune–Reischauer', 'Original title', 'Polish', 'Revised Romanization', 'Romanized', 'Russian',\n",
    "    'Simplified', 'Traditional', 'Yiddish']\n",
    "    \n",
    "    # Consolidate any/all alternate titles into a single column\n",
    "    for a_t in alt_title_fields:\n",
    "        if a_t in movie:\n",
    "            alt_titles[a_t] = movie.pop(a_t)\n",
    "            \n",
    "        if len(alt_titles) > 0:\n",
    "            movie['alt_titles'] = alt_titles\n",
    "            \n",
    "    # Consolidate column names with a function\n",
    "    def change_column_name(old_name, new_name):\n",
    "        if old_name in movie:\n",
    "            movie[new_name] = movie.pop(old_name)\n",
    "    \n",
    "    \n",
    "    # Define list of column name transformations\n",
    "    change_column_name('Adaptation by', 'Written by')\n",
    "    change_column_name('Original release', 'Release date')\n",
    "    change_column_name('Music by', 'Composer(s)')\n",
    "    change_column_name('Story by', 'Writers')\n",
    "    change_column_name('Screenplay by', 'Writers')\n",
    "    change_column_name('Written by', 'Writers')\n",
    "    change_column_name('Theme music composer', 'Composer(s)')\n",
    "    change_column_name('Country of origin', 'Country')\n",
    "    change_column_name('Directed by', 'Director')\n",
    "    change_column_name('Edited by', 'Editor(s)')\n",
    "    change_column_name('Distributed by', 'Distributor')\n",
    "    change_column_name('Produced by', 'Producer(s)')\n",
    "    change_column_name('Producer', 'Producer(s)')\n",
    "    change_column_name('Original language(s)', 'Language')\n",
    "    change_column_name('Productioncompanies ', 'Production company(s)')\n",
    "    change_column_name('Productioncompany ', 'Production company(s)')\n",
    "    change_column_name('Screen story by', 'Screenplay by')\n",
    "    change_column_name('Length', 'Running time')\n",
    "    change_column_name('Released', 'Release date')\n",
    "    change_column_name('year', 'Release date')\n",
    "    \n",
    "    return(movie)"
   ]
  },
  {
   "cell_type": "code",
   "execution_count": 10,
   "id": "714db80b",
   "metadata": {},
   "outputs": [],
   "source": [
    "# Located data by column name to better understand the content and structure.\n",
    "# wiki_movies_df[wiki_movies_df['title'].notnull()]"
   ]
  },
  {
   "cell_type": "code",
   "execution_count": 11,
   "id": "3423547d",
   "metadata": {},
   "outputs": [
    {
     "data": {
      "text/plain": [
       "['Animation by',\n",
       " 'Audio format',\n",
       " 'Based on',\n",
       " 'Box office',\n",
       " 'Budget',\n",
       " 'Cinematography',\n",
       " 'Color process',\n",
       " 'Composer(s)',\n",
       " 'Country',\n",
       " 'Created by',\n",
       " 'Director',\n",
       " 'Distributor',\n",
       " 'Editor(s)',\n",
       " 'Executive producer(s)',\n",
       " 'Followed by',\n",
       " 'Genre',\n",
       " 'Label',\n",
       " 'Language',\n",
       " 'Narrated by',\n",
       " 'Original network',\n",
       " 'Picture format',\n",
       " 'Preceded by',\n",
       " 'Producer(s)',\n",
       " 'Production company(s)',\n",
       " 'Production location(s)',\n",
       " 'Recorded',\n",
       " 'Release date',\n",
       " 'Running time',\n",
       " 'Screenplay by',\n",
       " 'Starring',\n",
       " 'Suggested by',\n",
       " 'Venue',\n",
       " 'Voices of',\n",
       " 'Writers',\n",
       " 'alt_titles',\n",
       " 'imdb_link',\n",
       " 'title',\n",
       " 'url']"
      ]
     },
     "execution_count": 11,
     "metadata": {},
     "output_type": "execute_result"
    }
   ],
   "source": [
    "clean_movies = [clean_movie(movie) for movie in wiki_movies]\n",
    "\n",
    "wiki_movies_df = pd.DataFrame(clean_movies)\n",
    "\n",
    "sorted(wiki_movies_df.columns.tolist())"
   ]
  },
  {
   "cell_type": "code",
   "execution_count": 12,
   "id": "cdd017b3",
   "metadata": {
    "scrolled": true
   },
   "outputs": [
    {
     "data": {
      "text/html": [
       "<div>\n",
       "<style scoped>\n",
       "    .dataframe tbody tr th:only-of-type {\n",
       "        vertical-align: middle;\n",
       "    }\n",
       "\n",
       "    .dataframe tbody tr th {\n",
       "        vertical-align: top;\n",
       "    }\n",
       "\n",
       "    .dataframe thead th {\n",
       "        text-align: right;\n",
       "    }\n",
       "</style>\n",
       "<table border=\"1\" class=\"dataframe\">\n",
       "  <thead>\n",
       "    <tr style=\"text-align: right;\">\n",
       "      <th></th>\n",
       "      <th>url</th>\n",
       "      <th>imdb_link</th>\n",
       "      <th>title</th>\n",
       "      <th>Based on</th>\n",
       "      <th>Starring</th>\n",
       "      <th>Narrated by</th>\n",
       "      <th>Cinematography</th>\n",
       "      <th>Release date</th>\n",
       "      <th>Running time</th>\n",
       "      <th>Country</th>\n",
       "      <th>...</th>\n",
       "      <th>Created by</th>\n",
       "      <th>Preceded by</th>\n",
       "      <th>Suggested by</th>\n",
       "      <th>alt_titles</th>\n",
       "      <th>Recorded</th>\n",
       "      <th>Venue</th>\n",
       "      <th>Label</th>\n",
       "      <th>Animation by</th>\n",
       "      <th>Color process</th>\n",
       "      <th>Screenplay by</th>\n",
       "    </tr>\n",
       "  </thead>\n",
       "  <tbody>\n",
       "    <tr>\n",
       "      <th>0</th>\n",
       "      <td>https://en.wikipedia.org/wiki/The_Adventures_o...</td>\n",
       "      <td>https://www.imdb.com/title/tt0098987/</td>\n",
       "      <td>The Adventures of Ford Fairlane</td>\n",
       "      <td>[Characters, by Rex Weiner]</td>\n",
       "      <td>[Andrew Dice Clay, Wayne Newton, Priscilla Pre...</td>\n",
       "      <td>Andrew \"Dice\" Clay</td>\n",
       "      <td>Oliver Wood</td>\n",
       "      <td>1990</td>\n",
       "      <td>102 minutes</td>\n",
       "      <td>United States</td>\n",
       "      <td>...</td>\n",
       "      <td>NaN</td>\n",
       "      <td>NaN</td>\n",
       "      <td>NaN</td>\n",
       "      <td>NaN</td>\n",
       "      <td>NaN</td>\n",
       "      <td>NaN</td>\n",
       "      <td>NaN</td>\n",
       "      <td>NaN</td>\n",
       "      <td>NaN</td>\n",
       "      <td>NaN</td>\n",
       "    </tr>\n",
       "    <tr>\n",
       "      <th>1</th>\n",
       "      <td>https://en.wikipedia.org/wiki/After_Dark,_My_S...</td>\n",
       "      <td>https://www.imdb.com/title/tt0098994/</td>\n",
       "      <td>After Dark, My Sweet</td>\n",
       "      <td>[the novel, After Dark, My Sweet, by, Jim Thom...</td>\n",
       "      <td>[Jason Patric, Rachel Ward, Bruce Dern, George...</td>\n",
       "      <td>NaN</td>\n",
       "      <td>Mark Plummer</td>\n",
       "      <td>1990</td>\n",
       "      <td>114 minutes</td>\n",
       "      <td>United States</td>\n",
       "      <td>...</td>\n",
       "      <td>NaN</td>\n",
       "      <td>NaN</td>\n",
       "      <td>NaN</td>\n",
       "      <td>NaN</td>\n",
       "      <td>NaN</td>\n",
       "      <td>NaN</td>\n",
       "      <td>NaN</td>\n",
       "      <td>NaN</td>\n",
       "      <td>NaN</td>\n",
       "      <td>NaN</td>\n",
       "    </tr>\n",
       "    <tr>\n",
       "      <th>2</th>\n",
       "      <td>https://en.wikipedia.org/wiki/Air_America_(film)</td>\n",
       "      <td>https://www.imdb.com/title/tt0099005/</td>\n",
       "      <td>Air America</td>\n",
       "      <td>[Air America, by, Christopher Robbins]</td>\n",
       "      <td>[Mel Gibson, Robert Downey Jr., Nancy Travis, ...</td>\n",
       "      <td>NaN</td>\n",
       "      <td>Roger Deakins</td>\n",
       "      <td>1990</td>\n",
       "      <td>113 minutes</td>\n",
       "      <td>United States</td>\n",
       "      <td>...</td>\n",
       "      <td>NaN</td>\n",
       "      <td>NaN</td>\n",
       "      <td>NaN</td>\n",
       "      <td>NaN</td>\n",
       "      <td>NaN</td>\n",
       "      <td>NaN</td>\n",
       "      <td>NaN</td>\n",
       "      <td>NaN</td>\n",
       "      <td>NaN</td>\n",
       "      <td>NaN</td>\n",
       "    </tr>\n",
       "    <tr>\n",
       "      <th>3</th>\n",
       "      <td>https://en.wikipedia.org/wiki/Alice_(1990_film)</td>\n",
       "      <td>https://www.imdb.com/title/tt0099012/</td>\n",
       "      <td>Alice</td>\n",
       "      <td>NaN</td>\n",
       "      <td>[Alec Baldwin, Blythe Danner, Judy Davis, Mia ...</td>\n",
       "      <td>NaN</td>\n",
       "      <td>Carlo Di Palma</td>\n",
       "      <td>1990</td>\n",
       "      <td>106 minutes</td>\n",
       "      <td>United States</td>\n",
       "      <td>...</td>\n",
       "      <td>NaN</td>\n",
       "      <td>NaN</td>\n",
       "      <td>NaN</td>\n",
       "      <td>NaN</td>\n",
       "      <td>NaN</td>\n",
       "      <td>NaN</td>\n",
       "      <td>NaN</td>\n",
       "      <td>NaN</td>\n",
       "      <td>NaN</td>\n",
       "      <td>NaN</td>\n",
       "    </tr>\n",
       "    <tr>\n",
       "      <th>4</th>\n",
       "      <td>https://en.wikipedia.org/wiki/Almost_an_Angel</td>\n",
       "      <td>https://www.imdb.com/title/tt0099018/</td>\n",
       "      <td>Almost an Angel</td>\n",
       "      <td>NaN</td>\n",
       "      <td>[Paul Hogan, Elias Koteas, Linda Kozlowski]</td>\n",
       "      <td>NaN</td>\n",
       "      <td>Russell Boyd</td>\n",
       "      <td>1990</td>\n",
       "      <td>95 minutes</td>\n",
       "      <td>US</td>\n",
       "      <td>...</td>\n",
       "      <td>NaN</td>\n",
       "      <td>NaN</td>\n",
       "      <td>NaN</td>\n",
       "      <td>NaN</td>\n",
       "      <td>NaN</td>\n",
       "      <td>NaN</td>\n",
       "      <td>NaN</td>\n",
       "      <td>NaN</td>\n",
       "      <td>NaN</td>\n",
       "      <td>NaN</td>\n",
       "    </tr>\n",
       "  </tbody>\n",
       "</table>\n",
       "<p>5 rows × 38 columns</p>\n",
       "</div>"
      ],
      "text/plain": [
       "                                                 url  \\\n",
       "0  https://en.wikipedia.org/wiki/The_Adventures_o...   \n",
       "1  https://en.wikipedia.org/wiki/After_Dark,_My_S...   \n",
       "2   https://en.wikipedia.org/wiki/Air_America_(film)   \n",
       "3    https://en.wikipedia.org/wiki/Alice_(1990_film)   \n",
       "4      https://en.wikipedia.org/wiki/Almost_an_Angel   \n",
       "\n",
       "                               imdb_link                            title  \\\n",
       "0  https://www.imdb.com/title/tt0098987/  The Adventures of Ford Fairlane   \n",
       "1  https://www.imdb.com/title/tt0098994/             After Dark, My Sweet   \n",
       "2  https://www.imdb.com/title/tt0099005/                      Air America   \n",
       "3  https://www.imdb.com/title/tt0099012/                            Alice   \n",
       "4  https://www.imdb.com/title/tt0099018/                  Almost an Angel   \n",
       "\n",
       "                                            Based on  \\\n",
       "0                        [Characters, by Rex Weiner]   \n",
       "1  [the novel, After Dark, My Sweet, by, Jim Thom...   \n",
       "2             [Air America, by, Christopher Robbins]   \n",
       "3                                                NaN   \n",
       "4                                                NaN   \n",
       "\n",
       "                                            Starring         Narrated by  \\\n",
       "0  [Andrew Dice Clay, Wayne Newton, Priscilla Pre...  Andrew \"Dice\" Clay   \n",
       "1  [Jason Patric, Rachel Ward, Bruce Dern, George...                 NaN   \n",
       "2  [Mel Gibson, Robert Downey Jr., Nancy Travis, ...                 NaN   \n",
       "3  [Alec Baldwin, Blythe Danner, Judy Davis, Mia ...                 NaN   \n",
       "4        [Paul Hogan, Elias Koteas, Linda Kozlowski]                 NaN   \n",
       "\n",
       "   Cinematography  Release date Running time        Country  ... Created by  \\\n",
       "0     Oliver Wood          1990  102 minutes  United States  ...        NaN   \n",
       "1    Mark Plummer          1990  114 minutes  United States  ...        NaN   \n",
       "2   Roger Deakins          1990  113 minutes  United States  ...        NaN   \n",
       "3  Carlo Di Palma          1990  106 minutes  United States  ...        NaN   \n",
       "4    Russell Boyd          1990   95 minutes             US  ...        NaN   \n",
       "\n",
       "  Preceded by Suggested by alt_titles Recorded Venue Label Animation by  \\\n",
       "0         NaN          NaN        NaN      NaN   NaN   NaN          NaN   \n",
       "1         NaN          NaN        NaN      NaN   NaN   NaN          NaN   \n",
       "2         NaN          NaN        NaN      NaN   NaN   NaN          NaN   \n",
       "3         NaN          NaN        NaN      NaN   NaN   NaN          NaN   \n",
       "4         NaN          NaN        NaN      NaN   NaN   NaN          NaN   \n",
       "\n",
       "  Color process Screenplay by  \n",
       "0           NaN           NaN  \n",
       "1           NaN           NaN  \n",
       "2           NaN           NaN  \n",
       "3           NaN           NaN  \n",
       "4           NaN           NaN  \n",
       "\n",
       "[5 rows x 38 columns]"
      ]
     },
     "execution_count": 12,
     "metadata": {},
     "output_type": "execute_result"
    }
   ],
   "source": [
    "wiki_movies_df.head(5)"
   ]
  },
  {
   "cell_type": "code",
   "execution_count": 13,
   "id": "ea336099",
   "metadata": {},
   "outputs": [
    {
     "name": "stdout",
     "output_type": "stream",
     "text": [
      "7076\n",
      "7033\n"
     ]
    },
    {
     "data": {
      "text/html": [
       "<div>\n",
       "<style scoped>\n",
       "    .dataframe tbody tr th:only-of-type {\n",
       "        vertical-align: middle;\n",
       "    }\n",
       "\n",
       "    .dataframe tbody tr th {\n",
       "        vertical-align: top;\n",
       "    }\n",
       "\n",
       "    .dataframe thead th {\n",
       "        text-align: right;\n",
       "    }\n",
       "</style>\n",
       "<table border=\"1\" class=\"dataframe\">\n",
       "  <thead>\n",
       "    <tr style=\"text-align: right;\">\n",
       "      <th></th>\n",
       "      <th>url</th>\n",
       "      <th>imdb_link</th>\n",
       "      <th>title</th>\n",
       "      <th>Based on</th>\n",
       "      <th>Starring</th>\n",
       "      <th>Narrated by</th>\n",
       "      <th>Cinematography</th>\n",
       "      <th>Release date</th>\n",
       "      <th>Running time</th>\n",
       "      <th>Country</th>\n",
       "      <th>...</th>\n",
       "      <th>Preceded by</th>\n",
       "      <th>Suggested by</th>\n",
       "      <th>alt_titles</th>\n",
       "      <th>Recorded</th>\n",
       "      <th>Venue</th>\n",
       "      <th>Label</th>\n",
       "      <th>Animation by</th>\n",
       "      <th>Color process</th>\n",
       "      <th>Screenplay by</th>\n",
       "      <th>imdb_id</th>\n",
       "    </tr>\n",
       "  </thead>\n",
       "  <tbody>\n",
       "    <tr>\n",
       "      <th>0</th>\n",
       "      <td>https://en.wikipedia.org/wiki/The_Adventures_o...</td>\n",
       "      <td>https://www.imdb.com/title/tt0098987/</td>\n",
       "      <td>The Adventures of Ford Fairlane</td>\n",
       "      <td>[Characters, by Rex Weiner]</td>\n",
       "      <td>[Andrew Dice Clay, Wayne Newton, Priscilla Pre...</td>\n",
       "      <td>Andrew \"Dice\" Clay</td>\n",
       "      <td>Oliver Wood</td>\n",
       "      <td>1990</td>\n",
       "      <td>102 minutes</td>\n",
       "      <td>United States</td>\n",
       "      <td>...</td>\n",
       "      <td>NaN</td>\n",
       "      <td>NaN</td>\n",
       "      <td>NaN</td>\n",
       "      <td>NaN</td>\n",
       "      <td>NaN</td>\n",
       "      <td>NaN</td>\n",
       "      <td>NaN</td>\n",
       "      <td>NaN</td>\n",
       "      <td>NaN</td>\n",
       "      <td>tt0098987</td>\n",
       "    </tr>\n",
       "    <tr>\n",
       "      <th>1</th>\n",
       "      <td>https://en.wikipedia.org/wiki/After_Dark,_My_S...</td>\n",
       "      <td>https://www.imdb.com/title/tt0098994/</td>\n",
       "      <td>After Dark, My Sweet</td>\n",
       "      <td>[the novel, After Dark, My Sweet, by, Jim Thom...</td>\n",
       "      <td>[Jason Patric, Rachel Ward, Bruce Dern, George...</td>\n",
       "      <td>NaN</td>\n",
       "      <td>Mark Plummer</td>\n",
       "      <td>1990</td>\n",
       "      <td>114 minutes</td>\n",
       "      <td>United States</td>\n",
       "      <td>...</td>\n",
       "      <td>NaN</td>\n",
       "      <td>NaN</td>\n",
       "      <td>NaN</td>\n",
       "      <td>NaN</td>\n",
       "      <td>NaN</td>\n",
       "      <td>NaN</td>\n",
       "      <td>NaN</td>\n",
       "      <td>NaN</td>\n",
       "      <td>NaN</td>\n",
       "      <td>tt0098994</td>\n",
       "    </tr>\n",
       "    <tr>\n",
       "      <th>2</th>\n",
       "      <td>https://en.wikipedia.org/wiki/Air_America_(film)</td>\n",
       "      <td>https://www.imdb.com/title/tt0099005/</td>\n",
       "      <td>Air America</td>\n",
       "      <td>[Air America, by, Christopher Robbins]</td>\n",
       "      <td>[Mel Gibson, Robert Downey Jr., Nancy Travis, ...</td>\n",
       "      <td>NaN</td>\n",
       "      <td>Roger Deakins</td>\n",
       "      <td>1990</td>\n",
       "      <td>113 minutes</td>\n",
       "      <td>United States</td>\n",
       "      <td>...</td>\n",
       "      <td>NaN</td>\n",
       "      <td>NaN</td>\n",
       "      <td>NaN</td>\n",
       "      <td>NaN</td>\n",
       "      <td>NaN</td>\n",
       "      <td>NaN</td>\n",
       "      <td>NaN</td>\n",
       "      <td>NaN</td>\n",
       "      <td>NaN</td>\n",
       "      <td>tt0099005</td>\n",
       "    </tr>\n",
       "    <tr>\n",
       "      <th>3</th>\n",
       "      <td>https://en.wikipedia.org/wiki/Alice_(1990_film)</td>\n",
       "      <td>https://www.imdb.com/title/tt0099012/</td>\n",
       "      <td>Alice</td>\n",
       "      <td>NaN</td>\n",
       "      <td>[Alec Baldwin, Blythe Danner, Judy Davis, Mia ...</td>\n",
       "      <td>NaN</td>\n",
       "      <td>Carlo Di Palma</td>\n",
       "      <td>1990</td>\n",
       "      <td>106 minutes</td>\n",
       "      <td>United States</td>\n",
       "      <td>...</td>\n",
       "      <td>NaN</td>\n",
       "      <td>NaN</td>\n",
       "      <td>NaN</td>\n",
       "      <td>NaN</td>\n",
       "      <td>NaN</td>\n",
       "      <td>NaN</td>\n",
       "      <td>NaN</td>\n",
       "      <td>NaN</td>\n",
       "      <td>NaN</td>\n",
       "      <td>tt0099012</td>\n",
       "    </tr>\n",
       "    <tr>\n",
       "      <th>4</th>\n",
       "      <td>https://en.wikipedia.org/wiki/Almost_an_Angel</td>\n",
       "      <td>https://www.imdb.com/title/tt0099018/</td>\n",
       "      <td>Almost an Angel</td>\n",
       "      <td>NaN</td>\n",
       "      <td>[Paul Hogan, Elias Koteas, Linda Kozlowski]</td>\n",
       "      <td>NaN</td>\n",
       "      <td>Russell Boyd</td>\n",
       "      <td>1990</td>\n",
       "      <td>95 minutes</td>\n",
       "      <td>US</td>\n",
       "      <td>...</td>\n",
       "      <td>NaN</td>\n",
       "      <td>NaN</td>\n",
       "      <td>NaN</td>\n",
       "      <td>NaN</td>\n",
       "      <td>NaN</td>\n",
       "      <td>NaN</td>\n",
       "      <td>NaN</td>\n",
       "      <td>NaN</td>\n",
       "      <td>NaN</td>\n",
       "      <td>tt0099018</td>\n",
       "    </tr>\n",
       "  </tbody>\n",
       "</table>\n",
       "<p>5 rows × 39 columns</p>\n",
       "</div>"
      ],
      "text/plain": [
       "                                                 url  \\\n",
       "0  https://en.wikipedia.org/wiki/The_Adventures_o...   \n",
       "1  https://en.wikipedia.org/wiki/After_Dark,_My_S...   \n",
       "2   https://en.wikipedia.org/wiki/Air_America_(film)   \n",
       "3    https://en.wikipedia.org/wiki/Alice_(1990_film)   \n",
       "4      https://en.wikipedia.org/wiki/Almost_an_Angel   \n",
       "\n",
       "                               imdb_link                            title  \\\n",
       "0  https://www.imdb.com/title/tt0098987/  The Adventures of Ford Fairlane   \n",
       "1  https://www.imdb.com/title/tt0098994/             After Dark, My Sweet   \n",
       "2  https://www.imdb.com/title/tt0099005/                      Air America   \n",
       "3  https://www.imdb.com/title/tt0099012/                            Alice   \n",
       "4  https://www.imdb.com/title/tt0099018/                  Almost an Angel   \n",
       "\n",
       "                                            Based on  \\\n",
       "0                        [Characters, by Rex Weiner]   \n",
       "1  [the novel, After Dark, My Sweet, by, Jim Thom...   \n",
       "2             [Air America, by, Christopher Robbins]   \n",
       "3                                                NaN   \n",
       "4                                                NaN   \n",
       "\n",
       "                                            Starring         Narrated by  \\\n",
       "0  [Andrew Dice Clay, Wayne Newton, Priscilla Pre...  Andrew \"Dice\" Clay   \n",
       "1  [Jason Patric, Rachel Ward, Bruce Dern, George...                 NaN   \n",
       "2  [Mel Gibson, Robert Downey Jr., Nancy Travis, ...                 NaN   \n",
       "3  [Alec Baldwin, Blythe Danner, Judy Davis, Mia ...                 NaN   \n",
       "4        [Paul Hogan, Elias Koteas, Linda Kozlowski]                 NaN   \n",
       "\n",
       "   Cinematography  Release date Running time        Country  ... Preceded by  \\\n",
       "0     Oliver Wood          1990  102 minutes  United States  ...         NaN   \n",
       "1    Mark Plummer          1990  114 minutes  United States  ...         NaN   \n",
       "2   Roger Deakins          1990  113 minutes  United States  ...         NaN   \n",
       "3  Carlo Di Palma          1990  106 minutes  United States  ...         NaN   \n",
       "4    Russell Boyd          1990   95 minutes             US  ...         NaN   \n",
       "\n",
       "  Suggested by alt_titles Recorded Venue Label Animation by Color process  \\\n",
       "0          NaN        NaN      NaN   NaN   NaN          NaN           NaN   \n",
       "1          NaN        NaN      NaN   NaN   NaN          NaN           NaN   \n",
       "2          NaN        NaN      NaN   NaN   NaN          NaN           NaN   \n",
       "3          NaN        NaN      NaN   NaN   NaN          NaN           NaN   \n",
       "4          NaN        NaN      NaN   NaN   NaN          NaN           NaN   \n",
       "\n",
       "  Screenplay by    imdb_id  \n",
       "0           NaN  tt0098987  \n",
       "1           NaN  tt0098994  \n",
       "2           NaN  tt0099005  \n",
       "3           NaN  tt0099012  \n",
       "4           NaN  tt0099018  \n",
       "\n",
       "[5 rows x 39 columns]"
      ]
     },
     "execution_count": 13,
     "metadata": {},
     "output_type": "execute_result"
    }
   ],
   "source": [
    "wiki_movies_df['imdb_id'] = wiki_movies_df['imdb_link'].str.extract(r'(tt\\d{7})')\n",
    "\n",
    "print(len(wiki_movies_df))\n",
    "\n",
    "wiki_movies_df.drop_duplicates(subset='imdb_id', inplace=True)\n",
    "\n",
    "print(len(wiki_movies_df))\n",
    "\n",
    "wiki_movies_df.head()"
   ]
  },
  {
   "cell_type": "code",
   "execution_count": 14,
   "id": "bba7e8b9",
   "metadata": {},
   "outputs": [
    {
     "name": "stdout",
     "output_type": "stream",
     "text": [
      "<class 'pandas.core.frame.DataFrame'>\n",
      "Int64Index: 7033 entries, 0 to 7075\n",
      "Data columns (total 39 columns):\n",
      " #   Column                  Non-Null Count  Dtype \n",
      "---  ------                  --------------  ----- \n",
      " 0   url                     7033 non-null   object\n",
      " 1   imdb_link               7033 non-null   object\n",
      " 2   title                   7032 non-null   object\n",
      " 3   Based on                2181 non-null   object\n",
      " 4   Starring                6849 non-null   object\n",
      " 5   Narrated by             281 non-null    object\n",
      " 6   Cinematography          6342 non-null   object\n",
      " 7   Release date            7033 non-null   int64 \n",
      " 8   Running time            6894 non-null   object\n",
      " 9   Country                 6797 non-null   object\n",
      " 10  Language                6947 non-null   object\n",
      " 11  Budget                  4738 non-null   object\n",
      " 12  Box office              5485 non-null   object\n",
      " 13  Composer(s)             6515 non-null   object\n",
      " 14  Writers                 6834 non-null   object\n",
      " 15  Director                7033 non-null   object\n",
      " 16  Editor(s)               6485 non-null   object\n",
      " 17  Distributor             6676 non-null   object\n",
      " 18  Producer(s)             6831 non-null   object\n",
      " 19  Production company(s)   5355 non-null   object\n",
      " 20  Genre                   110 non-null    object\n",
      " 21  Original network        125 non-null    object\n",
      " 22  Executive producer(s)   97 non-null     object\n",
      " 23  Production location(s)  47 non-null     object\n",
      " 24  Picture format          64 non-null     object\n",
      " 25  Audio format            61 non-null     object\n",
      " 26  Voices of               2 non-null      object\n",
      " 27  Followed by             9 non-null      object\n",
      " 28  Created by              10 non-null     object\n",
      " 29  Preceded by             10 non-null     object\n",
      " 30  Suggested by            1 non-null      object\n",
      " 31  alt_titles              21 non-null     object\n",
      " 32  Recorded                2 non-null      object\n",
      " 33  Venue                   1 non-null      object\n",
      " 34  Label                   2 non-null      object\n",
      " 35  Animation by            2 non-null      object\n",
      " 36  Color process           1 non-null      object\n",
      " 37  Screenplay by           1 non-null      object\n",
      " 38  imdb_id                 7033 non-null   object\n",
      "dtypes: int64(1), object(38)\n",
      "memory usage: 2.1+ MB\n"
     ]
    }
   ],
   "source": [
    "wiki_movies_df.info()"
   ]
  },
  {
   "cell_type": "code",
   "execution_count": 15,
   "id": "d230e0fb",
   "metadata": {},
   "outputs": [
    {
     "data": {
      "text/plain": [
       "[['url', 0],\n",
       " ['imdb_link', 0],\n",
       " ['title', 1],\n",
       " ['Based on', 4852],\n",
       " ['Starring', 184],\n",
       " ['Narrated by', 6752],\n",
       " ['Cinematography', 691],\n",
       " ['Release date', 0],\n",
       " ['Running time', 139],\n",
       " ['Country', 236],\n",
       " ['Language', 86],\n",
       " ['Budget', 2295],\n",
       " ['Box office', 1548],\n",
       " ['Composer(s)', 518],\n",
       " ['Writers', 199],\n",
       " ['Director', 0],\n",
       " ['Editor(s)', 548],\n",
       " ['Distributor', 357],\n",
       " ['Producer(s)', 202],\n",
       " ['Production company(s)', 1678],\n",
       " ['Genre', 6923],\n",
       " ['Original network', 6908],\n",
       " ['Executive producer(s)', 6936],\n",
       " ['Production location(s)', 6986],\n",
       " ['Picture format', 6969],\n",
       " ['Audio format', 6972],\n",
       " ['Voices of', 7031],\n",
       " ['Followed by', 7024],\n",
       " ['Created by', 7023],\n",
       " ['Preceded by', 7023],\n",
       " ['Suggested by', 7032],\n",
       " ['alt_titles', 7012],\n",
       " ['Recorded', 7031],\n",
       " ['Venue', 7032],\n",
       " ['Label', 7031],\n",
       " ['Animation by', 7031],\n",
       " ['Color process', 7032],\n",
       " ['Screenplay by', 7032],\n",
       " ['imdb_id', 0]]"
      ]
     },
     "execution_count": 15,
     "metadata": {},
     "output_type": "execute_result"
    }
   ],
   "source": [
    "[[column,wiki_movies_df[column].isnull().sum()] for column in wiki_movies_df.columns]"
   ]
  },
  {
   "cell_type": "code",
   "execution_count": 16,
   "id": "420b2f9e",
   "metadata": {},
   "outputs": [],
   "source": [
    "wiki_columns_to_keep = [column for column in wiki_movies_df.columns if wiki_movies_df[column].isnull().sum() < len(wiki_movies_df) * 0.9]\n",
    "\n",
    "#wiki_columns_to_keep\n",
    "\n",
    "wiki_movies_df = wiki_movies_df[wiki_columns_to_keep]\n"
   ]
  },
  {
   "cell_type": "code",
   "execution_count": 17,
   "id": "2add5d5e",
   "metadata": {},
   "outputs": [
    {
     "data": {
      "text/plain": [
       "url                      object\n",
       "imdb_link                object\n",
       "title                    object\n",
       "Based on                 object\n",
       "Starring                 object\n",
       "Cinematography           object\n",
       "Release date              int64\n",
       "Running time             object\n",
       "Country                  object\n",
       "Language                 object\n",
       "Budget                   object\n",
       "Box office               object\n",
       "Composer(s)              object\n",
       "Writers                  object\n",
       "Director                 object\n",
       "Editor(s)                object\n",
       "Distributor              object\n",
       "Producer(s)              object\n",
       "Production company(s)    object\n",
       "imdb_id                  object\n",
       "dtype: object"
      ]
     },
     "execution_count": 17,
     "metadata": {},
     "output_type": "execute_result"
    }
   ],
   "source": [
    "wiki_movies_df.dtypes"
   ]
  },
  {
   "cell_type": "code",
   "execution_count": 18,
   "id": "cc9d017d",
   "metadata": {},
   "outputs": [
    {
     "data": {
      "text/html": [
       "<div>\n",
       "<style scoped>\n",
       "    .dataframe tbody tr th:only-of-type {\n",
       "        vertical-align: middle;\n",
       "    }\n",
       "\n",
       "    .dataframe tbody tr th {\n",
       "        vertical-align: top;\n",
       "    }\n",
       "\n",
       "    .dataframe thead th {\n",
       "        text-align: right;\n",
       "    }\n",
       "</style>\n",
       "<table border=\"1\" class=\"dataframe\">\n",
       "  <thead>\n",
       "    <tr style=\"text-align: right;\">\n",
       "      <th></th>\n",
       "      <th>url</th>\n",
       "      <th>imdb_link</th>\n",
       "      <th>title</th>\n",
       "      <th>Based on</th>\n",
       "      <th>Starring</th>\n",
       "      <th>Cinematography</th>\n",
       "      <th>Release date</th>\n",
       "      <th>Running time</th>\n",
       "      <th>Country</th>\n",
       "      <th>Language</th>\n",
       "      <th>Budget</th>\n",
       "      <th>Box office</th>\n",
       "      <th>Composer(s)</th>\n",
       "      <th>Writers</th>\n",
       "      <th>Director</th>\n",
       "      <th>Editor(s)</th>\n",
       "      <th>Distributor</th>\n",
       "      <th>Producer(s)</th>\n",
       "      <th>Production company(s)</th>\n",
       "      <th>imdb_id</th>\n",
       "    </tr>\n",
       "  </thead>\n",
       "  <tbody>\n",
       "    <tr>\n",
       "      <th>0</th>\n",
       "      <td>https://en.wikipedia.org/wiki/The_Adventures_o...</td>\n",
       "      <td>https://www.imdb.com/title/tt0098987/</td>\n",
       "      <td>The Adventures of Ford Fairlane</td>\n",
       "      <td>[Characters, by Rex Weiner]</td>\n",
       "      <td>[Andrew Dice Clay, Wayne Newton, Priscilla Pre...</td>\n",
       "      <td>Oliver Wood</td>\n",
       "      <td>1990</td>\n",
       "      <td>102 minutes</td>\n",
       "      <td>United States</td>\n",
       "      <td>English</td>\n",
       "      <td>$20 million</td>\n",
       "      <td>$21.4 million</td>\n",
       "      <td>[Cliff Eidelman, Yello]</td>\n",
       "      <td>[David Arnott, James Cappe, Daniel Waters]</td>\n",
       "      <td>Renny Harlin</td>\n",
       "      <td>Michael Tronick</td>\n",
       "      <td>20th Century Fox</td>\n",
       "      <td>[Steve Perry, Joel Silver]</td>\n",
       "      <td>Silver Pictures</td>\n",
       "      <td>tt0098987</td>\n",
       "    </tr>\n",
       "    <tr>\n",
       "      <th>1</th>\n",
       "      <td>https://en.wikipedia.org/wiki/After_Dark,_My_S...</td>\n",
       "      <td>https://www.imdb.com/title/tt0098994/</td>\n",
       "      <td>After Dark, My Sweet</td>\n",
       "      <td>[the novel, After Dark, My Sweet, by, Jim Thom...</td>\n",
       "      <td>[Jason Patric, Rachel Ward, Bruce Dern, George...</td>\n",
       "      <td>Mark Plummer</td>\n",
       "      <td>1990</td>\n",
       "      <td>114 minutes</td>\n",
       "      <td>United States</td>\n",
       "      <td>English</td>\n",
       "      <td>$6 million</td>\n",
       "      <td>$2.7 million</td>\n",
       "      <td>Maurice Jarre</td>\n",
       "      <td>[James Foley, Robert Redlin]</td>\n",
       "      <td>James Foley</td>\n",
       "      <td>Howard E. Smith</td>\n",
       "      <td>Avenue Pictures</td>\n",
       "      <td>[Ric Kidney, Robert Redlin]</td>\n",
       "      <td>Avenue Pictures</td>\n",
       "      <td>tt0098994</td>\n",
       "    </tr>\n",
       "  </tbody>\n",
       "</table>\n",
       "</div>"
      ],
      "text/plain": [
       "                                                 url  \\\n",
       "0  https://en.wikipedia.org/wiki/The_Adventures_o...   \n",
       "1  https://en.wikipedia.org/wiki/After_Dark,_My_S...   \n",
       "\n",
       "                               imdb_link                            title  \\\n",
       "0  https://www.imdb.com/title/tt0098987/  The Adventures of Ford Fairlane   \n",
       "1  https://www.imdb.com/title/tt0098994/             After Dark, My Sweet   \n",
       "\n",
       "                                            Based on  \\\n",
       "0                        [Characters, by Rex Weiner]   \n",
       "1  [the novel, After Dark, My Sweet, by, Jim Thom...   \n",
       "\n",
       "                                            Starring Cinematography  \\\n",
       "0  [Andrew Dice Clay, Wayne Newton, Priscilla Pre...    Oliver Wood   \n",
       "1  [Jason Patric, Rachel Ward, Bruce Dern, George...   Mark Plummer   \n",
       "\n",
       "   Release date Running time        Country Language       Budget  \\\n",
       "0          1990  102 minutes  United States  English  $20 million   \n",
       "1          1990  114 minutes  United States  English   $6 million   \n",
       "\n",
       "      Box office              Composer(s)  \\\n",
       "0  $21.4 million  [Cliff Eidelman, Yello]   \n",
       "1   $2.7 million            Maurice Jarre   \n",
       "\n",
       "                                      Writers      Director        Editor(s)  \\\n",
       "0  [David Arnott, James Cappe, Daniel Waters]  Renny Harlin  Michael Tronick   \n",
       "1                [James Foley, Robert Redlin]   James Foley  Howard E. Smith   \n",
       "\n",
       "        Distributor                  Producer(s) Production company(s)  \\\n",
       "0  20th Century Fox   [Steve Perry, Joel Silver]       Silver Pictures   \n",
       "1   Avenue Pictures  [Ric Kidney, Robert Redlin]       Avenue Pictures   \n",
       "\n",
       "     imdb_id  \n",
       "0  tt0098987  \n",
       "1  tt0098994  "
      ]
     },
     "execution_count": 18,
     "metadata": {},
     "output_type": "execute_result"
    }
   ],
   "source": [
    "wiki_movies_df.head(2)"
   ]
  },
  {
   "cell_type": "markdown",
   "id": "adeb299b",
   "metadata": {},
   "source": [
    "### Parse the box office data"
   ]
  },
  {
   "cell_type": "code",
   "execution_count": 19,
   "id": "a351ad24",
   "metadata": {},
   "outputs": [],
   "source": [
    "box_office = wiki_movies_df['Box office'].dropna()"
   ]
  },
  {
   "cell_type": "code",
   "execution_count": 20,
   "id": "956a2960",
   "metadata": {},
   "outputs": [],
   "source": [
    "box_office = box_office.apply(lambda x: ' '.join(x) if type(x) == list else x)"
   ]
  },
  {
   "cell_type": "code",
   "execution_count": 21,
   "id": "e70782e6",
   "metadata": {},
   "outputs": [],
   "source": [
    "box_office = box_office.str.replace(r'\\$.*[-—–](?![a-z])', '$', regex=True)"
   ]
  },
  {
   "cell_type": "code",
   "execution_count": 22,
   "id": "76d1e7cb",
   "metadata": {},
   "outputs": [],
   "source": [
    "# Create a regex to parse the box office data\n",
    "\n",
    "form_one = r'\\$*\\d+\\.?\\d*\\s*[mb]illi?on'\n",
    "\n",
    "form_two = r'\\$*\\d{1,3}(?:[,\\.]\\d{3})+(?!\\s[mb]illion)'"
   ]
  },
  {
   "cell_type": "code",
   "execution_count": 23,
   "id": "31456d6f",
   "metadata": {},
   "outputs": [
    {
     "name": "stdout",
     "output_type": "stream",
     "text": [
      "443  -----  $5000 (US)\n",
      "1405  -----  N/A\n",
      "1442  -----  $309\n",
      "2694  -----  TBA\n",
      "2950  -----  $34.9 Million\n",
      "3175  -----  $30\n",
      "3365  -----  $45.2k (only in Turkey)\n",
      "4170  -----  £2.56\n",
      "4400  -----  413 733$\n",
      "4562  -----  Unknown\n",
      "4828  -----  $111k\n",
      "4828  -----  $588\n",
      "5043  -----  less than $372\n",
      "5258  -----  8 crore\n"
     ]
    }
   ],
   "source": [
    "cnt = 0\n",
    "for movie in box_office:\n",
    "#    print(movie)\n",
    "    try:\n",
    "        a = re.search(form_one, movie, flags=0)\n",
    "        b = re.search(form_two, movie, flags=0)\n",
    "\n",
    "        \n",
    "        if a or b:\n",
    "            cnt +=1\n",
    "#            print(cnt)\n",
    "        else:\n",
    "            print(f'{cnt}  -----  {movie}')\n",
    "\n",
    "    except:\n",
    "        print('some kind of problem *********************************')"
   ]
  },
  {
   "cell_type": "code",
   "execution_count": 24,
   "id": "ddf70eda",
   "metadata": {},
   "outputs": [],
   "source": [
    "def parse_dollars(s):\n",
    "    # if s is not a string, return NaN\n",
    "    if type(s) != str:\n",
    "        return np.nan\n",
    "    \n",
    "    # if input is of the form $###.# million\n",
    "    if re.match(r'\\$\\s*\\d+\\.?\\d*\\s*milli?on', s, flags=re.IGNORECASE):\n",
    "        \n",
    "        # remove dollar sign and \" million\"\n",
    "        s = re.sub('\\$|\\s|[a-zA-Z]','', s)\n",
    "        \n",
    "        # convert to float and multiply by a million\n",
    "        value = float(s) * 10**6\n",
    "\n",
    "        # return value\n",
    "        return value\n",
    "\n",
    "    # if input is of the form $###.# billion\n",
    "    elif re.match(r'\\$\\s*\\d+\\.?\\d*\\s*billi?on', s, flags=re.IGNORECASE):\n",
    "        \n",
    "        # remove dollar sign and \" billion\"\n",
    "        s = re.sub('\\$|\\s|[a-zA-Z]','', s)\n",
    "        \n",
    "        # convert to float and multiply by a billion\n",
    "        value = float(s) * 10**9\n",
    "        \n",
    "        # return value\n",
    "        return value\n",
    "        \n",
    "    # if input is of the form $###,###,###\n",
    "    elif re.match(r'\\$*\\d{1,3}(?:[,\\.]\\d{3})+(?!\\s[mb]illion)', s, flags=re.IGNORECASE):\n",
    "    \n",
    "        # remove dollar sign and commas\n",
    "        s = re.sub('\\$|,','', s)\n",
    "        \n",
    "        # convert to float\n",
    "        value = float(s)\n",
    "        \n",
    "        # return value\n",
    "        return value\n",
    "    \n",
    "    # otherwise, return NaN\n",
    "    else:\n",
    "        return np.nan"
   ]
  },
  {
   "cell_type": "code",
   "execution_count": 25,
   "id": "f225be1f",
   "metadata": {},
   "outputs": [],
   "source": [
    "wiki_movies_df['box_office'] = box_office.str.extract(f'({form_one}|{form_two})', flags=re.IGNORECASE)[0].apply(parse_dollars)"
   ]
  },
  {
   "cell_type": "code",
   "execution_count": 26,
   "id": "6904b409",
   "metadata": {},
   "outputs": [
    {
     "data": {
      "text/plain": [
       "0       21400000.0\n",
       "1        2700000.0\n",
       "2       57718089.0\n",
       "3        7331647.0\n",
       "4        6939946.0\n",
       "           ...    \n",
       "7071    41900000.0\n",
       "7072    76100000.0\n",
       "7073    38400000.0\n",
       "7074     5500000.0\n",
       "7075           NaN\n",
       "Name: box_office, Length: 7033, dtype: float64"
      ]
     },
     "execution_count": 26,
     "metadata": {},
     "output_type": "execute_result"
    }
   ],
   "source": [
    "wiki_movies_df['box_office']"
   ]
  },
  {
   "cell_type": "code",
   "execution_count": 27,
   "id": "dd81981b",
   "metadata": {},
   "outputs": [],
   "source": [
    "wiki_movies_df.drop('Box office', axis=1, inplace=True)"
   ]
  },
  {
   "cell_type": "markdown",
   "id": "cb953dec",
   "metadata": {},
   "source": [
    "### Parse the budget"
   ]
  },
  {
   "cell_type": "code",
   "execution_count": 28,
   "id": "bb4f6d7d",
   "metadata": {},
   "outputs": [],
   "source": [
    "budget = wiki_movies_df['Budget'].dropna()"
   ]
  },
  {
   "cell_type": "code",
   "execution_count": 29,
   "id": "6f48384a",
   "metadata": {},
   "outputs": [],
   "source": [
    "budget = budget.apply(lambda x: ' '.join(x) if type(x) == list else x)"
   ]
  },
  {
   "cell_type": "code",
   "execution_count": 30,
   "id": "222b797d",
   "metadata": {},
   "outputs": [],
   "source": [
    "budget = budget.str.replace(r'\\$.*[-—–](?![a-z])', '$', regex=True)"
   ]
  },
  {
   "cell_type": "code",
   "execution_count": 31,
   "id": "cad9c352",
   "metadata": {},
   "outputs": [],
   "source": [
    "budget = budget.str.replace(r'\\[\\d+\\]\\s*', '', regex=True)"
   ]
  },
  {
   "cell_type": "code",
   "execution_count": 32,
   "id": "0dbb98cc",
   "metadata": {},
   "outputs": [
    {
     "name": "stdout",
     "output_type": "stream",
     "text": [
      "65 ---- Unknown\n",
      "258 ---- Unknown\n",
      "695 ---- Unknown\n",
      "722 ---- HBO\n",
      "1254 ---- $14 milion\n",
      "2143 ---- $218.32\n",
      "2514 ---- N/A\n",
      "2846 ---- 19 crore\n",
      "3606 ---- N/A\n",
      "3754 ---- $ dead link]\n",
      "4046 ---- $1.5 Million\n",
      "4571 ---- 3.5 crore\n"
     ]
    }
   ],
   "source": [
    "cnt = 0\n",
    "for bud in budget:\n",
    "#    print(bud)\n",
    "    try:\n",
    "        a = re.search(form_one, bud, flags=0)\n",
    "        b = re.search(form_two, bud, flags=0)\n",
    "\n",
    "        \n",
    "        if a or b:\n",
    "            cnt +=1\n",
    "          #  print(f'matched - {cnt}')\n",
    "        else:\n",
    "            print(f'{cnt} ---- {bud}')\n",
    "\n",
    "    except:\n",
    "        print('some kind of problem*******************************************')"
   ]
  },
  {
   "cell_type": "code",
   "execution_count": 33,
   "id": "25ff0021",
   "metadata": {},
   "outputs": [
    {
     "data": {
      "text/plain": [
       "0       20000000.0\n",
       "1        6000000.0\n",
       "2       35000000.0\n",
       "3       12000000.0\n",
       "4       25000000.0\n",
       "           ...    \n",
       "7071    42000000.0\n",
       "7072    60000000.0\n",
       "7073    20000000.0\n",
       "7074     9000000.0\n",
       "7075           NaN\n",
       "Name: budget, Length: 7033, dtype: float64"
      ]
     },
     "execution_count": 33,
     "metadata": {},
     "output_type": "execute_result"
    }
   ],
   "source": [
    "wiki_movies_df['budget'] = budget.str.extract(f'({form_one}|{form_two})', flags=re.IGNORECASE)[0].apply(parse_dollars)\n",
    "\n",
    "wiki_movies_df['budget'] "
   ]
  },
  {
   "cell_type": "code",
   "execution_count": 34,
   "id": "a5a8dc0a",
   "metadata": {},
   "outputs": [],
   "source": [
    "wiki_movies_df.drop('Budget', axis=1, inplace=True)"
   ]
  },
  {
   "cell_type": "markdown",
   "id": "9f01c5c2",
   "metadata": {},
   "source": [
    "### Parse the release date"
   ]
  },
  {
   "cell_type": "code",
   "execution_count": 35,
   "id": "2c7dd636",
   "metadata": {},
   "outputs": [],
   "source": [
    "release_date = wiki_movies_df['Release date'].dropna().apply(lambda x: ' '.join(x) if type(x) == list else x)"
   ]
  },
  {
   "cell_type": "code",
   "execution_count": 36,
   "id": "cb186e16",
   "metadata": {
    "scrolled": true
   },
   "outputs": [
    {
     "data": {
      "text/plain": [
       "dtype('int64')"
      ]
     },
     "execution_count": 36,
     "metadata": {},
     "output_type": "execute_result"
    }
   ],
   "source": [
    "release_date.dtype"
   ]
  },
  {
   "cell_type": "code",
   "execution_count": 37,
   "id": "0b9c6dbc",
   "metadata": {},
   "outputs": [],
   "source": [
    "# This conversion is required to eliminate \"AttributeError: Can only use .str accessor with string values!\"\n",
    "\n",
    "release_date_str = release_date.astype(str)"
   ]
  },
  {
   "cell_type": "code",
   "execution_count": 38,
   "id": "f9970703",
   "metadata": {},
   "outputs": [
    {
     "data": {
      "text/plain": [
       "dtype('O')"
      ]
     },
     "execution_count": 38,
     "metadata": {},
     "output_type": "execute_result"
    }
   ],
   "source": [
    "release_date_str.dtype"
   ]
  },
  {
   "cell_type": "code",
   "execution_count": 39,
   "id": "e37ac417",
   "metadata": {},
   "outputs": [],
   "source": [
    "# Create regex forms for parsing the release date data\n",
    "#rd_form_one = r'[A-Za-z]*\\s+\\d{1,2}\\s,\\d{4}'\n",
    "#rd_form_two = r'\\d{4}).\\d{2}.\\d{2}'\n",
    "#rd_form_three = r'[A-Za-z]+\\s+\\d{4}$'\n",
    "#rd_form_four = r'^\\d{4}$'\n",
    "\n",
    "date_form_one = r'(?:January|February|March|April|May|June|July|August|September|October|November|December)\\s[123]?\\d,\\s\\d{4}'\n",
    "date_form_two = r'\\d{4}.[01]\\d.[0123]\\d'\n",
    "date_form_three = r'(?:January|February|March|April|May|June|July|August|September|October|November|December)\\s\\d{4}'\n",
    "date_form_four = r'\\d{4}'"
   ]
  },
  {
   "cell_type": "code",
   "execution_count": 40,
   "id": "953e02f6",
   "metadata": {},
   "outputs": [
    {
     "data": {
      "text/html": [
       "<div>\n",
       "<style scoped>\n",
       "    .dataframe tbody tr th:only-of-type {\n",
       "        vertical-align: middle;\n",
       "    }\n",
       "\n",
       "    .dataframe tbody tr th {\n",
       "        vertical-align: top;\n",
       "    }\n",
       "\n",
       "    .dataframe thead th {\n",
       "        text-align: right;\n",
       "    }\n",
       "</style>\n",
       "<table border=\"1\" class=\"dataframe\">\n",
       "  <thead>\n",
       "    <tr style=\"text-align: right;\">\n",
       "      <th></th>\n",
       "      <th>0</th>\n",
       "    </tr>\n",
       "  </thead>\n",
       "  <tbody>\n",
       "    <tr>\n",
       "      <th>0</th>\n",
       "      <td>1990</td>\n",
       "    </tr>\n",
       "    <tr>\n",
       "      <th>1</th>\n",
       "      <td>1990</td>\n",
       "    </tr>\n",
       "    <tr>\n",
       "      <th>2</th>\n",
       "      <td>1990</td>\n",
       "    </tr>\n",
       "    <tr>\n",
       "      <th>3</th>\n",
       "      <td>1990</td>\n",
       "    </tr>\n",
       "    <tr>\n",
       "      <th>4</th>\n",
       "      <td>1990</td>\n",
       "    </tr>\n",
       "    <tr>\n",
       "      <th>...</th>\n",
       "      <td>...</td>\n",
       "    </tr>\n",
       "    <tr>\n",
       "      <th>7071</th>\n",
       "      <td>2018</td>\n",
       "    </tr>\n",
       "    <tr>\n",
       "      <th>7072</th>\n",
       "      <td>2018</td>\n",
       "    </tr>\n",
       "    <tr>\n",
       "      <th>7073</th>\n",
       "      <td>2018</td>\n",
       "    </tr>\n",
       "    <tr>\n",
       "      <th>7074</th>\n",
       "      <td>2018</td>\n",
       "    </tr>\n",
       "    <tr>\n",
       "      <th>7075</th>\n",
       "      <td>2018</td>\n",
       "    </tr>\n",
       "  </tbody>\n",
       "</table>\n",
       "<p>7033 rows × 1 columns</p>\n",
       "</div>"
      ],
      "text/plain": [
       "         0\n",
       "0     1990\n",
       "1     1990\n",
       "2     1990\n",
       "3     1990\n",
       "4     1990\n",
       "...    ...\n",
       "7071  2018\n",
       "7072  2018\n",
       "7073  2018\n",
       "7074  2018\n",
       "7075  2018\n",
       "\n",
       "[7033 rows x 1 columns]"
      ]
     },
     "execution_count": 40,
     "metadata": {},
     "output_type": "execute_result"
    }
   ],
   "source": [
    "release_date_str.str.extract(f'({date_form_one}|{date_form_two}|{date_form_three}|{date_form_four})', flags=re.IGNORECASE)\n",
    "\n",
    "#release_date.str.extract(f'({rd_form_one}|{rd_form_two}|{rd_form_three}|{rd_form_four})', flags=re.IGNORECASE)"
   ]
  },
  {
   "cell_type": "code",
   "execution_count": 41,
   "id": "51953e62",
   "metadata": {},
   "outputs": [],
   "source": [
    "wiki_movies_df['release_date'] = pd.to_datetime(release_date_str.str.extract(f'({date_form_one}|{date_form_two}|{date_form_three}|{date_form_four})')[0], infer_datetime_format=True)"
   ]
  },
  {
   "cell_type": "code",
   "execution_count": 42,
   "id": "17613944",
   "metadata": {},
   "outputs": [],
   "source": [
    "wiki_movies_df.drop('Release date', axis=1, inplace=True)   "
   ]
  },
  {
   "cell_type": "markdown",
   "id": "fe9176da",
   "metadata": {},
   "source": [
    "### Parse the running time"
   ]
  },
  {
   "cell_type": "code",
   "execution_count": 43,
   "id": "91010c6e",
   "metadata": {},
   "outputs": [],
   "source": [
    "running_time = wiki_movies_df['Running time'].dropna().apply(lambda x: ' '.join(x) if type(x) == list else x)"
   ]
  },
  {
   "cell_type": "code",
   "execution_count": 44,
   "id": "9b3862dc",
   "metadata": {},
   "outputs": [
    {
     "data": {
      "text/plain": [
       "9                                                 102 min\n",
       "26                                                 93 min\n",
       "28                                                32 min.\n",
       "34                                                101 min\n",
       "35                                                 97 min\n",
       "                              ...                        \n",
       "6500       114 minutes [1] 120 minutes (extended edition)\n",
       "6643                                             104 mins\n",
       "6709    90 minutes (theatrical) [1] 91 minutes (unrate...\n",
       "7057    108 minutes (Original cut) 98 minutes (UK cut)...\n",
       "7075                Variable; 90 minutes for default path\n",
       "Name: Running time, Length: 366, dtype: object"
      ]
     },
     "execution_count": 44,
     "metadata": {},
     "output_type": "execute_result"
    }
   ],
   "source": [
    "running_time[running_time.str.contains(r'^\\d*\\s*minutes$', flags=re.IGNORECASE, na=False) != True]"
   ]
  },
  {
   "cell_type": "code",
   "execution_count": 45,
   "id": "402f46a9",
   "metadata": {},
   "outputs": [
    {
     "data": {
      "text/plain": [
       "6877"
      ]
     },
     "execution_count": 45,
     "metadata": {},
     "output_type": "execute_result"
    }
   ],
   "source": [
    "running_time.str.contains(r'^\\d*\\s*m', flags=re.IGNORECASE, na=False).sum()"
   ]
  },
  {
   "cell_type": "code",
   "execution_count": 46,
   "id": "a7d67c0f",
   "metadata": {},
   "outputs": [
    {
     "data": {
      "text/plain": [
       "668                     UK:84 min (DVD version) US:86 min\n",
       "727                         78-102 min (depending on cut)\n",
       "840                       Varies (79 [3] –84 [1] minutes)\n",
       "1347                                              25 : 03\n",
       "1443    United States: 77 minutes Argentina: 94 minute...\n",
       "1499                                            1hr 35min\n",
       "1551                                               varies\n",
       "1774                    Netherlands:96 min, Canada:95 min\n",
       "1777                                       approx. 14 min\n",
       "2273                                           1 h 43 min\n",
       "2993                                               1h 48m\n",
       "3925                                              4 hours\n",
       "4425    US domestic version: 86 minutes Original versi...\n",
       "4967    Theatrical cut: 97 minutes Unrated cut: 107 mi...\n",
       "5424                    115 [1] /123 [2] /128 [3] minutes\n",
       "5447                                    1 hour 32 minutes\n",
       "7075                Variable; 90 minutes for default path\n",
       "Name: Running time, dtype: object"
      ]
     },
     "execution_count": 46,
     "metadata": {},
     "output_type": "execute_result"
    }
   ],
   "source": [
    "running_time[running_time.str.contains(r'^\\d*\\s*m', flags=re.IGNORECASE, na=False) != True]"
   ]
  },
  {
   "cell_type": "code",
   "execution_count": 47,
   "id": "72daa59c",
   "metadata": {},
   "outputs": [],
   "source": [
    "running_time_extract = running_time.str.extract(r'(\\d+)\\s*ho?u?r?s?\\s*(\\d*)|(\\d+)\\s*m')"
   ]
  },
  {
   "cell_type": "code",
   "execution_count": 48,
   "id": "95cae694",
   "metadata": {},
   "outputs": [],
   "source": [
    "running_time_extract = running_time_extract.apply(lambda col: pd.to_numeric(col, errors='coerce')).fillna(0)"
   ]
  },
  {
   "cell_type": "code",
   "execution_count": 49,
   "id": "95f8321b",
   "metadata": {},
   "outputs": [],
   "source": [
    "wiki_movies_df['running_time'] = running_time_extract.apply(lambda row: row[0]*60 + row[1] if row[2] == 0 else row[2], axis=1)"
   ]
  },
  {
   "cell_type": "code",
   "execution_count": 50,
   "id": "22dab47a",
   "metadata": {},
   "outputs": [],
   "source": [
    "wiki_movies_df.drop('Running time', axis=1, inplace=True)        "
   ]
  },
  {
   "cell_type": "markdown",
   "id": "2c0e0d33",
   "metadata": {},
   "source": [
    "### Review and clean the Kaggle dataset"
   ]
  },
  {
   "cell_type": "code",
   "execution_count": 51,
   "id": "ae3d8805",
   "metadata": {},
   "outputs": [],
   "source": [
    "kaggle_metadata_df = kaggle_metadata_df[kaggle_metadata_df['adult'] == 'False'].drop('adult',axis='columns')"
   ]
  },
  {
   "cell_type": "code",
   "execution_count": 52,
   "id": "1cbb8335",
   "metadata": {},
   "outputs": [
    {
     "data": {
      "text/plain": [
       "False    45358\n",
       "True        93\n",
       "Name: video, dtype: int64"
      ]
     },
     "execution_count": 52,
     "metadata": {},
     "output_type": "execute_result"
    }
   ],
   "source": [
    "kaggle_metadata_df['video'].value_counts()"
   ]
  },
  {
   "cell_type": "code",
   "execution_count": 53,
   "id": "29326ef8",
   "metadata": {},
   "outputs": [],
   "source": [
    "kaggle_metadata_df['video'] == 'True'\n",
    "kaggle_metadata_df['budget'] = kaggle_metadata_df['budget'].astype(int)\n",
    "kaggle_metadata_df['id'] = pd.to_numeric(kaggle_metadata_df['id'], errors='raise')\n",
    "kaggle_metadata_df['popularity'] = pd.to_numeric(kaggle_metadata_df['popularity'], errors='raise')\n",
    "kaggle_metadata_df['release_date'] = pd.to_datetime(kaggle_metadata_df['release_date'])"
   ]
  },
  {
   "cell_type": "markdown",
   "id": "91a49768",
   "metadata": {},
   "source": [
    "### Review and clean the Ratings data"
   ]
  },
  {
   "cell_type": "code",
   "execution_count": 54,
   "id": "8ed99ca9",
   "metadata": {},
   "outputs": [
    {
     "name": "stderr",
     "output_type": "stream",
     "text": [
      "C:\\Users\\azinc\\Anaconda3\\envs\\Pythondata\\lib\\site-packages\\ipykernel_launcher.py:1: FutureWarning: null_counts is deprecated. Use show_counts instead\n",
      "  \"\"\"Entry point for launching an IPython kernel.\n"
     ]
    },
    {
     "name": "stdout",
     "output_type": "stream",
     "text": [
      "<class 'pandas.core.frame.DataFrame'>\n",
      "RangeIndex: 26024289 entries, 0 to 26024288\n",
      "Data columns (total 4 columns):\n",
      " #   Column     Non-Null Count     Dtype  \n",
      "---  ------     --------------     -----  \n",
      " 0   userId     26024289 non-null  int64  \n",
      " 1   movieId    26024289 non-null  int64  \n",
      " 2   rating     26024289 non-null  float64\n",
      " 3   timestamp  26024289 non-null  int64  \n",
      "dtypes: float64(1), int64(3)\n",
      "memory usage: 794.2 MB\n"
     ]
    }
   ],
   "source": [
    "ratings_df.info(null_counts=True)"
   ]
  },
  {
   "cell_type": "code",
   "execution_count": 55,
   "id": "2c0dab5a",
   "metadata": {},
   "outputs": [],
   "source": [
    "ratings_df['timestamp'] = pd.to_datetime(ratings_df['timestamp'], unit='s')"
   ]
  },
  {
   "cell_type": "code",
   "execution_count": 56,
   "id": "3dba7f3b",
   "metadata": {},
   "outputs": [
    {
     "data": {
      "text/plain": [
       "count          26,024,289.00\n",
       "mean                    3.53\n",
       "std                     1.07\n",
       "min                     0.50\n",
       "25%                     3.00\n",
       "50%                     3.50\n",
       "75%                     4.00\n",
       "max                     5.00\n",
       "Name: rating, dtype: float64"
      ]
     },
     "execution_count": 56,
     "metadata": {},
     "output_type": "execute_result"
    },
    {
     "data": {
      "image/png": "[encoded data removed]",
      "text/plain": [
       "<Figure size 432x288 with 1 Axes>"
      ]
     },
     "metadata": {
      "needs_background": "light"
     },
     "output_type": "display_data"
    }
   ],
   "source": [
    "pd.options.display.float_format = '{:20,.2f}'.format\n",
    "ratings_df['rating'].plot(kind='hist')\n",
    "ratings_df['rating'].describe()"
   ]
  },
  {
   "cell_type": "markdown",
   "id": "448715b5",
   "metadata": {},
   "source": [
    "### Merge the datasets into a single DataFrame"
   ]
  },
  {
   "cell_type": "code",
   "execution_count": 57,
   "id": "46c66cf2",
   "metadata": {},
   "outputs": [],
   "source": [
    "movies_df = pd.merge(wiki_movies_df, kaggle_metadata_df, on='imdb_id', suffixes=['_wiki','_kaggle'])"
   ]
  },
  {
   "cell_type": "code",
   "execution_count": 58,
   "id": "e7656719",
   "metadata": {},
   "outputs": [
    {
     "data": {
      "text/plain": [
       "['url',\n",
       " 'imdb_link',\n",
       " 'title_wiki',\n",
       " 'Based on',\n",
       " 'Starring',\n",
       " 'Cinematography',\n",
       " 'Country',\n",
       " 'Language',\n",
       " 'Composer(s)',\n",
       " 'Writers',\n",
       " 'Director',\n",
       " 'Editor(s)',\n",
       " 'Distributor',\n",
       " 'Producer(s)',\n",
       " 'Production company(s)',\n",
       " 'imdb_id',\n",
       " 'box_office',\n",
       " 'budget_wiki',\n",
       " 'release_date_wiki',\n",
       " 'running_time',\n",
       " 'belongs_to_collection',\n",
       " 'budget_kaggle',\n",
       " 'genres',\n",
       " 'homepage',\n",
       " 'id',\n",
       " 'original_language',\n",
       " 'original_title',\n",
       " 'overview',\n",
       " 'popularity',\n",
       " 'poster_path',\n",
       " 'production_companies',\n",
       " 'production_countries',\n",
       " 'release_date_kaggle',\n",
       " 'revenue',\n",
       " 'runtime',\n",
       " 'spoken_languages',\n",
       " 'status',\n",
       " 'tagline',\n",
       " 'title_kaggle',\n",
       " 'video',\n",
       " 'vote_average',\n",
       " 'vote_count']"
      ]
     },
     "execution_count": 58,
     "metadata": {},
     "output_type": "execute_result"
    }
   ],
   "source": [
    "movies_df.columns.tolist()"
   ]
  },
  {
   "cell_type": "markdown",
   "id": "19c162c2",
   "metadata": {},
   "source": [
    "### Review duplicate column data - decide which to use..."
   ]
  },
  {
   "cell_type": "code",
   "execution_count": 59,
   "id": "2b17a7a5",
   "metadata": {},
   "outputs": [
    {
     "data": {
      "text/html": [
       "<div>\n",
       "<style scoped>\n",
       "    .dataframe tbody tr th:only-of-type {\n",
       "        vertical-align: middle;\n",
       "    }\n",
       "\n",
       "    .dataframe tbody tr th {\n",
       "        vertical-align: top;\n",
       "    }\n",
       "\n",
       "    .dataframe thead th {\n",
       "        text-align: right;\n",
       "    }\n",
       "</style>\n",
       "<table border=\"1\" class=\"dataframe\">\n",
       "  <thead>\n",
       "    <tr style=\"text-align: right;\">\n",
       "      <th></th>\n",
       "      <th>title_wiki</th>\n",
       "      <th>title_kaggle</th>\n",
       "    </tr>\n",
       "  </thead>\n",
       "  <tbody>\n",
       "    <tr>\n",
       "      <th>0</th>\n",
       "      <td>The Adventures of Ford Fairlane</td>\n",
       "      <td>The Adventures of Ford Fairlane</td>\n",
       "    </tr>\n",
       "    <tr>\n",
       "      <th>1</th>\n",
       "      <td>After Dark, My Sweet</td>\n",
       "      <td>After Dark, My Sweet</td>\n",
       "    </tr>\n",
       "    <tr>\n",
       "      <th>2</th>\n",
       "      <td>Air America</td>\n",
       "      <td>Air America</td>\n",
       "    </tr>\n",
       "    <tr>\n",
       "      <th>3</th>\n",
       "      <td>Alice</td>\n",
       "      <td>Alice</td>\n",
       "    </tr>\n",
       "    <tr>\n",
       "      <th>4</th>\n",
       "      <td>Almost an Angel</td>\n",
       "      <td>Almost an Angel</td>\n",
       "    </tr>\n",
       "    <tr>\n",
       "      <th>...</th>\n",
       "      <td>...</td>\n",
       "      <td>...</td>\n",
       "    </tr>\n",
       "    <tr>\n",
       "      <th>6047</th>\n",
       "      <td>A Fantastic Woman</td>\n",
       "      <td>A Fantastic Woman</td>\n",
       "    </tr>\n",
       "    <tr>\n",
       "      <th>6048</th>\n",
       "      <td>Permission</td>\n",
       "      <td>Permission</td>\n",
       "    </tr>\n",
       "    <tr>\n",
       "      <th>6049</th>\n",
       "      <td>Loveless</td>\n",
       "      <td>Loveless</td>\n",
       "    </tr>\n",
       "    <tr>\n",
       "      <th>6050</th>\n",
       "      <td>Gemini</td>\n",
       "      <td>Gemini</td>\n",
       "    </tr>\n",
       "    <tr>\n",
       "      <th>6051</th>\n",
       "      <td>How to Talk to Girls at Parties</td>\n",
       "      <td>How to Talk to Girls at Parties</td>\n",
       "    </tr>\n",
       "  </tbody>\n",
       "</table>\n",
       "<p>6052 rows × 2 columns</p>\n",
       "</div>"
      ],
      "text/plain": [
       "                           title_wiki                     title_kaggle\n",
       "0     The Adventures of Ford Fairlane  The Adventures of Ford Fairlane\n",
       "1                After Dark, My Sweet             After Dark, My Sweet\n",
       "2                         Air America                      Air America\n",
       "3                               Alice                            Alice\n",
       "4                     Almost an Angel                  Almost an Angel\n",
       "...                               ...                              ...\n",
       "6047                A Fantastic Woman                A Fantastic Woman\n",
       "6048                       Permission                       Permission\n",
       "6049                         Loveless                         Loveless\n",
       "6050                           Gemini                           Gemini\n",
       "6051  How to Talk to Girls at Parties  How to Talk to Girls at Parties\n",
       "\n",
       "[6052 rows x 2 columns]"
      ]
     },
     "execution_count": 59,
     "metadata": {},
     "output_type": "execute_result"
    }
   ],
   "source": [
    "movies_df[['title_wiki','title_kaggle']]"
   ]
  },
  {
   "cell_type": "code",
   "execution_count": 60,
   "id": "fd546f2c",
   "metadata": {},
   "outputs": [
    {
     "data": {
      "text/html": [
       "<div>\n",
       "<style scoped>\n",
       "    .dataframe tbody tr th:only-of-type {\n",
       "        vertical-align: middle;\n",
       "    }\n",
       "\n",
       "    .dataframe tbody tr th {\n",
       "        vertical-align: top;\n",
       "    }\n",
       "\n",
       "    .dataframe thead th {\n",
       "        text-align: right;\n",
       "    }\n",
       "</style>\n",
       "<table border=\"1\" class=\"dataframe\">\n",
       "  <thead>\n",
       "    <tr style=\"text-align: right;\">\n",
       "      <th></th>\n",
       "      <th>title_wiki</th>\n",
       "      <th>title_kaggle</th>\n",
       "    </tr>\n",
       "  </thead>\n",
       "  <tbody>\n",
       "    <tr>\n",
       "      <th>27</th>\n",
       "      <td>China Cry</td>\n",
       "      <td>China Cry: A True Story</td>\n",
       "    </tr>\n",
       "    <tr>\n",
       "      <th>36</th>\n",
       "      <td>Daddy's Dyin' ...Who's Got the Will?</td>\n",
       "      <td>Daddy's Dyin'... Who's Got the Will?</td>\n",
       "    </tr>\n",
       "    <tr>\n",
       "      <th>38</th>\n",
       "      <td>The Dark Side of the Moon</td>\n",
       "      <td>The Dark Side of The Moon</td>\n",
       "    </tr>\n",
       "    <tr>\n",
       "      <th>42</th>\n",
       "      <td>Delta Force 2</td>\n",
       "      <td>Delta Force 2: The Colombian Connection</td>\n",
       "    </tr>\n",
       "    <tr>\n",
       "      <th>48</th>\n",
       "      <td>DuckTales the Movie:Treasure of the Lost Lamp</td>\n",
       "      <td>DuckTales: The Movie - Treasure of the Lost Lamp</td>\n",
       "    </tr>\n",
       "    <tr>\n",
       "      <th>...</th>\n",
       "      <td>...</td>\n",
       "      <td>...</td>\n",
       "    </tr>\n",
       "    <tr>\n",
       "      <th>5956</th>\n",
       "      <td>Chips</td>\n",
       "      <td>CHiPS</td>\n",
       "    </tr>\n",
       "    <tr>\n",
       "      <th>5971</th>\n",
       "      <td>Spark</td>\n",
       "      <td>Spark: A Space Tail</td>\n",
       "    </tr>\n",
       "    <tr>\n",
       "      <th>5994</th>\n",
       "      <td>Pirates of the Caribbean:Dead Men Tell No Tales</td>\n",
       "      <td>Pirates of the Caribbean: Dead Men Tell No Tales</td>\n",
       "    </tr>\n",
       "    <tr>\n",
       "      <th>6023</th>\n",
       "      <td>Valerian and the Cityof a Thousand Planets</td>\n",
       "      <td>Valerian and the City of a Thousand Planets</td>\n",
       "    </tr>\n",
       "    <tr>\n",
       "      <th>6028</th>\n",
       "      <td>An Inconvenient Sequel:Truth to Power</td>\n",
       "      <td>An Inconvenient Sequel: Truth to Power</td>\n",
       "    </tr>\n",
       "  </tbody>\n",
       "</table>\n",
       "<p>438 rows × 2 columns</p>\n",
       "</div>"
      ],
      "text/plain": [
       "                                           title_wiki  \\\n",
       "27                                          China Cry   \n",
       "36               Daddy's Dyin' ...Who's Got the Will?   \n",
       "38                          The Dark Side of the Moon   \n",
       "42                                      Delta Force 2   \n",
       "48      DuckTales the Movie:Treasure of the Lost Lamp   \n",
       "...                                               ...   \n",
       "5956                                            Chips   \n",
       "5971                                            Spark   \n",
       "5994  Pirates of the Caribbean:Dead Men Tell No Tales   \n",
       "6023       Valerian and the Cityof a Thousand Planets   \n",
       "6028            An Inconvenient Sequel:Truth to Power   \n",
       "\n",
       "                                          title_kaggle  \n",
       "27                             China Cry: A True Story  \n",
       "36                Daddy's Dyin'... Who's Got the Will?  \n",
       "38                           The Dark Side of The Moon  \n",
       "42             Delta Force 2: The Colombian Connection  \n",
       "48    DuckTales: The Movie - Treasure of the Lost Lamp  \n",
       "...                                                ...  \n",
       "5956                                             CHiPS  \n",
       "5971                               Spark: A Space Tail  \n",
       "5994  Pirates of the Caribbean: Dead Men Tell No Tales  \n",
       "6023       Valerian and the City of a Thousand Planets  \n",
       "6028            An Inconvenient Sequel: Truth to Power  \n",
       "\n",
       "[438 rows x 2 columns]"
      ]
     },
     "execution_count": 60,
     "metadata": {},
     "output_type": "execute_result"
    }
   ],
   "source": [
    "movies_df[movies_df['title_wiki'] != movies_df['title_kaggle']][['title_wiki','title_kaggle']]"
   ]
  },
  {
   "cell_type": "code",
   "execution_count": 61,
   "id": "66546a61",
   "metadata": {},
   "outputs": [
    {
     "data": {
      "text/html": [
       "<div>\n",
       "<style scoped>\n",
       "    .dataframe tbody tr th:only-of-type {\n",
       "        vertical-align: middle;\n",
       "    }\n",
       "\n",
       "    .dataframe tbody tr th {\n",
       "        vertical-align: top;\n",
       "    }\n",
       "\n",
       "    .dataframe thead th {\n",
       "        text-align: right;\n",
       "    }\n",
       "</style>\n",
       "<table border=\"1\" class=\"dataframe\">\n",
       "  <thead>\n",
       "    <tr style=\"text-align: right;\">\n",
       "      <th></th>\n",
       "      <th>url</th>\n",
       "      <th>imdb_link</th>\n",
       "      <th>title_wiki</th>\n",
       "      <th>Based on</th>\n",
       "      <th>Starring</th>\n",
       "      <th>Cinematography</th>\n",
       "      <th>Country</th>\n",
       "      <th>Language</th>\n",
       "      <th>Composer(s)</th>\n",
       "      <th>Writers</th>\n",
       "      <th>...</th>\n",
       "      <th>release_date_kaggle</th>\n",
       "      <th>revenue</th>\n",
       "      <th>runtime</th>\n",
       "      <th>spoken_languages</th>\n",
       "      <th>status</th>\n",
       "      <th>tagline</th>\n",
       "      <th>title_kaggle</th>\n",
       "      <th>video</th>\n",
       "      <th>vote_average</th>\n",
       "      <th>vote_count</th>\n",
       "    </tr>\n",
       "  </thead>\n",
       "  <tbody>\n",
       "  </tbody>\n",
       "</table>\n",
       "<p>0 rows × 42 columns</p>\n",
       "</div>"
      ],
      "text/plain": [
       "Empty DataFrame\n",
       "Columns: [url, imdb_link, title_wiki, Based on, Starring, Cinematography, Country, Language, Composer(s), Writers, Director, Editor(s), Distributor, Producer(s), Production company(s), imdb_id, box_office, budget_wiki, release_date_wiki, running_time, belongs_to_collection, budget_kaggle, genres, homepage, id, original_language, original_title, overview, popularity, poster_path, production_companies, production_countries, release_date_kaggle, revenue, runtime, spoken_languages, status, tagline, title_kaggle, video, vote_average, vote_count]\n",
       "Index: []\n",
       "\n",
       "[0 rows x 42 columns]"
      ]
     },
     "execution_count": 61,
     "metadata": {},
     "output_type": "execute_result"
    }
   ],
   "source": [
    "# Show any rows where title_kaggle is empty\n",
    "\n",
    "movies_df[(movies_df['title_kaggle'] == '') | (movies_df['title_kaggle'].isnull())]"
   ]
  },
  {
   "cell_type": "markdown",
   "id": "5b4e65ca",
   "metadata": {},
   "source": [
    "**Drop Wikipedia title column**"
   ]
  },
  {
   "cell_type": "code",
   "execution_count": 62,
   "id": "8b493909",
   "metadata": {},
   "outputs": [
    {
     "data": {
      "text/plain": [
       "<AxesSubplot:xlabel='running_time', ylabel='runtime'>"
      ]
     },
     "execution_count": 62,
     "metadata": {},
     "output_type": "execute_result"
    },
    {
     "data": {
      "image/png": "[encoded data removed]",
      "text/plain": [
       "<Figure size 432x288 with 1 Axes>"
      ]
     },
     "metadata": {
      "needs_background": "light"
     },
     "output_type": "display_data"
    }
   ],
   "source": [
    "movies_df.fillna(0).plot(x='running_time', y='runtime', kind='scatter')"
   ]
  },
  {
   "cell_type": "markdown",
   "id": "67c71549",
   "metadata": {},
   "source": [
    "**Keep Kaggle \"runtime\" - fill in missing values from wikipedia data**"
   ]
  },
  {
   "cell_type": "code",
   "execution_count": 63,
   "id": "3b133b96",
   "metadata": {},
   "outputs": [
    {
     "data": {
      "text/plain": [
       "<AxesSubplot:xlabel='budget_wiki', ylabel='budget_kaggle'>"
      ]
     },
     "execution_count": 63,
     "metadata": {},
     "output_type": "execute_result"
    },
    {
     "data": {
      "image/png": "[encoded data removed]",
      "text/plain": [
       "<Figure size 432x288 with 1 Axes>"
      ]
     },
     "metadata": {
      "needs_background": "light"
     },
     "output_type": "display_data"
    }
   ],
   "source": [
    "movies_df.fillna(0).plot(x='budget_wiki',y='budget_kaggle', kind='scatter')"
   ]
  },
  {
   "cell_type": "markdown",
   "id": "56a58763",
   "metadata": {},
   "source": [
    "**Keep Kaggle \"budget\" - fill in missing values from wikipedia data**"
   ]
  },
  {
   "cell_type": "code",
   "execution_count": 64,
   "id": "5fabd9e4",
   "metadata": {},
   "outputs": [
    {
     "data": {
      "text/plain": [
       "<AxesSubplot:xlabel='box_office', ylabel='revenue'>"
      ]
     },
     "execution_count": 64,
     "metadata": {},
     "output_type": "execute_result"
    },
    {
     "data": {
      "image/png": "[encoded data removed]",
      "text/plain": [
       "<Figure size 432x288 with 1 Axes>"
      ]
     },
     "metadata": {
      "needs_background": "light"
     },
     "output_type": "display_data"
    }
   ],
   "source": [
    "movies_df.fillna(0)[movies_df['box_office'] < 10**9].plot(x='box_office', y='revenue', kind='scatter')"
   ]
  },
  {
   "cell_type": "markdown",
   "id": "5af99b92",
   "metadata": {},
   "source": [
    "**Keep Kaggle \"revenue\" - fill in missing values from wikipedia data**"
   ]
  },
  {
   "cell_type": "code",
   "execution_count": 65,
   "id": "220d7b80",
   "metadata": {},
   "outputs": [
    {
     "data": {
      "text/plain": [
       "<AxesSubplot:xlabel='release_date_wiki'>"
      ]
     },
     "execution_count": 65,
     "metadata": {},
     "output_type": "execute_result"
    },
    {
     "data": {
      "image/png": "[encoded data removed]",
      "text/plain": [
       "<Figure size 432x288 with 1 Axes>"
      ]
     },
     "metadata": {
      "needs_background": "light"
     },
     "output_type": "display_data"
    }
   ],
   "source": [
    "movies_df[['release_date_wiki','release_date_kaggle']].plot(x='release_date_wiki', y='release_date_kaggle', style='.')"
   ]
  },
  {
   "cell_type": "code",
   "execution_count": 66,
   "id": "e765f939",
   "metadata": {},
   "outputs": [
    {
     "data": {
      "text/html": [
       "<div>\n",
       "<style scoped>\n",
       "    .dataframe tbody tr th:only-of-type {\n",
       "        vertical-align: middle;\n",
       "    }\n",
       "\n",
       "    .dataframe tbody tr th {\n",
       "        vertical-align: top;\n",
       "    }\n",
       "\n",
       "    .dataframe thead th {\n",
       "        text-align: right;\n",
       "    }\n",
       "</style>\n",
       "<table border=\"1\" class=\"dataframe\">\n",
       "  <thead>\n",
       "    <tr style=\"text-align: right;\">\n",
       "      <th></th>\n",
       "      <th>url</th>\n",
       "      <th>imdb_link</th>\n",
       "      <th>title_wiki</th>\n",
       "      <th>Based on</th>\n",
       "      <th>Starring</th>\n",
       "      <th>Cinematography</th>\n",
       "      <th>Country</th>\n",
       "      <th>Language</th>\n",
       "      <th>Composer(s)</th>\n",
       "      <th>Writers</th>\n",
       "      <th>...</th>\n",
       "      <th>release_date_kaggle</th>\n",
       "      <th>revenue</th>\n",
       "      <th>runtime</th>\n",
       "      <th>spoken_languages</th>\n",
       "      <th>status</th>\n",
       "      <th>tagline</th>\n",
       "      <th>title_kaggle</th>\n",
       "      <th>video</th>\n",
       "      <th>vote_average</th>\n",
       "      <th>vote_count</th>\n",
       "    </tr>\n",
       "  </thead>\n",
       "  <tbody>\n",
       "    <tr>\n",
       "      <th>1680</th>\n",
       "      <td>/wiki/The_Member_of_the_Wedding_(film)</td>\n",
       "      <td>https://www.imdb.com/title/tt0044896/</td>\n",
       "      <td>The Member of the Wedding</td>\n",
       "      <td>[The Member of the Wedding, by, Carson McCullers]</td>\n",
       "      <td>[Ethel Waters, Julie Harris, Brandon De Wilde]</td>\n",
       "      <td>Hal Mohr</td>\n",
       "      <td>United States</td>\n",
       "      <td>English</td>\n",
       "      <td>Alex North</td>\n",
       "      <td>[Edna Anhalt, Edward Anhalt]</td>\n",
       "      <td>...</td>\n",
       "      <td>1952-12-25</td>\n",
       "      <td>0.00</td>\n",
       "      <td>93.00</td>\n",
       "      <td>[{'iso_639_1': 'en', 'name': 'English'}]</td>\n",
       "      <td>Released</td>\n",
       "      <td>She became a woman in the middle of a kiss!</td>\n",
       "      <td>The Member of the Wedding</td>\n",
       "      <td>False</td>\n",
       "      <td>5.70</td>\n",
       "      <td>8.00</td>\n",
       "    </tr>\n",
       "    <tr>\n",
       "      <th>2295</th>\n",
       "      <td>https://en.wikipedia.org/wiki/The_Ladies_Man</td>\n",
       "      <td>https://www.imdb.com/title/tt0055069/</td>\n",
       "      <td>The Ladies Man</td>\n",
       "      <td>NaN</td>\n",
       "      <td>[Jerry Lewis, Lillian Briggs, Helen Traubel, K...</td>\n",
       "      <td>W. Wallace Kelley</td>\n",
       "      <td>United States</td>\n",
       "      <td>English</td>\n",
       "      <td>Walter Scharf</td>\n",
       "      <td>[Jerry Lewis, Bill Richmond]</td>\n",
       "      <td>...</td>\n",
       "      <td>1961-06-21</td>\n",
       "      <td>0.00</td>\n",
       "      <td>95.00</td>\n",
       "      <td>[{'iso_639_1': 'en', 'name': 'English'}]</td>\n",
       "      <td>Released</td>\n",
       "      <td>\"He's wacky!\" - \"He's Shweet!\" - \"He's the mos...</td>\n",
       "      <td>The Ladies Man</td>\n",
       "      <td>False</td>\n",
       "      <td>7.00</td>\n",
       "      <td>20.00</td>\n",
       "    </tr>\n",
       "    <tr>\n",
       "      <th>2458</th>\n",
       "      <td>https://en.wikipedia.org/wiki/Earth_vs._the_Sp...</td>\n",
       "      <td>https://www.imdb.com/title/tt0051570/</td>\n",
       "      <td>Earth vs. the Spider</td>\n",
       "      <td>NaN</td>\n",
       "      <td>[Ed Kemmer, June Kenney, Eugene Persson, Gene ...</td>\n",
       "      <td>Jack A. Marta</td>\n",
       "      <td>United States</td>\n",
       "      <td>English</td>\n",
       "      <td>Albert Glasser</td>\n",
       "      <td>[László Görög, George Worthing Yates]</td>\n",
       "      <td>...</td>\n",
       "      <td>1958-09-01</td>\n",
       "      <td>0.00</td>\n",
       "      <td>73.00</td>\n",
       "      <td>[{'iso_639_1': 'en', 'name': 'English'}]</td>\n",
       "      <td>Released</td>\n",
       "      <td>The Spider will eat you alive!</td>\n",
       "      <td>Earth vs. the Spider</td>\n",
       "      <td>False</td>\n",
       "      <td>4.70</td>\n",
       "      <td>15.00</td>\n",
       "    </tr>\n",
       "    <tr>\n",
       "      <th>3607</th>\n",
       "      <td>https://en.wikipedia.org/wiki/The_Holiday</td>\n",
       "      <td>https://www.imdb.com/title/tt00457939/</td>\n",
       "      <td>The Holiday</td>\n",
       "      <td>NaN</td>\n",
       "      <td>[Kate Winslet, Cameron Diaz, Jude Law, Jack Bl...</td>\n",
       "      <td>Dean Cundey</td>\n",
       "      <td>United States</td>\n",
       "      <td>English</td>\n",
       "      <td>Hans Zimmer</td>\n",
       "      <td>Nancy Meyers</td>\n",
       "      <td>...</td>\n",
       "      <td>1953-08-28</td>\n",
       "      <td>30,500,000.00</td>\n",
       "      <td>118.00</td>\n",
       "      <td>[{'iso_639_1': 'en', 'name': 'English'}]</td>\n",
       "      <td>Released</td>\n",
       "      <td>Pouring out of impassioned pages...brawling th...</td>\n",
       "      <td>From Here to Eternity</td>\n",
       "      <td>False</td>\n",
       "      <td>7.20</td>\n",
       "      <td>137.00</td>\n",
       "    </tr>\n",
       "  </tbody>\n",
       "</table>\n",
       "<p>4 rows × 42 columns</p>\n",
       "</div>"
      ],
      "text/plain": [
       "                                                    url  \\\n",
       "1680             /wiki/The_Member_of_the_Wedding_(film)   \n",
       "2295       https://en.wikipedia.org/wiki/The_Ladies_Man   \n",
       "2458  https://en.wikipedia.org/wiki/Earth_vs._the_Sp...   \n",
       "3607          https://en.wikipedia.org/wiki/The_Holiday   \n",
       "\n",
       "                                   imdb_link                 title_wiki  \\\n",
       "1680   https://www.imdb.com/title/tt0044896/  The Member of the Wedding   \n",
       "2295   https://www.imdb.com/title/tt0055069/             The Ladies Man   \n",
       "2458   https://www.imdb.com/title/tt0051570/       Earth vs. the Spider   \n",
       "3607  https://www.imdb.com/title/tt00457939/                The Holiday   \n",
       "\n",
       "                                               Based on  \\\n",
       "1680  [The Member of the Wedding, by, Carson McCullers]   \n",
       "2295                                                NaN   \n",
       "2458                                                NaN   \n",
       "3607                                                NaN   \n",
       "\n",
       "                                               Starring     Cinematography  \\\n",
       "1680     [Ethel Waters, Julie Harris, Brandon De Wilde]           Hal Mohr   \n",
       "2295  [Jerry Lewis, Lillian Briggs, Helen Traubel, K...  W. Wallace Kelley   \n",
       "2458  [Ed Kemmer, June Kenney, Eugene Persson, Gene ...      Jack A. Marta   \n",
       "3607  [Kate Winslet, Cameron Diaz, Jude Law, Jack Bl...        Dean Cundey   \n",
       "\n",
       "            Country Language     Composer(s)  \\\n",
       "1680  United States  English      Alex North   \n",
       "2295  United States  English   Walter Scharf   \n",
       "2458  United States  English  Albert Glasser   \n",
       "3607  United States  English     Hans Zimmer   \n",
       "\n",
       "                                    Writers  ... release_date_kaggle  \\\n",
       "1680           [Edna Anhalt, Edward Anhalt]  ...          1952-12-25   \n",
       "2295           [Jerry Lewis, Bill Richmond]  ...          1961-06-21   \n",
       "2458  [László Görög, George Worthing Yates]  ...          1958-09-01   \n",
       "3607                           Nancy Meyers  ...          1953-08-28   \n",
       "\n",
       "                  revenue              runtime  \\\n",
       "1680                 0.00                93.00   \n",
       "2295                 0.00                95.00   \n",
       "2458                 0.00                73.00   \n",
       "3607        30,500,000.00               118.00   \n",
       "\n",
       "                              spoken_languages    status  \\\n",
       "1680  [{'iso_639_1': 'en', 'name': 'English'}]  Released   \n",
       "2295  [{'iso_639_1': 'en', 'name': 'English'}]  Released   \n",
       "2458  [{'iso_639_1': 'en', 'name': 'English'}]  Released   \n",
       "3607  [{'iso_639_1': 'en', 'name': 'English'}]  Released   \n",
       "\n",
       "                                                tagline  \\\n",
       "1680        She became a woman in the middle of a kiss!   \n",
       "2295  \"He's wacky!\" - \"He's Shweet!\" - \"He's the mos...   \n",
       "2458                     The Spider will eat you alive!   \n",
       "3607  Pouring out of impassioned pages...brawling th...   \n",
       "\n",
       "                   title_kaggle  video         vote_average  \\\n",
       "1680  The Member of the Wedding  False                 5.70   \n",
       "2295             The Ladies Man  False                 7.00   \n",
       "2458       Earth vs. the Spider  False                 4.70   \n",
       "3607      From Here to Eternity  False                 7.20   \n",
       "\n",
       "               vote_count  \n",
       "1680                 8.00  \n",
       "2295                20.00  \n",
       "2458                15.00  \n",
       "3607               137.00  \n",
       "\n",
       "[4 rows x 42 columns]"
      ]
     },
     "execution_count": 66,
     "metadata": {},
     "output_type": "execute_result"
    }
   ],
   "source": [
    "movies_df[(movies_df['release_date_wiki'] > '1996-01-01') & (movies_df['release_date_kaggle'] < '1965-01-01')]"
   ]
  },
  {
   "cell_type": "code",
   "execution_count": 67,
   "id": "7cc79ccd",
   "metadata": {},
   "outputs": [
    {
     "data": {
      "text/plain": [
       "Int64Index([1680, 2295, 2458, 3607], dtype='int64')"
      ]
     },
     "execution_count": 67,
     "metadata": {},
     "output_type": "execute_result"
    }
   ],
   "source": [
    "movies_df[(movies_df['release_date_wiki'] > '1996-01-01') & (movies_df['release_date_kaggle'] < '1965-01-01')].index"
   ]
  },
  {
   "cell_type": "code",
   "execution_count": 68,
   "id": "047eaf3b",
   "metadata": {},
   "outputs": [],
   "source": [
    "movies_df = movies_df.drop(movies_df[(movies_df['release_date_wiki'] > '1996-01-01') & (movies_df['release_date_kaggle'] < '1965-01-01')].index)"
   ]
  },
  {
   "cell_type": "code",
   "execution_count": 69,
   "id": "580dadc2",
   "metadata": {},
   "outputs": [
    {
     "data": {
      "text/html": [
       "<div>\n",
       "<style scoped>\n",
       "    .dataframe tbody tr th:only-of-type {\n",
       "        vertical-align: middle;\n",
       "    }\n",
       "\n",
       "    .dataframe tbody tr th {\n",
       "        vertical-align: top;\n",
       "    }\n",
       "\n",
       "    .dataframe thead th {\n",
       "        text-align: right;\n",
       "    }\n",
       "</style>\n",
       "<table border=\"1\" class=\"dataframe\">\n",
       "  <thead>\n",
       "    <tr style=\"text-align: right;\">\n",
       "      <th></th>\n",
       "      <th>url</th>\n",
       "      <th>imdb_link</th>\n",
       "      <th>title_wiki</th>\n",
       "      <th>Based on</th>\n",
       "      <th>Starring</th>\n",
       "      <th>Cinematography</th>\n",
       "      <th>Country</th>\n",
       "      <th>Language</th>\n",
       "      <th>Composer(s)</th>\n",
       "      <th>Writers</th>\n",
       "      <th>...</th>\n",
       "      <th>release_date_kaggle</th>\n",
       "      <th>revenue</th>\n",
       "      <th>runtime</th>\n",
       "      <th>spoken_languages</th>\n",
       "      <th>status</th>\n",
       "      <th>tagline</th>\n",
       "      <th>title_kaggle</th>\n",
       "      <th>video</th>\n",
       "      <th>vote_average</th>\n",
       "      <th>vote_count</th>\n",
       "    </tr>\n",
       "  </thead>\n",
       "  <tbody>\n",
       "  </tbody>\n",
       "</table>\n",
       "<p>0 rows × 42 columns</p>\n",
       "</div>"
      ],
      "text/plain": [
       "Empty DataFrame\n",
       "Columns: [url, imdb_link, title_wiki, Based on, Starring, Cinematography, Country, Language, Composer(s), Writers, Director, Editor(s), Distributor, Producer(s), Production company(s), imdb_id, box_office, budget_wiki, release_date_wiki, running_time, belongs_to_collection, budget_kaggle, genres, homepage, id, original_language, original_title, overview, popularity, poster_path, production_companies, production_countries, release_date_kaggle, revenue, runtime, spoken_languages, status, tagline, title_kaggle, video, vote_average, vote_count]\n",
       "Index: []\n",
       "\n",
       "[0 rows x 42 columns]"
      ]
     },
     "execution_count": 69,
     "metadata": {},
     "output_type": "execute_result"
    }
   ],
   "source": [
    "movies_df[movies_df['release_date_wiki'].isnull()]"
   ]
  },
  {
   "cell_type": "markdown",
   "id": "8e460287",
   "metadata": {},
   "source": [
    "**No missing data for release dates, drop Wikipedia**"
   ]
  },
  {
   "cell_type": "code",
   "execution_count": 70,
   "id": "1c4791c7",
   "metadata": {},
   "outputs": [
    {
     "data": {
      "text/plain": [
       "English                                5549\n",
       "(English, Spanish)                       68\n",
       "NaN                                      59\n",
       "(English, French)                        35\n",
       "(English, Japanese)                      25\n",
       "                                       ... \n",
       "(English, Hebrew, Spanish)                1\n",
       "(English, Japanese, French)               1\n",
       "(English, Spanish, Apache)                1\n",
       "(Syriac, Aramaic, English, Italian)       1\n",
       "Russian                                   1\n",
       "Name: Language, Length: 198, dtype: int64"
      ]
     },
     "execution_count": 70,
     "metadata": {},
     "output_type": "execute_result"
    }
   ],
   "source": [
    "# Convert the 'language' column values to tuples so we can count the values.\n",
    "movies_df['Language'].apply(lambda x: tuple(x) if type(x) == list else x).value_counts(dropna=False)"
   ]
  },
  {
   "cell_type": "code",
   "execution_count": 71,
   "id": "960d0a11",
   "metadata": {},
   "outputs": [
    {
     "data": {
      "text/plain": [
       "en    5984\n",
       "fr      16\n",
       "es      10\n",
       "it       8\n",
       "de       6\n",
       "ja       4\n",
       "pt       4\n",
       "zh       4\n",
       "da       2\n",
       "hi       2\n",
       "sv       1\n",
       "ko       1\n",
       "ab       1\n",
       "tr       1\n",
       "he       1\n",
       "ar       1\n",
       "cn       1\n",
       "ru       1\n",
       "Name: original_language, dtype: int64"
      ]
     },
     "execution_count": 71,
     "metadata": {},
     "output_type": "execute_result"
    }
   ],
   "source": [
    "movies_df['original_language'].value_counts(dropna=False)"
   ]
  },
  {
   "cell_type": "markdown",
   "id": "5ee20453",
   "metadata": {},
   "source": [
    "**Drop Wikipedia language column**"
   ]
  },
  {
   "cell_type": "code",
   "execution_count": 72,
   "id": "e2a0383f",
   "metadata": {},
   "outputs": [
    {
     "data": {
      "text/html": [
       "<div>\n",
       "<style scoped>\n",
       "    .dataframe tbody tr th:only-of-type {\n",
       "        vertical-align: middle;\n",
       "    }\n",
       "\n",
       "    .dataframe tbody tr th {\n",
       "        vertical-align: top;\n",
       "    }\n",
       "\n",
       "    .dataframe thead th {\n",
       "        text-align: right;\n",
       "    }\n",
       "</style>\n",
       "<table border=\"1\" class=\"dataframe\">\n",
       "  <thead>\n",
       "    <tr style=\"text-align: right;\">\n",
       "      <th></th>\n",
       "      <th>Production company(s)</th>\n",
       "      <th>production_companies</th>\n",
       "    </tr>\n",
       "  </thead>\n",
       "  <tbody>\n",
       "    <tr>\n",
       "      <th>0</th>\n",
       "      <td>Silver Pictures</td>\n",
       "      <td>[{'name': 'Twentieth Century Fox Film Corporat...</td>\n",
       "    </tr>\n",
       "    <tr>\n",
       "      <th>1</th>\n",
       "      <td>Avenue Pictures</td>\n",
       "      <td>[{'name': 'Avenue Pictures Productions', 'id':...</td>\n",
       "    </tr>\n",
       "    <tr>\n",
       "      <th>2</th>\n",
       "      <td>[Carolco Pictures, IndieProd Company]</td>\n",
       "      <td>[{'name': 'IndieProd Company Productions', 'id...</td>\n",
       "    </tr>\n",
       "    <tr>\n",
       "      <th>3</th>\n",
       "      <td>NaN</td>\n",
       "      <td>[{'name': 'Orion Pictures', 'id': 41}]</td>\n",
       "    </tr>\n",
       "    <tr>\n",
       "      <th>4</th>\n",
       "      <td>NaN</td>\n",
       "      <td>[{'name': 'Paramount Pictures', 'id': 4}]</td>\n",
       "    </tr>\n",
       "    <tr>\n",
       "      <th>...</th>\n",
       "      <td>...</td>\n",
       "      <td>...</td>\n",
       "    </tr>\n",
       "    <tr>\n",
       "      <th>6047</th>\n",
       "      <td>[Fabula, Komplizen Film]</td>\n",
       "      <td>[{'name': 'Komplizen Film', 'id': 1618}, {'nam...</td>\n",
       "    </tr>\n",
       "    <tr>\n",
       "      <th>6048</th>\n",
       "      <td>Ball &amp; Chain Productions</td>\n",
       "      <td>[{'name': 'Ball &amp; Chain Productions', 'id': 74...</td>\n",
       "    </tr>\n",
       "    <tr>\n",
       "      <th>6049</th>\n",
       "      <td>[Arte France Cinéma, Why Not Productions]</td>\n",
       "      <td>[{'name': 'ARTE France Cinéma', 'id': 94}, {'n...</td>\n",
       "    </tr>\n",
       "    <tr>\n",
       "      <th>6050</th>\n",
       "      <td>[Film Science, Rough House Pictures, Syncopate...</td>\n",
       "      <td>[{'name': 'Film Science', 'id': 1976}, {'name'...</td>\n",
       "    </tr>\n",
       "    <tr>\n",
       "      <th>6051</th>\n",
       "      <td>[HanWay Films, Little Punk, See-Saw Films]</td>\n",
       "      <td>[{'name': 'HanWay Films', 'id': 2395}, {'name'...</td>\n",
       "    </tr>\n",
       "  </tbody>\n",
       "</table>\n",
       "<p>6048 rows × 2 columns</p>\n",
       "</div>"
      ],
      "text/plain": [
       "                                  Production company(s)  \\\n",
       "0                                       Silver Pictures   \n",
       "1                                       Avenue Pictures   \n",
       "2                 [Carolco Pictures, IndieProd Company]   \n",
       "3                                                   NaN   \n",
       "4                                                   NaN   \n",
       "...                                                 ...   \n",
       "6047                           [Fabula, Komplizen Film]   \n",
       "6048                           Ball & Chain Productions   \n",
       "6049          [Arte France Cinéma, Why Not Productions]   \n",
       "6050  [Film Science, Rough House Pictures, Syncopate...   \n",
       "6051         [HanWay Films, Little Punk, See-Saw Films]   \n",
       "\n",
       "                                   production_companies  \n",
       "0     [{'name': 'Twentieth Century Fox Film Corporat...  \n",
       "1     [{'name': 'Avenue Pictures Productions', 'id':...  \n",
       "2     [{'name': 'IndieProd Company Productions', 'id...  \n",
       "3                [{'name': 'Orion Pictures', 'id': 41}]  \n",
       "4             [{'name': 'Paramount Pictures', 'id': 4}]  \n",
       "...                                                 ...  \n",
       "6047  [{'name': 'Komplizen Film', 'id': 1618}, {'nam...  \n",
       "6048  [{'name': 'Ball & Chain Productions', 'id': 74...  \n",
       "6049  [{'name': 'ARTE France Cinéma', 'id': 94}, {'n...  \n",
       "6050  [{'name': 'Film Science', 'id': 1976}, {'name'...  \n",
       "6051  [{'name': 'HanWay Films', 'id': 2395}, {'name'...  \n",
       "\n",
       "[6048 rows x 2 columns]"
      ]
     },
     "execution_count": 72,
     "metadata": {},
     "output_type": "execute_result"
    }
   ],
   "source": [
    "movies_df[['Production company(s)','production_companies']]"
   ]
  },
  {
   "cell_type": "markdown",
   "id": "7f9c3bec",
   "metadata": {},
   "source": [
    "**Drop Wikipedia Production company column**"
   ]
  },
  {
   "cell_type": "markdown",
   "id": "d308f07b",
   "metadata": {},
   "source": [
    "### Clean the merged DataFrame"
   ]
  },
  {
   "cell_type": "code",
   "execution_count": 73,
   "id": "e344e13c",
   "metadata": {},
   "outputs": [],
   "source": [
    "# Drop the un-needed duplicate columns\n",
    "\n",
    "movies_df.drop(columns=['title_wiki','release_date_wiki','Language','Production company(s)'], inplace=True)"
   ]
  },
  {
   "cell_type": "code",
   "execution_count": 74,
   "id": "89a41a45",
   "metadata": {},
   "outputs": [],
   "source": [
    "def fill_missing_kaggle_data(df, kaggle_column, wiki_column):\n",
    "    df[kaggle_column] = df.apply(\n",
    "        lambda row: row[wiki_column] if row[kaggle_column] == 0 else row[kaggle_column]\n",
    "        , axis=1)\n",
    "    df.drop(columns=wiki_column, inplace=True)"
   ]
  },
  {
   "cell_type": "code",
   "execution_count": 75,
   "id": "a65aaf66",
   "metadata": {},
   "outputs": [
    {
     "data": {
      "text/html": [
       "<div>\n",
       "<style scoped>\n",
       "    .dataframe tbody tr th:only-of-type {\n",
       "        vertical-align: middle;\n",
       "    }\n",
       "\n",
       "    .dataframe tbody tr th {\n",
       "        vertical-align: top;\n",
       "    }\n",
       "\n",
       "    .dataframe thead th {\n",
       "        text-align: right;\n",
       "    }\n",
       "</style>\n",
       "<table border=\"1\" class=\"dataframe\">\n",
       "  <thead>\n",
       "    <tr style=\"text-align: right;\">\n",
       "      <th></th>\n",
       "      <th>url</th>\n",
       "      <th>imdb_link</th>\n",
       "      <th>Based on</th>\n",
       "      <th>Starring</th>\n",
       "      <th>Cinematography</th>\n",
       "      <th>Country</th>\n",
       "      <th>Composer(s)</th>\n",
       "      <th>Writers</th>\n",
       "      <th>Director</th>\n",
       "      <th>Editor(s)</th>\n",
       "      <th>...</th>\n",
       "      <th>release_date_kaggle</th>\n",
       "      <th>revenue</th>\n",
       "      <th>runtime</th>\n",
       "      <th>spoken_languages</th>\n",
       "      <th>status</th>\n",
       "      <th>tagline</th>\n",
       "      <th>title_kaggle</th>\n",
       "      <th>video</th>\n",
       "      <th>vote_average</th>\n",
       "      <th>vote_count</th>\n",
       "    </tr>\n",
       "  </thead>\n",
       "  <tbody>\n",
       "    <tr>\n",
       "      <th>0</th>\n",
       "      <td>https://en.wikipedia.org/wiki/The_Adventures_o...</td>\n",
       "      <td>https://www.imdb.com/title/tt0098987/</td>\n",
       "      <td>[Characters, by Rex Weiner]</td>\n",
       "      <td>[Andrew Dice Clay, Wayne Newton, Priscilla Pre...</td>\n",
       "      <td>Oliver Wood</td>\n",
       "      <td>United States</td>\n",
       "      <td>[Cliff Eidelman, Yello]</td>\n",
       "      <td>[David Arnott, James Cappe, Daniel Waters]</td>\n",
       "      <td>Renny Harlin</td>\n",
       "      <td>Michael Tronick</td>\n",
       "      <td>...</td>\n",
       "      <td>1990-07-11</td>\n",
       "      <td>20,423,389.00</td>\n",
       "      <td>104.00</td>\n",
       "      <td>[{'iso_639_1': 'en', 'name': 'English'}]</td>\n",
       "      <td>Released</td>\n",
       "      <td>Kojak. Columbo. Dirty Harry. Wimps.</td>\n",
       "      <td>The Adventures of Ford Fairlane</td>\n",
       "      <td>False</td>\n",
       "      <td>6.20</td>\n",
       "      <td>72.00</td>\n",
       "    </tr>\n",
       "    <tr>\n",
       "      <th>1</th>\n",
       "      <td>https://en.wikipedia.org/wiki/After_Dark,_My_S...</td>\n",
       "      <td>https://www.imdb.com/title/tt0098994/</td>\n",
       "      <td>[the novel, After Dark, My Sweet, by, Jim Thom...</td>\n",
       "      <td>[Jason Patric, Rachel Ward, Bruce Dern, George...</td>\n",
       "      <td>Mark Plummer</td>\n",
       "      <td>United States</td>\n",
       "      <td>Maurice Jarre</td>\n",
       "      <td>[James Foley, Robert Redlin]</td>\n",
       "      <td>James Foley</td>\n",
       "      <td>Howard E. Smith</td>\n",
       "      <td>...</td>\n",
       "      <td>1990-08-24</td>\n",
       "      <td>2,700,000.00</td>\n",
       "      <td>114.00</td>\n",
       "      <td>[{'iso_639_1': 'en', 'name': 'English'}]</td>\n",
       "      <td>Released</td>\n",
       "      <td>All they risked was everything.</td>\n",
       "      <td>After Dark, My Sweet</td>\n",
       "      <td>False</td>\n",
       "      <td>6.50</td>\n",
       "      <td>17.00</td>\n",
       "    </tr>\n",
       "    <tr>\n",
       "      <th>2</th>\n",
       "      <td>https://en.wikipedia.org/wiki/Air_America_(film)</td>\n",
       "      <td>https://www.imdb.com/title/tt0099005/</td>\n",
       "      <td>[Air America, by, Christopher Robbins]</td>\n",
       "      <td>[Mel Gibson, Robert Downey Jr., Nancy Travis, ...</td>\n",
       "      <td>Roger Deakins</td>\n",
       "      <td>United States</td>\n",
       "      <td>Charles Gross</td>\n",
       "      <td>[John Eskow, Richard Rush]</td>\n",
       "      <td>Roger Spottiswoode</td>\n",
       "      <td>[John Bloom, Lois Freeman-Fox]</td>\n",
       "      <td>...</td>\n",
       "      <td>1990-08-10</td>\n",
       "      <td>33,461,269.00</td>\n",
       "      <td>112.00</td>\n",
       "      <td>[{'iso_639_1': 'en', 'name': 'English'}, {'iso...</td>\n",
       "      <td>Released</td>\n",
       "      <td>The few. The proud. The totally insane.</td>\n",
       "      <td>Air America</td>\n",
       "      <td>False</td>\n",
       "      <td>5.30</td>\n",
       "      <td>146.00</td>\n",
       "    </tr>\n",
       "  </tbody>\n",
       "</table>\n",
       "<p>3 rows × 35 columns</p>\n",
       "</div>"
      ],
      "text/plain": [
       "                                                 url  \\\n",
       "0  https://en.wikipedia.org/wiki/The_Adventures_o...   \n",
       "1  https://en.wikipedia.org/wiki/After_Dark,_My_S...   \n",
       "2   https://en.wikipedia.org/wiki/Air_America_(film)   \n",
       "\n",
       "                               imdb_link  \\\n",
       "0  https://www.imdb.com/title/tt0098987/   \n",
       "1  https://www.imdb.com/title/tt0098994/   \n",
       "2  https://www.imdb.com/title/tt0099005/   \n",
       "\n",
       "                                            Based on  \\\n",
       "0                        [Characters, by Rex Weiner]   \n",
       "1  [the novel, After Dark, My Sweet, by, Jim Thom...   \n",
       "2             [Air America, by, Christopher Robbins]   \n",
       "\n",
       "                                            Starring Cinematography  \\\n",
       "0  [Andrew Dice Clay, Wayne Newton, Priscilla Pre...    Oliver Wood   \n",
       "1  [Jason Patric, Rachel Ward, Bruce Dern, George...   Mark Plummer   \n",
       "2  [Mel Gibson, Robert Downey Jr., Nancy Travis, ...  Roger Deakins   \n",
       "\n",
       "         Country              Composer(s)  \\\n",
       "0  United States  [Cliff Eidelman, Yello]   \n",
       "1  United States            Maurice Jarre   \n",
       "2  United States            Charles Gross   \n",
       "\n",
       "                                      Writers            Director  \\\n",
       "0  [David Arnott, James Cappe, Daniel Waters]        Renny Harlin   \n",
       "1                [James Foley, Robert Redlin]         James Foley   \n",
       "2                  [John Eskow, Richard Rush]  Roger Spottiswoode   \n",
       "\n",
       "                        Editor(s)  ... release_date_kaggle  \\\n",
       "0                 Michael Tronick  ...          1990-07-11   \n",
       "1                 Howard E. Smith  ...          1990-08-24   \n",
       "2  [John Bloom, Lois Freeman-Fox]  ...          1990-08-10   \n",
       "\n",
       "               revenue              runtime  \\\n",
       "0        20,423,389.00               104.00   \n",
       "1         2,700,000.00               114.00   \n",
       "2        33,461,269.00               112.00   \n",
       "\n",
       "                                    spoken_languages    status  \\\n",
       "0           [{'iso_639_1': 'en', 'name': 'English'}]  Released   \n",
       "1           [{'iso_639_1': 'en', 'name': 'English'}]  Released   \n",
       "2  [{'iso_639_1': 'en', 'name': 'English'}, {'iso...  Released   \n",
       "\n",
       "                                   tagline                     title_kaggle  \\\n",
       "0      Kojak. Columbo. Dirty Harry. Wimps.  The Adventures of Ford Fairlane   \n",
       "1          All they risked was everything.             After Dark, My Sweet   \n",
       "2  The few. The proud. The totally insane.                      Air America   \n",
       "\n",
       "   video         vote_average           vote_count  \n",
       "0  False                 6.20                72.00  \n",
       "1  False                 6.50                17.00  \n",
       "2  False                 5.30               146.00  \n",
       "\n",
       "[3 rows x 35 columns]"
      ]
     },
     "execution_count": 75,
     "metadata": {},
     "output_type": "execute_result"
    }
   ],
   "source": [
    "# Use the function to leverage wiki data for Kaggle zero values.\n",
    "fill_missing_kaggle_data(movies_df, 'runtime', 'running_time')\n",
    "fill_missing_kaggle_data(movies_df, 'budget_kaggle', 'budget_wiki')\n",
    "fill_missing_kaggle_data(movies_df, 'revenue', 'box_office')\n",
    "movies_df.head(3)"
   ]
  },
  {
   "cell_type": "code",
   "execution_count": 76,
   "id": "d56ebd19",
   "metadata": {},
   "outputs": [],
   "source": [
    "# Convert lists to tuples so we can count values.\n",
    "for col in movies_df.columns:\n",
    "    lists_to_tuples = lambda x: tuple(x) if type(x) == list else x\n",
    "    value_counts = movies_df[col].apply(lists_to_tuples).value_counts(dropna=False)\n",
    "    num_values = len(value_counts)\n",
    "    if num_values == 1:\n",
    "        print(col)"
   ]
  },
  {
   "cell_type": "code",
   "execution_count": 77,
   "id": "b4c47d9a",
   "metadata": {},
   "outputs": [],
   "source": [
    "movies_df = movies_df.loc[:, ['imdb_id','id','title_kaggle','original_title','tagline','belongs_to_collection','url','imdb_link',\n",
    "                       'runtime','budget_kaggle','revenue','release_date_kaggle','popularity','vote_average','vote_count',\n",
    "                       'genres','original_language','overview','spoken_languages','Country',\n",
    "                       'production_companies','production_countries','Distributor',\n",
    "                       'Producer(s)','Director','Starring','Cinematography','Editor(s)','Writers','Composer(s)','Based on'\n",
    "                      ]]"
   ]
  },
  {
   "cell_type": "code",
   "execution_count": 78,
   "id": "0269243c",
   "metadata": {},
   "outputs": [],
   "source": [
    "movies_df.rename({'id':'kaggle_id',\n",
    "                  'title_kaggle':'title',\n",
    "                  'url':'wikipedia_url',\n",
    "                  'budget_kaggle':'budget',\n",
    "                  'release_date_kaggle':'release_date',\n",
    "                  'Country':'country',\n",
    "                  'Distributor':'distributor',\n",
    "                  'Producer(s)':'producers',\n",
    "                  'Director':'director',\n",
    "                  'Starring':'starring',\n",
    "                  'Cinematography':'cinematography',\n",
    "                  'Editor(s)':'editors',\n",
    "                  'Writer(s)':'writers',\n",
    "                  'Composer(s)':'composers',\n",
    "                  'Based on':'based_on'\n",
    "                 }, axis='columns', inplace=True)"
   ]
  },
  {
   "cell_type": "markdown",
   "id": "1a7af131",
   "metadata": {},
   "source": [
    "### Ratings Data review and cleaning"
   ]
  },
  {
   "cell_type": "code",
   "execution_count": 83,
   "id": "10fdbd39",
   "metadata": {},
   "outputs": [],
   "source": [
    "# Group and count the ratings so the data is easier to manage - reduces the size of the dataset.\n",
    "\n",
    "rating_counts = ratings_df.groupby(['movieId','rating'], as_index=False).count() \\\n",
    "                .rename({'userId':'count'}, axis=1) \\\n",
    "                .pivot(index='movieId',columns='rating', values='count')"
   ]
  },
  {
   "cell_type": "code",
   "execution_count": 84,
   "id": "c8469e2c",
   "metadata": {},
   "outputs": [],
   "source": [
    "# Rename the rating columns so we know the data source after creating a joined table.\n",
    "\n",
    "rating_counts.columns = ['rating_' + str(col) for col in rating_counts.columns]"
   ]
  },
  {
   "cell_type": "code",
   "execution_count": 87,
   "id": "68d4d911",
   "metadata": {},
   "outputs": [],
   "source": [
    "# left-join the DataFrames to keep all the movies, and apply relevant ratings for those movies.\n",
    "\n",
    "movies_with_ratings_df = pd.merge(movies_df, rating_counts, left_on='kaggle_id', right_index=True, how='left')"
   ]
  },
  {
   "cell_type": "code",
   "execution_count": 88,
   "id": "e47f3865",
   "metadata": {},
   "outputs": [],
   "source": [
    "movies_with_ratings_df[rating_counts.columns] = movies_with_ratings_df[rating_counts.columns].fillna(0)"
   ]
  },
  {
   "cell_type": "code",
   "execution_count": null,
   "id": "729ecc09",
   "metadata": {},
   "outputs": [],
   "source": []
  },
  {
   "cell_type": "code",
   "execution_count": null,
   "id": "36fa5cda",
   "metadata": {},
   "outputs": [],
   "source": []
  },
  {
   "cell_type": "code",
   "execution_count": null,
   "id": "297e51c4",
   "metadata": {},
   "outputs": [],
   "source": []
  }
 ],
 "metadata": {
  "kernelspec": {
   "display_name": "Pythondata",
   "language": "python",
   "name": "pythondata"
  },
  "language_info": {
   "codemirror_mode": {
    "name": "ipython",
    "version": 3
   },
   "file_extension": ".py",
   "mimetype": "text/x-python",
   "name": "python",
   "nbconvert_exporter": "python",
   "pygments_lexer": "ipython3",
   "version": "3.7.13"
  }
 },
 "nbformat": 4,
 "nbformat_minor": 5
}
