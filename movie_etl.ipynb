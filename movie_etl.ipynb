{
 "cells": [
  {
   "cell_type": "code",
   "execution_count": 1,
   "id": "23969407",
   "metadata": {},
   "outputs": [],
   "source": [
    "import json\n",
    "import pandas as pd\n",
    "import numpy as np\n",
    "import re"
   ]
  },
  {
   "cell_type": "code",
   "execution_count": 2,
   "id": "09cdf06d",
   "metadata": {},
   "outputs": [],
   "source": [
    "file_dir = \"C:/Users/azinc/Github/Movies-ETL/\"\n",
    "\n",
    "filename = 'wikipedia-movies.json'\n"
   ]
  },
  {
   "cell_type": "code",
   "execution_count": 3,
   "id": "35b7a2da",
   "metadata": {},
   "outputs": [
    {
     "data": {
      "text/plain": [
       "7311"
      ]
     },
     "execution_count": 3,
     "metadata": {},
     "output_type": "execute_result"
    }
   ],
   "source": [
    "with open(f'{filename}', mode='r') as file:\n",
    "    wiki_movies_raw = json.load(file)\n",
    "    \n",
    "len(wiki_movies_raw)"
   ]
  },
  {
   "cell_type": "code",
   "execution_count": 4,
   "id": "8f818e28",
   "metadata": {},
   "outputs": [
    {
     "data": {
      "text/plain": [
       "{'url': 'https://en.wikipedia.org/wiki/Puzzle_(2018_film)',\n",
       " 'year': 2018,\n",
       " 'imdb_link': 'https://www.imdb.com/title/tt6933454/',\n",
       " 'title': 'Puzzle',\n",
       " 'Directed by': 'Marc Turtletaub',\n",
       " 'Produced by': ['Wren Arthur',\n",
       "  'Guy Stodel',\n",
       "  'Marc Turtletaub',\n",
       "  'Peter Saraf'],\n",
       " 'Written by': ['Oren Moverman', 'Polly Mann'],\n",
       " 'Based on': ['Rompecabezas', 'by', 'Natalia Smirnoff'],\n",
       " 'Starring': ['Kelly Macdonald',\n",
       "  'Irrfan Khan',\n",
       "  'David Denman',\n",
       "  'Bubba Weiler',\n",
       "  'Austin Abrams',\n",
       "  'Liv Hewson'],\n",
       " 'Music by': \"Dustin O'Halloran\",\n",
       " 'Cinematography': 'Chris Norr',\n",
       " 'Edited by': 'Catherine Haight',\n",
       " 'Productioncompanies ': ['Big Beach', 'Olive Productions'],\n",
       " 'Distributed by': 'Sony Pictures Classics',\n",
       " 'Release date': ['January 23, 2018',\n",
       "  '(',\n",
       "  '2018-01-23',\n",
       "  ')',\n",
       "  '(',\n",
       "  'Sundance',\n",
       "  ')',\n",
       "  'July 27, 2018',\n",
       "  '(',\n",
       "  '2018-07-27',\n",
       "  ')',\n",
       "  '(United States)'],\n",
       " 'Running time': '103 minutes',\n",
       " 'Country': 'United States',\n",
       " 'Language': 'English',\n",
       " 'Box office': '$2.1 million'}"
      ]
     },
     "execution_count": 4,
     "metadata": {},
     "output_type": "execute_result"
    }
   ],
   "source": [
    "wiki_movies_raw[7200]"
   ]
  },
  {
   "cell_type": "code",
   "execution_count": 5,
   "id": "e7608283",
   "metadata": {},
   "outputs": [],
   "source": [
    "kaggle_metadata_df = pd.read_csv('movies_metadata.csv',low_memory=False)"
   ]
  },
  {
   "cell_type": "code",
   "execution_count": 6,
   "id": "332da511",
   "metadata": {},
   "outputs": [
    {
     "data": {
      "text/html": [
       "<div>\n",
       "<style scoped>\n",
       "    .dataframe tbody tr th:only-of-type {\n",
       "        vertical-align: middle;\n",
       "    }\n",
       "\n",
       "    .dataframe tbody tr th {\n",
       "        vertical-align: top;\n",
       "    }\n",
       "\n",
       "    .dataframe thead th {\n",
       "        text-align: right;\n",
       "    }\n",
       "</style>\n",
       "<table border=\"1\" class=\"dataframe\">\n",
       "  <thead>\n",
       "    <tr style=\"text-align: right;\">\n",
       "      <th></th>\n",
       "      <th>adult</th>\n",
       "      <th>belongs_to_collection</th>\n",
       "      <th>budget</th>\n",
       "      <th>genres</th>\n",
       "      <th>homepage</th>\n",
       "      <th>id</th>\n",
       "      <th>imdb_id</th>\n",
       "      <th>original_language</th>\n",
       "      <th>original_title</th>\n",
       "      <th>overview</th>\n",
       "      <th>...</th>\n",
       "      <th>release_date</th>\n",
       "      <th>revenue</th>\n",
       "      <th>runtime</th>\n",
       "      <th>spoken_languages</th>\n",
       "      <th>status</th>\n",
       "      <th>tagline</th>\n",
       "      <th>title</th>\n",
       "      <th>video</th>\n",
       "      <th>vote_average</th>\n",
       "      <th>vote_count</th>\n",
       "    </tr>\n",
       "  </thead>\n",
       "  <tbody>\n",
       "    <tr>\n",
       "      <th>26495</th>\n",
       "      <td>False</td>\n",
       "      <td>NaN</td>\n",
       "      <td>0</td>\n",
       "      <td>[{'id': 28, 'name': 'Action'}, {'id': 18, 'nam...</td>\n",
       "      <td>NaN</td>\n",
       "      <td>16997</td>\n",
       "      <td>tt1013651</td>\n",
       "      <td>en</td>\n",
       "      <td>The Man Who Came Back</td>\n",
       "      <td>Framed for murder and left for dead, a local l...</td>\n",
       "      <td>...</td>\n",
       "      <td>2008-02-08</td>\n",
       "      <td>0.0</td>\n",
       "      <td>122.0</td>\n",
       "      <td>[{'iso_639_1': 'en', 'name': 'English'}]</td>\n",
       "      <td>Released</td>\n",
       "      <td>NaN</td>\n",
       "      <td>The Man Who Came Back</td>\n",
       "      <td>False</td>\n",
       "      <td>6.0</td>\n",
       "      <td>2.0</td>\n",
       "    </tr>\n",
       "    <tr>\n",
       "      <th>27765</th>\n",
       "      <td>False</td>\n",
       "      <td>NaN</td>\n",
       "      <td>0</td>\n",
       "      <td>[]</td>\n",
       "      <td>NaN</td>\n",
       "      <td>206390</td>\n",
       "      <td>tt0008710</td>\n",
       "      <td>en</td>\n",
       "      <td>Tösen från Stormyrtorpet</td>\n",
       "      <td>A 1917 Swedish drama film directed by Victor S...</td>\n",
       "      <td>...</td>\n",
       "      <td>1917-09-09</td>\n",
       "      <td>0.0</td>\n",
       "      <td>74.0</td>\n",
       "      <td>[]</td>\n",
       "      <td>Released</td>\n",
       "      <td>NaN</td>\n",
       "      <td>The Girl from the Marsh Croft</td>\n",
       "      <td>False</td>\n",
       "      <td>0.0</td>\n",
       "      <td>0.0</td>\n",
       "    </tr>\n",
       "    <tr>\n",
       "      <th>2970</th>\n",
       "      <td>False</td>\n",
       "      <td>NaN</td>\n",
       "      <td>0</td>\n",
       "      <td>[{'id': 14, 'name': 'Fantasy'}, {'id': 35, 'na...</td>\n",
       "      <td>NaN</td>\n",
       "      <td>9647</td>\n",
       "      <td>tt0096061</td>\n",
       "      <td>en</td>\n",
       "      <td>Scrooged</td>\n",
       "      <td>In this modern take on Charles Dickens' \"A Chr...</td>\n",
       "      <td>...</td>\n",
       "      <td>1988-11-22</td>\n",
       "      <td>60328000.0</td>\n",
       "      <td>101.0</td>\n",
       "      <td>[{'iso_639_1': 'en', 'name': 'English'}]</td>\n",
       "      <td>Released</td>\n",
       "      <td>The spirits will move you in odd and hysterica...</td>\n",
       "      <td>Scrooged</td>\n",
       "      <td>False</td>\n",
       "      <td>6.7</td>\n",
       "      <td>395.0</td>\n",
       "    </tr>\n",
       "    <tr>\n",
       "      <th>42576</th>\n",
       "      <td>False</td>\n",
       "      <td>NaN</td>\n",
       "      <td>0</td>\n",
       "      <td>[{'id': 10752, 'name': 'War'}]</td>\n",
       "      <td>NaN</td>\n",
       "      <td>36140</td>\n",
       "      <td>tt0061913</td>\n",
       "      <td>en</td>\n",
       "      <td>Loin du Vietnam</td>\n",
       "      <td>In seven different parts, Godard, Klein, Lelou...</td>\n",
       "      <td>...</td>\n",
       "      <td>1967-01-01</td>\n",
       "      <td>0.0</td>\n",
       "      <td>115.0</td>\n",
       "      <td>[{'iso_639_1': 'fr', 'name': 'Français'}]</td>\n",
       "      <td>Released</td>\n",
       "      <td>NaN</td>\n",
       "      <td>Far from Vietnam</td>\n",
       "      <td>False</td>\n",
       "      <td>5.6</td>\n",
       "      <td>4.0</td>\n",
       "    </tr>\n",
       "    <tr>\n",
       "      <th>8552</th>\n",
       "      <td>False</td>\n",
       "      <td>NaN</td>\n",
       "      <td>15000</td>\n",
       "      <td>[{'id': 27, 'name': 'Horror'}]</td>\n",
       "      <td>NaN</td>\n",
       "      <td>31287</td>\n",
       "      <td>tt0055946</td>\n",
       "      <td>en</td>\n",
       "      <td>Eegah</td>\n",
       "      <td>Teenagers stumble across a prehistoric caveman...</td>\n",
       "      <td>...</td>\n",
       "      <td>1962-06-08</td>\n",
       "      <td>3274.0</td>\n",
       "      <td>90.0</td>\n",
       "      <td>[{'iso_639_1': 'en', 'name': 'English'}]</td>\n",
       "      <td>Released</td>\n",
       "      <td>The Crazed Love Of A Prehistoric Giant For A R...</td>\n",
       "      <td>Eegah</td>\n",
       "      <td>False</td>\n",
       "      <td>2.8</td>\n",
       "      <td>18.0</td>\n",
       "    </tr>\n",
       "    <tr>\n",
       "      <th>22516</th>\n",
       "      <td>False</td>\n",
       "      <td>NaN</td>\n",
       "      <td>0</td>\n",
       "      <td>[{'id': 28, 'name': 'Action'}, {'id': 27, 'nam...</td>\n",
       "      <td>NaN</td>\n",
       "      <td>140174</td>\n",
       "      <td>tt2236182</td>\n",
       "      <td>en</td>\n",
       "      <td>Rise of the Zombies</td>\n",
       "      <td>When zombies overrun San Francisco, a desperat...</td>\n",
       "      <td>...</td>\n",
       "      <td>2012-10-27</td>\n",
       "      <td>0.0</td>\n",
       "      <td>90.0</td>\n",
       "      <td>[{'iso_639_1': 'en', 'name': 'English'}]</td>\n",
       "      <td>Released</td>\n",
       "      <td>NaN</td>\n",
       "      <td>Rise of the Zombies</td>\n",
       "      <td>False</td>\n",
       "      <td>3.4</td>\n",
       "      <td>27.0</td>\n",
       "    </tr>\n",
       "    <tr>\n",
       "      <th>12869</th>\n",
       "      <td>False</td>\n",
       "      <td>NaN</td>\n",
       "      <td>0</td>\n",
       "      <td>[{'id': 80, 'name': 'Crime'}, {'id': 18, 'name...</td>\n",
       "      <td>NaN</td>\n",
       "      <td>15069</td>\n",
       "      <td>tt0804552</td>\n",
       "      <td>en</td>\n",
       "      <td>WΔZ</td>\n",
       "      <td>There is something horribly wrong with the bod...</td>\n",
       "      <td>...</td>\n",
       "      <td>2007-05-19</td>\n",
       "      <td>0.0</td>\n",
       "      <td>104.0</td>\n",
       "      <td>[{'iso_639_1': 'en', 'name': 'English'}]</td>\n",
       "      <td>Released</td>\n",
       "      <td>Would you kill the one you love to save yourse...</td>\n",
       "      <td>WΔZ</td>\n",
       "      <td>False</td>\n",
       "      <td>5.5</td>\n",
       "      <td>43.0</td>\n",
       "    </tr>\n",
       "    <tr>\n",
       "      <th>15630</th>\n",
       "      <td>False</td>\n",
       "      <td>NaN</td>\n",
       "      <td>4500000</td>\n",
       "      <td>[{'id': 35, 'name': 'Comedy'}, {'id': 18, 'nam...</td>\n",
       "      <td>http://www.ifcfilms.com/films/life-during-wart...</td>\n",
       "      <td>39800</td>\n",
       "      <td>tt0808526</td>\n",
       "      <td>en</td>\n",
       "      <td>Life During Wartime</td>\n",
       "      <td>Friends, family, and lovers struggle to find l...</td>\n",
       "      <td>...</td>\n",
       "      <td>2009-10-10</td>\n",
       "      <td>744816.0</td>\n",
       "      <td>97.0</td>\n",
       "      <td>[{'iso_639_1': 'en', 'name': 'English'}]</td>\n",
       "      <td>Released</td>\n",
       "      <td>NaN</td>\n",
       "      <td>Life During Wartime</td>\n",
       "      <td>False</td>\n",
       "      <td>6.3</td>\n",
       "      <td>30.0</td>\n",
       "    </tr>\n",
       "    <tr>\n",
       "      <th>19567</th>\n",
       "      <td>False</td>\n",
       "      <td>NaN</td>\n",
       "      <td>8000000</td>\n",
       "      <td>[{'id': 18, 'name': 'Drama'}, {'id': 10749, 'n...</td>\n",
       "      <td>NaN</td>\n",
       "      <td>38753</td>\n",
       "      <td>tt1396221</td>\n",
       "      <td>en</td>\n",
       "      <td>Passion Play</td>\n",
       "      <td>An angel under the thumb of a ruthless gangste...</td>\n",
       "      <td>...</td>\n",
       "      <td>2010-09-10</td>\n",
       "      <td>0.0</td>\n",
       "      <td>94.0</td>\n",
       "      <td>[{'iso_639_1': 'en', 'name': 'English'}]</td>\n",
       "      <td>Released</td>\n",
       "      <td>Love Is Stronger Than Death.</td>\n",
       "      <td>Passion Play</td>\n",
       "      <td>False</td>\n",
       "      <td>5.2</td>\n",
       "      <td>28.0</td>\n",
       "    </tr>\n",
       "    <tr>\n",
       "      <th>30870</th>\n",
       "      <td>False</td>\n",
       "      <td>NaN</td>\n",
       "      <td>0</td>\n",
       "      <td>[{'id': 18, 'name': 'Drama'}]</td>\n",
       "      <td>NaN</td>\n",
       "      <td>105509</td>\n",
       "      <td>tt0039682</td>\n",
       "      <td>it</td>\n",
       "      <td>L'onorevole Angelina</td>\n",
       "      <td>NaN</td>\n",
       "      <td>...</td>\n",
       "      <td>1947-11-12</td>\n",
       "      <td>0.0</td>\n",
       "      <td>90.0</td>\n",
       "      <td>[{'iso_639_1': 'it', 'name': 'Italiano'}]</td>\n",
       "      <td>Released</td>\n",
       "      <td>NaN</td>\n",
       "      <td>Angelina</td>\n",
       "      <td>False</td>\n",
       "      <td>5.8</td>\n",
       "      <td>3.0</td>\n",
       "    </tr>\n",
       "  </tbody>\n",
       "</table>\n",
       "<p>10 rows × 24 columns</p>\n",
       "</div>"
      ],
      "text/plain": [
       "       adult belongs_to_collection   budget  \\\n",
       "26495  False                   NaN        0   \n",
       "27765  False                   NaN        0   \n",
       "2970   False                   NaN        0   \n",
       "42576  False                   NaN        0   \n",
       "8552   False                   NaN    15000   \n",
       "22516  False                   NaN        0   \n",
       "12869  False                   NaN        0   \n",
       "15630  False                   NaN  4500000   \n",
       "19567  False                   NaN  8000000   \n",
       "30870  False                   NaN        0   \n",
       "\n",
       "                                                  genres  \\\n",
       "26495  [{'id': 28, 'name': 'Action'}, {'id': 18, 'nam...   \n",
       "27765                                                 []   \n",
       "2970   [{'id': 14, 'name': 'Fantasy'}, {'id': 35, 'na...   \n",
       "42576                     [{'id': 10752, 'name': 'War'}]   \n",
       "8552                      [{'id': 27, 'name': 'Horror'}]   \n",
       "22516  [{'id': 28, 'name': 'Action'}, {'id': 27, 'nam...   \n",
       "12869  [{'id': 80, 'name': 'Crime'}, {'id': 18, 'name...   \n",
       "15630  [{'id': 35, 'name': 'Comedy'}, {'id': 18, 'nam...   \n",
       "19567  [{'id': 18, 'name': 'Drama'}, {'id': 10749, 'n...   \n",
       "30870                      [{'id': 18, 'name': 'Drama'}]   \n",
       "\n",
       "                                                homepage      id    imdb_id  \\\n",
       "26495                                                NaN   16997  tt1013651   \n",
       "27765                                                NaN  206390  tt0008710   \n",
       "2970                                                 NaN    9647  tt0096061   \n",
       "42576                                                NaN   36140  tt0061913   \n",
       "8552                                                 NaN   31287  tt0055946   \n",
       "22516                                                NaN  140174  tt2236182   \n",
       "12869                                                NaN   15069  tt0804552   \n",
       "15630  http://www.ifcfilms.com/films/life-during-wart...   39800  tt0808526   \n",
       "19567                                                NaN   38753  tt1396221   \n",
       "30870                                                NaN  105509  tt0039682   \n",
       "\n",
       "      original_language            original_title  \\\n",
       "26495                en     The Man Who Came Back   \n",
       "27765                en  Tösen från Stormyrtorpet   \n",
       "2970                 en                  Scrooged   \n",
       "42576                en           Loin du Vietnam   \n",
       "8552                 en                     Eegah   \n",
       "22516                en       Rise of the Zombies   \n",
       "12869                en                       WΔZ   \n",
       "15630                en       Life During Wartime   \n",
       "19567                en              Passion Play   \n",
       "30870                it      L'onorevole Angelina   \n",
       "\n",
       "                                                overview  ... release_date  \\\n",
       "26495  Framed for murder and left for dead, a local l...  ...   2008-02-08   \n",
       "27765  A 1917 Swedish drama film directed by Victor S...  ...   1917-09-09   \n",
       "2970   In this modern take on Charles Dickens' \"A Chr...  ...   1988-11-22   \n",
       "42576  In seven different parts, Godard, Klein, Lelou...  ...   1967-01-01   \n",
       "8552   Teenagers stumble across a prehistoric caveman...  ...   1962-06-08   \n",
       "22516  When zombies overrun San Francisco, a desperat...  ...   2012-10-27   \n",
       "12869  There is something horribly wrong with the bod...  ...   2007-05-19   \n",
       "15630  Friends, family, and lovers struggle to find l...  ...   2009-10-10   \n",
       "19567  An angel under the thumb of a ruthless gangste...  ...   2010-09-10   \n",
       "30870                                                NaN  ...   1947-11-12   \n",
       "\n",
       "          revenue runtime                           spoken_languages  \\\n",
       "26495         0.0   122.0   [{'iso_639_1': 'en', 'name': 'English'}]   \n",
       "27765         0.0    74.0                                         []   \n",
       "2970   60328000.0   101.0   [{'iso_639_1': 'en', 'name': 'English'}]   \n",
       "42576         0.0   115.0  [{'iso_639_1': 'fr', 'name': 'Français'}]   \n",
       "8552       3274.0    90.0   [{'iso_639_1': 'en', 'name': 'English'}]   \n",
       "22516         0.0    90.0   [{'iso_639_1': 'en', 'name': 'English'}]   \n",
       "12869         0.0   104.0   [{'iso_639_1': 'en', 'name': 'English'}]   \n",
       "15630    744816.0    97.0   [{'iso_639_1': 'en', 'name': 'English'}]   \n",
       "19567         0.0    94.0   [{'iso_639_1': 'en', 'name': 'English'}]   \n",
       "30870         0.0    90.0  [{'iso_639_1': 'it', 'name': 'Italiano'}]   \n",
       "\n",
       "         status                                            tagline  \\\n",
       "26495  Released                                                NaN   \n",
       "27765  Released                                                NaN   \n",
       "2970   Released  The spirits will move you in odd and hysterica...   \n",
       "42576  Released                                                NaN   \n",
       "8552   Released  The Crazed Love Of A Prehistoric Giant For A R...   \n",
       "22516  Released                                                NaN   \n",
       "12869  Released  Would you kill the one you love to save yourse...   \n",
       "15630  Released                                                NaN   \n",
       "19567  Released                       Love Is Stronger Than Death.   \n",
       "30870  Released                                                NaN   \n",
       "\n",
       "                               title  video vote_average vote_count  \n",
       "26495          The Man Who Came Back  False          6.0        2.0  \n",
       "27765  The Girl from the Marsh Croft  False          0.0        0.0  \n",
       "2970                        Scrooged  False          6.7      395.0  \n",
       "42576               Far from Vietnam  False          5.6        4.0  \n",
       "8552                           Eegah  False          2.8       18.0  \n",
       "22516            Rise of the Zombies  False          3.4       27.0  \n",
       "12869                            WΔZ  False          5.5       43.0  \n",
       "15630            Life During Wartime  False          6.3       30.0  \n",
       "19567                   Passion Play  False          5.2       28.0  \n",
       "30870                       Angelina  False          5.8        3.0  \n",
       "\n",
       "[10 rows x 24 columns]"
      ]
     },
     "execution_count": 6,
     "metadata": {},
     "output_type": "execute_result"
    }
   ],
   "source": [
    "kaggle_metadata_df.sample(n=10)"
   ]
  },
  {
   "cell_type": "code",
   "execution_count": 7,
   "id": "24f6197c",
   "metadata": {},
   "outputs": [],
   "source": [
    "ratings_df = pd.read_csv('ratings.csv')"
   ]
  },
  {
   "cell_type": "code",
   "execution_count": 8,
   "id": "dc318679",
   "metadata": {},
   "outputs": [
    {
     "data": {
      "text/plain": [
       "7076"
      ]
     },
     "execution_count": 8,
     "metadata": {},
     "output_type": "execute_result"
    }
   ],
   "source": [
    "# Use list comprehension to filter wikipedia json columns to clean up the movie data\n",
    "\n",
    "wiki_movies = [movie for movie in wiki_movies_raw \n",
    "              if ('Director' in movie or 'Directed by' in movie\n",
    "                  and 'imdb_link' in movie\n",
    "                 and 'No. of episodes' not in movie)]\n",
    "                  \n",
    "len(wiki_movies)"
   ]
  },
  {
   "cell_type": "code",
   "execution_count": 9,
   "id": "3eb6667a",
   "metadata": {},
   "outputs": [],
   "source": [
    "def clean_movie(movie):\n",
    "    movie = dict(movie) # non-destructive copy of the movie-data\n",
    "    \n",
    "    alt_titles = {}\n",
    "    alt_title_fields = ['Also known as','Arabic', 'Cantonese', 'Chinese', 'French', 'Hangul', 'Hebrew', 'Hepburn', 'Japanese', 'Literally',\n",
    "    'Mandarin', 'McCune–Reischauer', 'Original title', 'Polish', 'Revised Romanization', 'Romanized', 'Russian',\n",
    "    'Simplified', 'Traditional', 'Yiddish']\n",
    "    \n",
    "    # Consolidate any/all alternate titles into a single column\n",
    "    for a_t in alt_title_fields:\n",
    "        if a_t in movie:\n",
    "            alt_titles[a_t] = movie.pop(a_t)\n",
    "            \n",
    "        if len(alt_titles) > 0:\n",
    "            movie['alt_titles'] = alt_titles\n",
    "            \n",
    "    # Consolidate column names with a function\n",
    "    def change_column_name(old_name, new_name):\n",
    "        if old_name in movie:\n",
    "            movie[new_name] = movie.pop(old_name)\n",
    "    \n",
    "    \n",
    "    # Define list of column name transformations\n",
    "    change_column_name('Adaptation by', 'Written by')\n",
    "    change_column_name('Original release', 'Release date')\n",
    "    change_column_name('Music by', 'Composer(s)')\n",
    "    change_column_name('Story by', 'Writers')\n",
    "    change_column_name('Screenplay by', 'Writers')\n",
    "    change_column_name('Written by', 'Writers')\n",
    "    change_column_name('Theme music composer', 'Composer(s)')\n",
    "    change_column_name('Country of origin', 'Country')\n",
    "    change_column_name('Directed by', 'Director')\n",
    "    change_column_name('Edited by', 'Editor(s)')\n",
    "    change_column_name('Distributed by', 'Distributor')\n",
    "    change_column_name('Produced by', 'Producer(s)')\n",
    "    change_column_name('Producer', 'Producer(s)')\n",
    "    change_column_name('Original language(s)', 'Language')\n",
    "    change_column_name('Productioncompanies ', 'Production company(s)')\n",
    "    change_column_name('Productioncompany ', 'Production company(s)')\n",
    "    change_column_name('Screen story by', 'Screenplay by')\n",
    "    change_column_name('Length', 'Running time')\n",
    "    change_column_name('Released', 'Release date')\n",
    "    change_column_name('year', 'Release date')\n",
    "    \n",
    "    return(movie)"
   ]
  },
  {
   "cell_type": "code",
   "execution_count": 10,
   "id": "714db80b",
   "metadata": {},
   "outputs": [],
   "source": [
    "# Located data by column name to better understand the content and structure.\n",
    "# wiki_movies_df[wiki_movies_df['title'].notnull()]"
   ]
  },
  {
   "cell_type": "code",
   "execution_count": 11,
   "id": "3423547d",
   "metadata": {},
   "outputs": [
    {
     "data": {
      "text/plain": [
       "['Animation by',\n",
       " 'Audio format',\n",
       " 'Based on',\n",
       " 'Box office',\n",
       " 'Budget',\n",
       " 'Cinematography',\n",
       " 'Color process',\n",
       " 'Composer(s)',\n",
       " 'Country',\n",
       " 'Created by',\n",
       " 'Director',\n",
       " 'Distributor',\n",
       " 'Editor(s)',\n",
       " 'Executive producer(s)',\n",
       " 'Followed by',\n",
       " 'Genre',\n",
       " 'Label',\n",
       " 'Language',\n",
       " 'Narrated by',\n",
       " 'Original network',\n",
       " 'Picture format',\n",
       " 'Preceded by',\n",
       " 'Producer(s)',\n",
       " 'Production company(s)',\n",
       " 'Production location(s)',\n",
       " 'Recorded',\n",
       " 'Release date',\n",
       " 'Running time',\n",
       " 'Screenplay by',\n",
       " 'Starring',\n",
       " 'Suggested by',\n",
       " 'Venue',\n",
       " 'Voices of',\n",
       " 'Writers',\n",
       " 'alt_titles',\n",
       " 'imdb_link',\n",
       " 'title',\n",
       " 'url']"
      ]
     },
     "execution_count": 11,
     "metadata": {},
     "output_type": "execute_result"
    }
   ],
   "source": [
    "clean_movies = [clean_movie(movie) for movie in wiki_movies]\n",
    "\n",
    "wiki_movies_df = pd.DataFrame(clean_movies)\n",
    "\n",
    "sorted(wiki_movies_df.columns.tolist())"
   ]
  },
  {
   "cell_type": "code",
   "execution_count": 12,
   "id": "cdd017b3",
   "metadata": {
    "scrolled": true
   },
   "outputs": [
    {
     "data": {
      "text/html": [
       "<div>\n",
       "<style scoped>\n",
       "    .dataframe tbody tr th:only-of-type {\n",
       "        vertical-align: middle;\n",
       "    }\n",
       "\n",
       "    .dataframe tbody tr th {\n",
       "        vertical-align: top;\n",
       "    }\n",
       "\n",
       "    .dataframe thead th {\n",
       "        text-align: right;\n",
       "    }\n",
       "</style>\n",
       "<table border=\"1\" class=\"dataframe\">\n",
       "  <thead>\n",
       "    <tr style=\"text-align: right;\">\n",
       "      <th></th>\n",
       "      <th>url</th>\n",
       "      <th>imdb_link</th>\n",
       "      <th>title</th>\n",
       "      <th>Based on</th>\n",
       "      <th>Starring</th>\n",
       "      <th>Narrated by</th>\n",
       "      <th>Cinematography</th>\n",
       "      <th>Release date</th>\n",
       "      <th>Running time</th>\n",
       "      <th>Country</th>\n",
       "      <th>...</th>\n",
       "      <th>Created by</th>\n",
       "      <th>Preceded by</th>\n",
       "      <th>Suggested by</th>\n",
       "      <th>alt_titles</th>\n",
       "      <th>Recorded</th>\n",
       "      <th>Venue</th>\n",
       "      <th>Label</th>\n",
       "      <th>Animation by</th>\n",
       "      <th>Color process</th>\n",
       "      <th>Screenplay by</th>\n",
       "    </tr>\n",
       "  </thead>\n",
       "  <tbody>\n",
       "    <tr>\n",
       "      <th>0</th>\n",
       "      <td>https://en.wikipedia.org/wiki/The_Adventures_o...</td>\n",
       "      <td>https://www.imdb.com/title/tt0098987/</td>\n",
       "      <td>The Adventures of Ford Fairlane</td>\n",
       "      <td>[Characters, by Rex Weiner]</td>\n",
       "      <td>[Andrew Dice Clay, Wayne Newton, Priscilla Pre...</td>\n",
       "      <td>Andrew \"Dice\" Clay</td>\n",
       "      <td>Oliver Wood</td>\n",
       "      <td>1990</td>\n",
       "      <td>102 minutes</td>\n",
       "      <td>United States</td>\n",
       "      <td>...</td>\n",
       "      <td>NaN</td>\n",
       "      <td>NaN</td>\n",
       "      <td>NaN</td>\n",
       "      <td>NaN</td>\n",
       "      <td>NaN</td>\n",
       "      <td>NaN</td>\n",
       "      <td>NaN</td>\n",
       "      <td>NaN</td>\n",
       "      <td>NaN</td>\n",
       "      <td>NaN</td>\n",
       "    </tr>\n",
       "    <tr>\n",
       "      <th>1</th>\n",
       "      <td>https://en.wikipedia.org/wiki/After_Dark,_My_S...</td>\n",
       "      <td>https://www.imdb.com/title/tt0098994/</td>\n",
       "      <td>After Dark, My Sweet</td>\n",
       "      <td>[the novel, After Dark, My Sweet, by, Jim Thom...</td>\n",
       "      <td>[Jason Patric, Rachel Ward, Bruce Dern, George...</td>\n",
       "      <td>NaN</td>\n",
       "      <td>Mark Plummer</td>\n",
       "      <td>1990</td>\n",
       "      <td>114 minutes</td>\n",
       "      <td>United States</td>\n",
       "      <td>...</td>\n",
       "      <td>NaN</td>\n",
       "      <td>NaN</td>\n",
       "      <td>NaN</td>\n",
       "      <td>NaN</td>\n",
       "      <td>NaN</td>\n",
       "      <td>NaN</td>\n",
       "      <td>NaN</td>\n",
       "      <td>NaN</td>\n",
       "      <td>NaN</td>\n",
       "      <td>NaN</td>\n",
       "    </tr>\n",
       "    <tr>\n",
       "      <th>2</th>\n",
       "      <td>https://en.wikipedia.org/wiki/Air_America_(film)</td>\n",
       "      <td>https://www.imdb.com/title/tt0099005/</td>\n",
       "      <td>Air America</td>\n",
       "      <td>[Air America, by, Christopher Robbins]</td>\n",
       "      <td>[Mel Gibson, Robert Downey Jr., Nancy Travis, ...</td>\n",
       "      <td>NaN</td>\n",
       "      <td>Roger Deakins</td>\n",
       "      <td>1990</td>\n",
       "      <td>113 minutes</td>\n",
       "      <td>United States</td>\n",
       "      <td>...</td>\n",
       "      <td>NaN</td>\n",
       "      <td>NaN</td>\n",
       "      <td>NaN</td>\n",
       "      <td>NaN</td>\n",
       "      <td>NaN</td>\n",
       "      <td>NaN</td>\n",
       "      <td>NaN</td>\n",
       "      <td>NaN</td>\n",
       "      <td>NaN</td>\n",
       "      <td>NaN</td>\n",
       "    </tr>\n",
       "    <tr>\n",
       "      <th>3</th>\n",
       "      <td>https://en.wikipedia.org/wiki/Alice_(1990_film)</td>\n",
       "      <td>https://www.imdb.com/title/tt0099012/</td>\n",
       "      <td>Alice</td>\n",
       "      <td>NaN</td>\n",
       "      <td>[Alec Baldwin, Blythe Danner, Judy Davis, Mia ...</td>\n",
       "      <td>NaN</td>\n",
       "      <td>Carlo Di Palma</td>\n",
       "      <td>1990</td>\n",
       "      <td>106 minutes</td>\n",
       "      <td>United States</td>\n",
       "      <td>...</td>\n",
       "      <td>NaN</td>\n",
       "      <td>NaN</td>\n",
       "      <td>NaN</td>\n",
       "      <td>NaN</td>\n",
       "      <td>NaN</td>\n",
       "      <td>NaN</td>\n",
       "      <td>NaN</td>\n",
       "      <td>NaN</td>\n",
       "      <td>NaN</td>\n",
       "      <td>NaN</td>\n",
       "    </tr>\n",
       "    <tr>\n",
       "      <th>4</th>\n",
       "      <td>https://en.wikipedia.org/wiki/Almost_an_Angel</td>\n",
       "      <td>https://www.imdb.com/title/tt0099018/</td>\n",
       "      <td>Almost an Angel</td>\n",
       "      <td>NaN</td>\n",
       "      <td>[Paul Hogan, Elias Koteas, Linda Kozlowski]</td>\n",
       "      <td>NaN</td>\n",
       "      <td>Russell Boyd</td>\n",
       "      <td>1990</td>\n",
       "      <td>95 minutes</td>\n",
       "      <td>US</td>\n",
       "      <td>...</td>\n",
       "      <td>NaN</td>\n",
       "      <td>NaN</td>\n",
       "      <td>NaN</td>\n",
       "      <td>NaN</td>\n",
       "      <td>NaN</td>\n",
       "      <td>NaN</td>\n",
       "      <td>NaN</td>\n",
       "      <td>NaN</td>\n",
       "      <td>NaN</td>\n",
       "      <td>NaN</td>\n",
       "    </tr>\n",
       "  </tbody>\n",
       "</table>\n",
       "<p>5 rows × 38 columns</p>\n",
       "</div>"
      ],
      "text/plain": [
       "                                                 url  \\\n",
       "0  https://en.wikipedia.org/wiki/The_Adventures_o...   \n",
       "1  https://en.wikipedia.org/wiki/After_Dark,_My_S...   \n",
       "2   https://en.wikipedia.org/wiki/Air_America_(film)   \n",
       "3    https://en.wikipedia.org/wiki/Alice_(1990_film)   \n",
       "4      https://en.wikipedia.org/wiki/Almost_an_Angel   \n",
       "\n",
       "                               imdb_link                            title  \\\n",
       "0  https://www.imdb.com/title/tt0098987/  The Adventures of Ford Fairlane   \n",
       "1  https://www.imdb.com/title/tt0098994/             After Dark, My Sweet   \n",
       "2  https://www.imdb.com/title/tt0099005/                      Air America   \n",
       "3  https://www.imdb.com/title/tt0099012/                            Alice   \n",
       "4  https://www.imdb.com/title/tt0099018/                  Almost an Angel   \n",
       "\n",
       "                                            Based on  \\\n",
       "0                        [Characters, by Rex Weiner]   \n",
       "1  [the novel, After Dark, My Sweet, by, Jim Thom...   \n",
       "2             [Air America, by, Christopher Robbins]   \n",
       "3                                                NaN   \n",
       "4                                                NaN   \n",
       "\n",
       "                                            Starring         Narrated by  \\\n",
       "0  [Andrew Dice Clay, Wayne Newton, Priscilla Pre...  Andrew \"Dice\" Clay   \n",
       "1  [Jason Patric, Rachel Ward, Bruce Dern, George...                 NaN   \n",
       "2  [Mel Gibson, Robert Downey Jr., Nancy Travis, ...                 NaN   \n",
       "3  [Alec Baldwin, Blythe Danner, Judy Davis, Mia ...                 NaN   \n",
       "4        [Paul Hogan, Elias Koteas, Linda Kozlowski]                 NaN   \n",
       "\n",
       "   Cinematography  Release date Running time        Country  ... Created by  \\\n",
       "0     Oliver Wood          1990  102 minutes  United States  ...        NaN   \n",
       "1    Mark Plummer          1990  114 minutes  United States  ...        NaN   \n",
       "2   Roger Deakins          1990  113 minutes  United States  ...        NaN   \n",
       "3  Carlo Di Palma          1990  106 minutes  United States  ...        NaN   \n",
       "4    Russell Boyd          1990   95 minutes             US  ...        NaN   \n",
       "\n",
       "  Preceded by Suggested by alt_titles Recorded Venue Label Animation by  \\\n",
       "0         NaN          NaN        NaN      NaN   NaN   NaN          NaN   \n",
       "1         NaN          NaN        NaN      NaN   NaN   NaN          NaN   \n",
       "2         NaN          NaN        NaN      NaN   NaN   NaN          NaN   \n",
       "3         NaN          NaN        NaN      NaN   NaN   NaN          NaN   \n",
       "4         NaN          NaN        NaN      NaN   NaN   NaN          NaN   \n",
       "\n",
       "  Color process Screenplay by  \n",
       "0           NaN           NaN  \n",
       "1           NaN           NaN  \n",
       "2           NaN           NaN  \n",
       "3           NaN           NaN  \n",
       "4           NaN           NaN  \n",
       "\n",
       "[5 rows x 38 columns]"
      ]
     },
     "execution_count": 12,
     "metadata": {},
     "output_type": "execute_result"
    }
   ],
   "source": [
    "wiki_movies_df.head(5)"
   ]
  },
  {
   "cell_type": "code",
   "execution_count": 13,
   "id": "ea336099",
   "metadata": {},
   "outputs": [
    {
     "name": "stdout",
     "output_type": "stream",
     "text": [
      "7076\n",
      "7033\n"
     ]
    },
    {
     "data": {
      "text/html": [
       "<div>\n",
       "<style scoped>\n",
       "    .dataframe tbody tr th:only-of-type {\n",
       "        vertical-align: middle;\n",
       "    }\n",
       "\n",
       "    .dataframe tbody tr th {\n",
       "        vertical-align: top;\n",
       "    }\n",
       "\n",
       "    .dataframe thead th {\n",
       "        text-align: right;\n",
       "    }\n",
       "</style>\n",
       "<table border=\"1\" class=\"dataframe\">\n",
       "  <thead>\n",
       "    <tr style=\"text-align: right;\">\n",
       "      <th></th>\n",
       "      <th>url</th>\n",
       "      <th>imdb_link</th>\n",
       "      <th>title</th>\n",
       "      <th>Based on</th>\n",
       "      <th>Starring</th>\n",
       "      <th>Narrated by</th>\n",
       "      <th>Cinematography</th>\n",
       "      <th>Release date</th>\n",
       "      <th>Running time</th>\n",
       "      <th>Country</th>\n",
       "      <th>...</th>\n",
       "      <th>Preceded by</th>\n",
       "      <th>Suggested by</th>\n",
       "      <th>alt_titles</th>\n",
       "      <th>Recorded</th>\n",
       "      <th>Venue</th>\n",
       "      <th>Label</th>\n",
       "      <th>Animation by</th>\n",
       "      <th>Color process</th>\n",
       "      <th>Screenplay by</th>\n",
       "      <th>imdb_id</th>\n",
       "    </tr>\n",
       "  </thead>\n",
       "  <tbody>\n",
       "    <tr>\n",
       "      <th>0</th>\n",
       "      <td>https://en.wikipedia.org/wiki/The_Adventures_o...</td>\n",
       "      <td>https://www.imdb.com/title/tt0098987/</td>\n",
       "      <td>The Adventures of Ford Fairlane</td>\n",
       "      <td>[Characters, by Rex Weiner]</td>\n",
       "      <td>[Andrew Dice Clay, Wayne Newton, Priscilla Pre...</td>\n",
       "      <td>Andrew \"Dice\" Clay</td>\n",
       "      <td>Oliver Wood</td>\n",
       "      <td>1990</td>\n",
       "      <td>102 minutes</td>\n",
       "      <td>United States</td>\n",
       "      <td>...</td>\n",
       "      <td>NaN</td>\n",
       "      <td>NaN</td>\n",
       "      <td>NaN</td>\n",
       "      <td>NaN</td>\n",
       "      <td>NaN</td>\n",
       "      <td>NaN</td>\n",
       "      <td>NaN</td>\n",
       "      <td>NaN</td>\n",
       "      <td>NaN</td>\n",
       "      <td>tt0098987</td>\n",
       "    </tr>\n",
       "    <tr>\n",
       "      <th>1</th>\n",
       "      <td>https://en.wikipedia.org/wiki/After_Dark,_My_S...</td>\n",
       "      <td>https://www.imdb.com/title/tt0098994/</td>\n",
       "      <td>After Dark, My Sweet</td>\n",
       "      <td>[the novel, After Dark, My Sweet, by, Jim Thom...</td>\n",
       "      <td>[Jason Patric, Rachel Ward, Bruce Dern, George...</td>\n",
       "      <td>NaN</td>\n",
       "      <td>Mark Plummer</td>\n",
       "      <td>1990</td>\n",
       "      <td>114 minutes</td>\n",
       "      <td>United States</td>\n",
       "      <td>...</td>\n",
       "      <td>NaN</td>\n",
       "      <td>NaN</td>\n",
       "      <td>NaN</td>\n",
       "      <td>NaN</td>\n",
       "      <td>NaN</td>\n",
       "      <td>NaN</td>\n",
       "      <td>NaN</td>\n",
       "      <td>NaN</td>\n",
       "      <td>NaN</td>\n",
       "      <td>tt0098994</td>\n",
       "    </tr>\n",
       "    <tr>\n",
       "      <th>2</th>\n",
       "      <td>https://en.wikipedia.org/wiki/Air_America_(film)</td>\n",
       "      <td>https://www.imdb.com/title/tt0099005/</td>\n",
       "      <td>Air America</td>\n",
       "      <td>[Air America, by, Christopher Robbins]</td>\n",
       "      <td>[Mel Gibson, Robert Downey Jr., Nancy Travis, ...</td>\n",
       "      <td>NaN</td>\n",
       "      <td>Roger Deakins</td>\n",
       "      <td>1990</td>\n",
       "      <td>113 minutes</td>\n",
       "      <td>United States</td>\n",
       "      <td>...</td>\n",
       "      <td>NaN</td>\n",
       "      <td>NaN</td>\n",
       "      <td>NaN</td>\n",
       "      <td>NaN</td>\n",
       "      <td>NaN</td>\n",
       "      <td>NaN</td>\n",
       "      <td>NaN</td>\n",
       "      <td>NaN</td>\n",
       "      <td>NaN</td>\n",
       "      <td>tt0099005</td>\n",
       "    </tr>\n",
       "    <tr>\n",
       "      <th>3</th>\n",
       "      <td>https://en.wikipedia.org/wiki/Alice_(1990_film)</td>\n",
       "      <td>https://www.imdb.com/title/tt0099012/</td>\n",
       "      <td>Alice</td>\n",
       "      <td>NaN</td>\n",
       "      <td>[Alec Baldwin, Blythe Danner, Judy Davis, Mia ...</td>\n",
       "      <td>NaN</td>\n",
       "      <td>Carlo Di Palma</td>\n",
       "      <td>1990</td>\n",
       "      <td>106 minutes</td>\n",
       "      <td>United States</td>\n",
       "      <td>...</td>\n",
       "      <td>NaN</td>\n",
       "      <td>NaN</td>\n",
       "      <td>NaN</td>\n",
       "      <td>NaN</td>\n",
       "      <td>NaN</td>\n",
       "      <td>NaN</td>\n",
       "      <td>NaN</td>\n",
       "      <td>NaN</td>\n",
       "      <td>NaN</td>\n",
       "      <td>tt0099012</td>\n",
       "    </tr>\n",
       "    <tr>\n",
       "      <th>4</th>\n",
       "      <td>https://en.wikipedia.org/wiki/Almost_an_Angel</td>\n",
       "      <td>https://www.imdb.com/title/tt0099018/</td>\n",
       "      <td>Almost an Angel</td>\n",
       "      <td>NaN</td>\n",
       "      <td>[Paul Hogan, Elias Koteas, Linda Kozlowski]</td>\n",
       "      <td>NaN</td>\n",
       "      <td>Russell Boyd</td>\n",
       "      <td>1990</td>\n",
       "      <td>95 minutes</td>\n",
       "      <td>US</td>\n",
       "      <td>...</td>\n",
       "      <td>NaN</td>\n",
       "      <td>NaN</td>\n",
       "      <td>NaN</td>\n",
       "      <td>NaN</td>\n",
       "      <td>NaN</td>\n",
       "      <td>NaN</td>\n",
       "      <td>NaN</td>\n",
       "      <td>NaN</td>\n",
       "      <td>NaN</td>\n",
       "      <td>tt0099018</td>\n",
       "    </tr>\n",
       "  </tbody>\n",
       "</table>\n",
       "<p>5 rows × 39 columns</p>\n",
       "</div>"
      ],
      "text/plain": [
       "                                                 url  \\\n",
       "0  https://en.wikipedia.org/wiki/The_Adventures_o...   \n",
       "1  https://en.wikipedia.org/wiki/After_Dark,_My_S...   \n",
       "2   https://en.wikipedia.org/wiki/Air_America_(film)   \n",
       "3    https://en.wikipedia.org/wiki/Alice_(1990_film)   \n",
       "4      https://en.wikipedia.org/wiki/Almost_an_Angel   \n",
       "\n",
       "                               imdb_link                            title  \\\n",
       "0  https://www.imdb.com/title/tt0098987/  The Adventures of Ford Fairlane   \n",
       "1  https://www.imdb.com/title/tt0098994/             After Dark, My Sweet   \n",
       "2  https://www.imdb.com/title/tt0099005/                      Air America   \n",
       "3  https://www.imdb.com/title/tt0099012/                            Alice   \n",
       "4  https://www.imdb.com/title/tt0099018/                  Almost an Angel   \n",
       "\n",
       "                                            Based on  \\\n",
       "0                        [Characters, by Rex Weiner]   \n",
       "1  [the novel, After Dark, My Sweet, by, Jim Thom...   \n",
       "2             [Air America, by, Christopher Robbins]   \n",
       "3                                                NaN   \n",
       "4                                                NaN   \n",
       "\n",
       "                                            Starring         Narrated by  \\\n",
       "0  [Andrew Dice Clay, Wayne Newton, Priscilla Pre...  Andrew \"Dice\" Clay   \n",
       "1  [Jason Patric, Rachel Ward, Bruce Dern, George...                 NaN   \n",
       "2  [Mel Gibson, Robert Downey Jr., Nancy Travis, ...                 NaN   \n",
       "3  [Alec Baldwin, Blythe Danner, Judy Davis, Mia ...                 NaN   \n",
       "4        [Paul Hogan, Elias Koteas, Linda Kozlowski]                 NaN   \n",
       "\n",
       "   Cinematography  Release date Running time        Country  ... Preceded by  \\\n",
       "0     Oliver Wood          1990  102 minutes  United States  ...         NaN   \n",
       "1    Mark Plummer          1990  114 minutes  United States  ...         NaN   \n",
       "2   Roger Deakins          1990  113 minutes  United States  ...         NaN   \n",
       "3  Carlo Di Palma          1990  106 minutes  United States  ...         NaN   \n",
       "4    Russell Boyd          1990   95 minutes             US  ...         NaN   \n",
       "\n",
       "  Suggested by alt_titles Recorded Venue Label Animation by Color process  \\\n",
       "0          NaN        NaN      NaN   NaN   NaN          NaN           NaN   \n",
       "1          NaN        NaN      NaN   NaN   NaN          NaN           NaN   \n",
       "2          NaN        NaN      NaN   NaN   NaN          NaN           NaN   \n",
       "3          NaN        NaN      NaN   NaN   NaN          NaN           NaN   \n",
       "4          NaN        NaN      NaN   NaN   NaN          NaN           NaN   \n",
       "\n",
       "  Screenplay by    imdb_id  \n",
       "0           NaN  tt0098987  \n",
       "1           NaN  tt0098994  \n",
       "2           NaN  tt0099005  \n",
       "3           NaN  tt0099012  \n",
       "4           NaN  tt0099018  \n",
       "\n",
       "[5 rows x 39 columns]"
      ]
     },
     "execution_count": 13,
     "metadata": {},
     "output_type": "execute_result"
    }
   ],
   "source": [
    "wiki_movies_df['imdb_id'] = wiki_movies_df['imdb_link'].str.extract(r'(tt\\d{7})')\n",
    "\n",
    "print(len(wiki_movies_df))\n",
    "\n",
    "wiki_movies_df.drop_duplicates(subset='imdb_id', inplace=True)\n",
    "\n",
    "print(len(wiki_movies_df))\n",
    "\n",
    "wiki_movies_df.head()"
   ]
  },
  {
   "cell_type": "code",
   "execution_count": 14,
   "id": "bba7e8b9",
   "metadata": {},
   "outputs": [
    {
     "name": "stdout",
     "output_type": "stream",
     "text": [
      "<class 'pandas.core.frame.DataFrame'>\n",
      "Int64Index: 7033 entries, 0 to 7075\n",
      "Data columns (total 39 columns):\n",
      " #   Column                  Non-Null Count  Dtype \n",
      "---  ------                  --------------  ----- \n",
      " 0   url                     7033 non-null   object\n",
      " 1   imdb_link               7033 non-null   object\n",
      " 2   title                   7032 non-null   object\n",
      " 3   Based on                2181 non-null   object\n",
      " 4   Starring                6849 non-null   object\n",
      " 5   Narrated by             281 non-null    object\n",
      " 6   Cinematography          6342 non-null   object\n",
      " 7   Release date            7033 non-null   int64 \n",
      " 8   Running time            6894 non-null   object\n",
      " 9   Country                 6797 non-null   object\n",
      " 10  Language                6947 non-null   object\n",
      " 11  Budget                  4738 non-null   object\n",
      " 12  Box office              5485 non-null   object\n",
      " 13  Composer(s)             6515 non-null   object\n",
      " 14  Writers                 6834 non-null   object\n",
      " 15  Director                7033 non-null   object\n",
      " 16  Editor(s)               6485 non-null   object\n",
      " 17  Distributor             6676 non-null   object\n",
      " 18  Producer(s)             6831 non-null   object\n",
      " 19  Production company(s)   5355 non-null   object\n",
      " 20  Genre                   110 non-null    object\n",
      " 21  Original network        125 non-null    object\n",
      " 22  Executive producer(s)   97 non-null     object\n",
      " 23  Production location(s)  47 non-null     object\n",
      " 24  Picture format          64 non-null     object\n",
      " 25  Audio format            61 non-null     object\n",
      " 26  Voices of               2 non-null      object\n",
      " 27  Followed by             9 non-null      object\n",
      " 28  Created by              10 non-null     object\n",
      " 29  Preceded by             10 non-null     object\n",
      " 30  Suggested by            1 non-null      object\n",
      " 31  alt_titles              21 non-null     object\n",
      " 32  Recorded                2 non-null      object\n",
      " 33  Venue                   1 non-null      object\n",
      " 34  Label                   2 non-null      object\n",
      " 35  Animation by            2 non-null      object\n",
      " 36  Color process           1 non-null      object\n",
      " 37  Screenplay by           1 non-null      object\n",
      " 38  imdb_id                 7033 non-null   object\n",
      "dtypes: int64(1), object(38)\n",
      "memory usage: 2.1+ MB\n"
     ]
    }
   ],
   "source": [
    "wiki_movies_df.info()"
   ]
  },
  {
   "cell_type": "code",
   "execution_count": 15,
   "id": "d230e0fb",
   "metadata": {},
   "outputs": [
    {
     "data": {
      "text/plain": [
       "[['url', 0],\n",
       " ['imdb_link', 0],\n",
       " ['title', 1],\n",
       " ['Based on', 4852],\n",
       " ['Starring', 184],\n",
       " ['Narrated by', 6752],\n",
       " ['Cinematography', 691],\n",
       " ['Release date', 0],\n",
       " ['Running time', 139],\n",
       " ['Country', 236],\n",
       " ['Language', 86],\n",
       " ['Budget', 2295],\n",
       " ['Box office', 1548],\n",
       " ['Composer(s)', 518],\n",
       " ['Writers', 199],\n",
       " ['Director', 0],\n",
       " ['Editor(s)', 548],\n",
       " ['Distributor', 357],\n",
       " ['Producer(s)', 202],\n",
       " ['Production company(s)', 1678],\n",
       " ['Genre', 6923],\n",
       " ['Original network', 6908],\n",
       " ['Executive producer(s)', 6936],\n",
       " ['Production location(s)', 6986],\n",
       " ['Picture format', 6969],\n",
       " ['Audio format', 6972],\n",
       " ['Voices of', 7031],\n",
       " ['Followed by', 7024],\n",
       " ['Created by', 7023],\n",
       " ['Preceded by', 7023],\n",
       " ['Suggested by', 7032],\n",
       " ['alt_titles', 7012],\n",
       " ['Recorded', 7031],\n",
       " ['Venue', 7032],\n",
       " ['Label', 7031],\n",
       " ['Animation by', 7031],\n",
       " ['Color process', 7032],\n",
       " ['Screenplay by', 7032],\n",
       " ['imdb_id', 0]]"
      ]
     },
     "execution_count": 15,
     "metadata": {},
     "output_type": "execute_result"
    }
   ],
   "source": [
    "[[column,wiki_movies_df[column].isnull().sum()] for column in wiki_movies_df.columns]"
   ]
  },
  {
   "cell_type": "code",
   "execution_count": 16,
   "id": "420b2f9e",
   "metadata": {},
   "outputs": [],
   "source": [
    "wiki_columns_to_keep = [column for column in wiki_movies_df.columns if wiki_movies_df[column].isnull().sum() < len(wiki_movies_df) * 0.9]\n",
    "\n",
    "#wiki_columns_to_keep\n",
    "\n",
    "wiki_movies_df = wiki_movies_df[wiki_columns_to_keep]\n"
   ]
  },
  {
   "cell_type": "code",
   "execution_count": 17,
   "id": "2add5d5e",
   "metadata": {},
   "outputs": [
    {
     "data": {
      "text/plain": [
       "url                      object\n",
       "imdb_link                object\n",
       "title                    object\n",
       "Based on                 object\n",
       "Starring                 object\n",
       "Cinematography           object\n",
       "Release date              int64\n",
       "Running time             object\n",
       "Country                  object\n",
       "Language                 object\n",
       "Budget                   object\n",
       "Box office               object\n",
       "Composer(s)              object\n",
       "Writers                  object\n",
       "Director                 object\n",
       "Editor(s)                object\n",
       "Distributor              object\n",
       "Producer(s)              object\n",
       "Production company(s)    object\n",
       "imdb_id                  object\n",
       "dtype: object"
      ]
     },
     "execution_count": 17,
     "metadata": {},
     "output_type": "execute_result"
    }
   ],
   "source": [
    "wiki_movies_df.dtypes"
   ]
  },
  {
   "cell_type": "code",
   "execution_count": 18,
   "id": "cc9d017d",
   "metadata": {},
   "outputs": [
    {
     "data": {
      "text/html": [
       "<div>\n",
       "<style scoped>\n",
       "    .dataframe tbody tr th:only-of-type {\n",
       "        vertical-align: middle;\n",
       "    }\n",
       "\n",
       "    .dataframe tbody tr th {\n",
       "        vertical-align: top;\n",
       "    }\n",
       "\n",
       "    .dataframe thead th {\n",
       "        text-align: right;\n",
       "    }\n",
       "</style>\n",
       "<table border=\"1\" class=\"dataframe\">\n",
       "  <thead>\n",
       "    <tr style=\"text-align: right;\">\n",
       "      <th></th>\n",
       "      <th>url</th>\n",
       "      <th>imdb_link</th>\n",
       "      <th>title</th>\n",
       "      <th>Based on</th>\n",
       "      <th>Starring</th>\n",
       "      <th>Cinematography</th>\n",
       "      <th>Release date</th>\n",
       "      <th>Running time</th>\n",
       "      <th>Country</th>\n",
       "      <th>Language</th>\n",
       "      <th>Budget</th>\n",
       "      <th>Box office</th>\n",
       "      <th>Composer(s)</th>\n",
       "      <th>Writers</th>\n",
       "      <th>Director</th>\n",
       "      <th>Editor(s)</th>\n",
       "      <th>Distributor</th>\n",
       "      <th>Producer(s)</th>\n",
       "      <th>Production company(s)</th>\n",
       "      <th>imdb_id</th>\n",
       "    </tr>\n",
       "  </thead>\n",
       "  <tbody>\n",
       "    <tr>\n",
       "      <th>0</th>\n",
       "      <td>https://en.wikipedia.org/wiki/The_Adventures_o...</td>\n",
       "      <td>https://www.imdb.com/title/tt0098987/</td>\n",
       "      <td>The Adventures of Ford Fairlane</td>\n",
       "      <td>[Characters, by Rex Weiner]</td>\n",
       "      <td>[Andrew Dice Clay, Wayne Newton, Priscilla Pre...</td>\n",
       "      <td>Oliver Wood</td>\n",
       "      <td>1990</td>\n",
       "      <td>102 minutes</td>\n",
       "      <td>United States</td>\n",
       "      <td>English</td>\n",
       "      <td>$20 million</td>\n",
       "      <td>$21.4 million</td>\n",
       "      <td>[Cliff Eidelman, Yello]</td>\n",
       "      <td>[David Arnott, James Cappe, Daniel Waters]</td>\n",
       "      <td>Renny Harlin</td>\n",
       "      <td>Michael Tronick</td>\n",
       "      <td>20th Century Fox</td>\n",
       "      <td>[Steve Perry, Joel Silver]</td>\n",
       "      <td>Silver Pictures</td>\n",
       "      <td>tt0098987</td>\n",
       "    </tr>\n",
       "    <tr>\n",
       "      <th>1</th>\n",
       "      <td>https://en.wikipedia.org/wiki/After_Dark,_My_S...</td>\n",
       "      <td>https://www.imdb.com/title/tt0098994/</td>\n",
       "      <td>After Dark, My Sweet</td>\n",
       "      <td>[the novel, After Dark, My Sweet, by, Jim Thom...</td>\n",
       "      <td>[Jason Patric, Rachel Ward, Bruce Dern, George...</td>\n",
       "      <td>Mark Plummer</td>\n",
       "      <td>1990</td>\n",
       "      <td>114 minutes</td>\n",
       "      <td>United States</td>\n",
       "      <td>English</td>\n",
       "      <td>$6 million</td>\n",
       "      <td>$2.7 million</td>\n",
       "      <td>Maurice Jarre</td>\n",
       "      <td>[James Foley, Robert Redlin]</td>\n",
       "      <td>James Foley</td>\n",
       "      <td>Howard E. Smith</td>\n",
       "      <td>Avenue Pictures</td>\n",
       "      <td>[Ric Kidney, Robert Redlin]</td>\n",
       "      <td>Avenue Pictures</td>\n",
       "      <td>tt0098994</td>\n",
       "    </tr>\n",
       "  </tbody>\n",
       "</table>\n",
       "</div>"
      ],
      "text/plain": [
       "                                                 url  \\\n",
       "0  https://en.wikipedia.org/wiki/The_Adventures_o...   \n",
       "1  https://en.wikipedia.org/wiki/After_Dark,_My_S...   \n",
       "\n",
       "                               imdb_link                            title  \\\n",
       "0  https://www.imdb.com/title/tt0098987/  The Adventures of Ford Fairlane   \n",
       "1  https://www.imdb.com/title/tt0098994/             After Dark, My Sweet   \n",
       "\n",
       "                                            Based on  \\\n",
       "0                        [Characters, by Rex Weiner]   \n",
       "1  [the novel, After Dark, My Sweet, by, Jim Thom...   \n",
       "\n",
       "                                            Starring Cinematography  \\\n",
       "0  [Andrew Dice Clay, Wayne Newton, Priscilla Pre...    Oliver Wood   \n",
       "1  [Jason Patric, Rachel Ward, Bruce Dern, George...   Mark Plummer   \n",
       "\n",
       "   Release date Running time        Country Language       Budget  \\\n",
       "0          1990  102 minutes  United States  English  $20 million   \n",
       "1          1990  114 minutes  United States  English   $6 million   \n",
       "\n",
       "      Box office              Composer(s)  \\\n",
       "0  $21.4 million  [Cliff Eidelman, Yello]   \n",
       "1   $2.7 million            Maurice Jarre   \n",
       "\n",
       "                                      Writers      Director        Editor(s)  \\\n",
       "0  [David Arnott, James Cappe, Daniel Waters]  Renny Harlin  Michael Tronick   \n",
       "1                [James Foley, Robert Redlin]   James Foley  Howard E. Smith   \n",
       "\n",
       "        Distributor                  Producer(s) Production company(s)  \\\n",
       "0  20th Century Fox   [Steve Perry, Joel Silver]       Silver Pictures   \n",
       "1   Avenue Pictures  [Ric Kidney, Robert Redlin]       Avenue Pictures   \n",
       "\n",
       "     imdb_id  \n",
       "0  tt0098987  \n",
       "1  tt0098994  "
      ]
     },
     "execution_count": 18,
     "metadata": {},
     "output_type": "execute_result"
    }
   ],
   "source": [
    "wiki_movies_df.head(2)"
   ]
  },
  {
   "cell_type": "markdown",
   "id": "adeb299b",
   "metadata": {},
   "source": [
    "### Parse the box office data"
   ]
  },
  {
   "cell_type": "code",
   "execution_count": 19,
   "id": "a351ad24",
   "metadata": {},
   "outputs": [],
   "source": [
    "box_office = wiki_movies_df['Box office'].dropna()"
   ]
  },
  {
   "cell_type": "code",
   "execution_count": 20,
   "id": "956a2960",
   "metadata": {},
   "outputs": [],
   "source": [
    "box_office = box_office.apply(lambda x: ' '.join(x) if type(x) == list else x)"
   ]
  },
  {
   "cell_type": "code",
   "execution_count": 21,
   "id": "e70782e6",
   "metadata": {},
   "outputs": [],
   "source": [
    "box_office = box_office.str.replace(r'\\$.*[-—–](?![a-z])', '$', regex=True)"
   ]
  },
  {
   "cell_type": "code",
   "execution_count": 22,
   "id": "76d1e7cb",
   "metadata": {},
   "outputs": [],
   "source": [
    "# Create a regex to parse the box office data\n",
    "\n",
    "form_one = r'\\$*\\d+\\.?\\d*\\s*[mb]illi?on'\n",
    "\n",
    "form_two = r'\\$*\\d{1,3}(?:[,\\.]\\d{3})+(?!\\s[mb]illion)'"
   ]
  },
  {
   "cell_type": "code",
   "execution_count": 23,
   "id": "31456d6f",
   "metadata": {},
   "outputs": [
    {
     "name": "stdout",
     "output_type": "stream",
     "text": [
      "443  -----  $5000 (US)\n",
      "1405  -----  N/A\n",
      "1442  -----  $309\n",
      "2694  -----  TBA\n",
      "2950  -----  $34.9 Million\n",
      "3175  -----  $30\n",
      "3365  -----  $45.2k (only in Turkey)\n",
      "4170  -----  £2.56\n",
      "4400  -----  413 733$\n",
      "4562  -----  Unknown\n",
      "4828  -----  $111k\n",
      "4828  -----  $588\n",
      "5043  -----  less than $372\n",
      "5258  -----  8 crore\n"
     ]
    }
   ],
   "source": [
    "cnt = 0\n",
    "for movie in box_office:\n",
    "#    print(movie)\n",
    "    try:\n",
    "        a = re.search(form_one, movie, flags=0)\n",
    "        b = re.search(form_two, movie, flags=0)\n",
    "\n",
    "        \n",
    "        if a or b:\n",
    "            cnt +=1\n",
    "#            print(cnt)\n",
    "        else:\n",
    "            print(f'{cnt}  -----  {movie}')\n",
    "\n",
    "    except:\n",
    "        print('some kind of problem *********************************')"
   ]
  },
  {
   "cell_type": "code",
   "execution_count": 24,
   "id": "ddf70eda",
   "metadata": {},
   "outputs": [],
   "source": [
    "def parse_dollars(s):\n",
    "    # if s is not a string, return NaN\n",
    "    if type(s) != str:\n",
    "        return np.nan\n",
    "    \n",
    "    # if input is of the form $###.# million\n",
    "    if re.match(r'\\$\\s*\\d+\\.?\\d*\\s*milli?on', s, flags=re.IGNORECASE):\n",
    "        \n",
    "        # remove dollar sign and \" million\"\n",
    "        s = re.sub('\\$|\\s|[a-zA-Z]','', s)\n",
    "        \n",
    "        # convert to float and multiply by a million\n",
    "        value = float(s) * 10**6\n",
    "\n",
    "        # return value\n",
    "        return value\n",
    "\n",
    "    # if input is of the form $###.# billion\n",
    "    elif re.match(r'\\$\\s*\\d+\\.?\\d*\\s*billi?on', s, flags=re.IGNORECASE):\n",
    "        \n",
    "        # remove dollar sign and \" billion\"\n",
    "        s = re.sub('\\$|\\s|[a-zA-Z]','', s)\n",
    "        \n",
    "        # convert to float and multiply by a billion\n",
    "        value = float(s) * 10**9\n",
    "        \n",
    "        # return value\n",
    "        return value\n",
    "        \n",
    "    # if input is of the form $###,###,###\n",
    "    elif re.match(r'\\$*\\d{1,3}(?:[,\\.]\\d{3})+(?!\\s[mb]illion)', s, flags=re.IGNORECASE):\n",
    "    \n",
    "        # remove dollar sign and commas\n",
    "        s = re.sub('\\$|,','', s)\n",
    "        \n",
    "        # convert to float\n",
    "        value = float(s)\n",
    "        \n",
    "        # return value\n",
    "        return value\n",
    "    \n",
    "    # otherwise, return NaN\n",
    "    else:\n",
    "        return np.nan"
   ]
  },
  {
   "cell_type": "code",
   "execution_count": 25,
   "id": "f225be1f",
   "metadata": {},
   "outputs": [],
   "source": [
    "wiki_movies_df['Box office'] = box_office.str.extract(f'({form_one}|{form_two})', flags=re.IGNORECASE)[0].apply(parse_dollars)"
   ]
  },
  {
   "cell_type": "code",
   "execution_count": 26,
   "id": "6904b409",
   "metadata": {},
   "outputs": [
    {
     "data": {
      "text/plain": [
       "0       21400000.0\n",
       "1        2700000.0\n",
       "2       57718089.0\n",
       "3        7331647.0\n",
       "4        6939946.0\n",
       "           ...    \n",
       "7071    41900000.0\n",
       "7072    76100000.0\n",
       "7073    38400000.0\n",
       "7074     5500000.0\n",
       "7075           NaN\n",
       "Name: Box office, Length: 7033, dtype: float64"
      ]
     },
     "execution_count": 26,
     "metadata": {},
     "output_type": "execute_result"
    }
   ],
   "source": [
    "wiki_movies_df['Box office']"
   ]
  },
  {
   "cell_type": "code",
   "execution_count": 27,
   "id": "dd81981b",
   "metadata": {},
   "outputs": [],
   "source": [
    "wiki_movies_df.drop('Box office', axis=1, inplace=True)"
   ]
  },
  {
   "cell_type": "markdown",
   "id": "cb953dec",
   "metadata": {},
   "source": [
    "### Parse the budget"
   ]
  },
  {
   "cell_type": "code",
   "execution_count": 28,
   "id": "bb4f6d7d",
   "metadata": {},
   "outputs": [],
   "source": [
    "budget = wiki_movies_df['Budget'].dropna()"
   ]
  },
  {
   "cell_type": "code",
   "execution_count": 29,
   "id": "6f48384a",
   "metadata": {},
   "outputs": [],
   "source": [
    "budget = budget.apply(lambda x: ' '.join(x) if type(x) == list else x)"
   ]
  },
  {
   "cell_type": "code",
   "execution_count": 30,
   "id": "222b797d",
   "metadata": {},
   "outputs": [],
   "source": [
    "budget = budget.str.replace(r'\\$.*[-—–](?![a-z])', '$', regex=True)"
   ]
  },
  {
   "cell_type": "code",
   "execution_count": 31,
   "id": "cad9c352",
   "metadata": {},
   "outputs": [],
   "source": [
    "budget = budget.str.replace(r'\\[\\d+\\]\\s*', '', regex=True)"
   ]
  },
  {
   "cell_type": "code",
   "execution_count": 32,
   "id": "0dbb98cc",
   "metadata": {},
   "outputs": [
    {
     "name": "stdout",
     "output_type": "stream",
     "text": [
      "65 ---- Unknown\n",
      "258 ---- Unknown\n",
      "695 ---- Unknown\n",
      "722 ---- HBO\n",
      "1254 ---- $14 milion\n",
      "2143 ---- $218.32\n",
      "2514 ---- N/A\n",
      "2846 ---- 19 crore\n",
      "3606 ---- N/A\n",
      "3754 ---- $ dead link]\n",
      "4046 ---- $1.5 Million\n",
      "4571 ---- 3.5 crore\n"
     ]
    }
   ],
   "source": [
    "cnt = 0\n",
    "for bud in budget:\n",
    "#    print(bud)\n",
    "    try:\n",
    "        a = re.search(form_one, bud, flags=0)\n",
    "        b = re.search(form_two, bud, flags=0)\n",
    "\n",
    "        \n",
    "        if a or b:\n",
    "            cnt +=1\n",
    "          #  print(f'matched - {cnt}')\n",
    "        else:\n",
    "            print(f'{cnt} ---- {bud}')\n",
    "\n",
    "    except:\n",
    "        print('some kind of problem*******************************************')"
   ]
  },
  {
   "cell_type": "code",
   "execution_count": 33,
   "id": "25ff0021",
   "metadata": {},
   "outputs": [
    {
     "data": {
      "text/plain": [
       "0       20000000.0\n",
       "1        6000000.0\n",
       "2       35000000.0\n",
       "3       12000000.0\n",
       "4       25000000.0\n",
       "           ...    \n",
       "7071    42000000.0\n",
       "7072    60000000.0\n",
       "7073    20000000.0\n",
       "7074     9000000.0\n",
       "7075           NaN\n",
       "Name: Budget, Length: 7033, dtype: float64"
      ]
     },
     "execution_count": 33,
     "metadata": {},
     "output_type": "execute_result"
    }
   ],
   "source": [
    "wiki_movies_df['Budget'] = budget.str.extract(f'({form_one}|{form_two})', flags=re.IGNORECASE)[0].apply(parse_dollars)\n",
    "\n",
    "wiki_movies_df['Budget'] "
   ]
  },
  {
   "cell_type": "code",
   "execution_count": 34,
   "id": "a5a8dc0a",
   "metadata": {},
   "outputs": [],
   "source": [
    "wiki_movies_df.drop('Budget', axis=1, inplace=True)"
   ]
  },
  {
   "cell_type": "markdown",
   "id": "9f01c5c2",
   "metadata": {},
   "source": [
    "### Parse the release date"
   ]
  },
  {
   "cell_type": "code",
   "execution_count": 35,
   "id": "2c7dd636",
   "metadata": {},
   "outputs": [],
   "source": [
    "release_date = wiki_movies_df['Release date'].dropna().apply(lambda x: ' '.join(x) if type(x) == list else x)"
   ]
  },
  {
   "cell_type": "code",
   "execution_count": 36,
   "id": "cb186e16",
   "metadata": {
    "scrolled": true
   },
   "outputs": [
    {
     "data": {
      "text/plain": [
       "dtype('int64')"
      ]
     },
     "execution_count": 36,
     "metadata": {},
     "output_type": "execute_result"
    }
   ],
   "source": [
    "release_date.dtype"
   ]
  },
  {
   "cell_type": "code",
   "execution_count": 37,
   "id": "0b9c6dbc",
   "metadata": {},
   "outputs": [],
   "source": [
    "# This conversion is required to eliminate \"AttributeError: Can only use .str accessor with string values!\"\n",
    "\n",
    "release_date_str = release_date.astype(str)"
   ]
  },
  {
   "cell_type": "code",
   "execution_count": 38,
   "id": "f9970703",
   "metadata": {},
   "outputs": [
    {
     "data": {
      "text/plain": [
       "dtype('O')"
      ]
     },
     "execution_count": 38,
     "metadata": {},
     "output_type": "execute_result"
    }
   ],
   "source": [
    "release_date_str.dtype"
   ]
  },
  {
   "cell_type": "code",
   "execution_count": 39,
   "id": "e37ac417",
   "metadata": {},
   "outputs": [],
   "source": [
    "# Create regex forms for parsing the release date data\n",
    "#rd_form_one = r'[A-Za-z]*\\s+\\d{1,2}\\s,\\d{4}'\n",
    "#rd_form_two = r'\\d{4}).\\d{2}.\\d{2}'\n",
    "#rd_form_three = r'[A-Za-z]+\\s+\\d{4}$'\n",
    "#rd_form_four = r'^\\d{4}$'\n",
    "\n",
    "date_form_one = r'(?:January|February|March|April|May|June|July|August|September|October|November|December)\\s[123]?\\d,\\s\\d{4}'\n",
    "date_form_two = r'\\d{4}.[01]\\d.[0123]\\d'\n",
    "date_form_three = r'(?:January|February|March|April|May|June|July|August|September|October|November|December)\\s\\d{4}'\n",
    "date_form_four = r'\\d{4}'"
   ]
  },
  {
   "cell_type": "code",
   "execution_count": 40,
   "id": "953e02f6",
   "metadata": {},
   "outputs": [
    {
     "data": {
      "text/html": [
       "<div>\n",
       "<style scoped>\n",
       "    .dataframe tbody tr th:only-of-type {\n",
       "        vertical-align: middle;\n",
       "    }\n",
       "\n",
       "    .dataframe tbody tr th {\n",
       "        vertical-align: top;\n",
       "    }\n",
       "\n",
       "    .dataframe thead th {\n",
       "        text-align: right;\n",
       "    }\n",
       "</style>\n",
       "<table border=\"1\" class=\"dataframe\">\n",
       "  <thead>\n",
       "    <tr style=\"text-align: right;\">\n",
       "      <th></th>\n",
       "      <th>0</th>\n",
       "    </tr>\n",
       "  </thead>\n",
       "  <tbody>\n",
       "    <tr>\n",
       "      <th>0</th>\n",
       "      <td>1990</td>\n",
       "    </tr>\n",
       "    <tr>\n",
       "      <th>1</th>\n",
       "      <td>1990</td>\n",
       "    </tr>\n",
       "    <tr>\n",
       "      <th>2</th>\n",
       "      <td>1990</td>\n",
       "    </tr>\n",
       "    <tr>\n",
       "      <th>3</th>\n",
       "      <td>1990</td>\n",
       "    </tr>\n",
       "    <tr>\n",
       "      <th>4</th>\n",
       "      <td>1990</td>\n",
       "    </tr>\n",
       "    <tr>\n",
       "      <th>...</th>\n",
       "      <td>...</td>\n",
       "    </tr>\n",
       "    <tr>\n",
       "      <th>7071</th>\n",
       "      <td>2018</td>\n",
       "    </tr>\n",
       "    <tr>\n",
       "      <th>7072</th>\n",
       "      <td>2018</td>\n",
       "    </tr>\n",
       "    <tr>\n",
       "      <th>7073</th>\n",
       "      <td>2018</td>\n",
       "    </tr>\n",
       "    <tr>\n",
       "      <th>7074</th>\n",
       "      <td>2018</td>\n",
       "    </tr>\n",
       "    <tr>\n",
       "      <th>7075</th>\n",
       "      <td>2018</td>\n",
       "    </tr>\n",
       "  </tbody>\n",
       "</table>\n",
       "<p>7033 rows × 1 columns</p>\n",
       "</div>"
      ],
      "text/plain": [
       "         0\n",
       "0     1990\n",
       "1     1990\n",
       "2     1990\n",
       "3     1990\n",
       "4     1990\n",
       "...    ...\n",
       "7071  2018\n",
       "7072  2018\n",
       "7073  2018\n",
       "7074  2018\n",
       "7075  2018\n",
       "\n",
       "[7033 rows x 1 columns]"
      ]
     },
     "execution_count": 40,
     "metadata": {},
     "output_type": "execute_result"
    }
   ],
   "source": [
    "release_date_str.str.extract(f'({date_form_one}|{date_form_two}|{date_form_three}|{date_form_four})', flags=re.IGNORECASE)\n",
    "\n",
    "#release_date.str.extract(f'({rd_form_one}|{rd_form_two}|{rd_form_three}|{rd_form_four})', flags=re.IGNORECASE)"
   ]
  },
  {
   "cell_type": "code",
   "execution_count": 41,
   "id": "51953e62",
   "metadata": {},
   "outputs": [],
   "source": [
    "wiki_movies_df['release_date'] = pd.to_datetime(release_date_str.str.extract(f'({date_form_one}|{date_form_two}|{date_form_three}|{date_form_four})')[0], infer_datetime_format=True)"
   ]
  },
  {
   "cell_type": "code",
   "execution_count": 42,
   "id": "17613944",
   "metadata": {},
   "outputs": [],
   "source": [
    "wiki_movies_df.drop('Release date', axis=1, inplace=True)   "
   ]
  },
  {
   "cell_type": "markdown",
   "id": "fe9176da",
   "metadata": {},
   "source": [
    "### Parse the running time"
   ]
  },
  {
   "cell_type": "code",
   "execution_count": 43,
   "id": "91010c6e",
   "metadata": {},
   "outputs": [],
   "source": [
    "running_time = wiki_movies_df['Running time'].dropna().apply(lambda x: ' '.join(x) if type(x) == list else x)"
   ]
  },
  {
   "cell_type": "code",
   "execution_count": 44,
   "id": "9b3862dc",
   "metadata": {},
   "outputs": [
    {
     "data": {
      "text/plain": [
       "9                                                 102 min\n",
       "26                                                 93 min\n",
       "28                                                32 min.\n",
       "34                                                101 min\n",
       "35                                                 97 min\n",
       "                              ...                        \n",
       "6500       114 minutes [1] 120 minutes (extended edition)\n",
       "6643                                             104 mins\n",
       "6709    90 minutes (theatrical) [1] 91 minutes (unrate...\n",
       "7057    108 minutes (Original cut) 98 minutes (UK cut)...\n",
       "7075                Variable; 90 minutes for default path\n",
       "Name: Running time, Length: 366, dtype: object"
      ]
     },
     "execution_count": 44,
     "metadata": {},
     "output_type": "execute_result"
    }
   ],
   "source": [
    "running_time[running_time.str.contains(r'^\\d*\\s*minutes$', flags=re.IGNORECASE, na=False) != True]"
   ]
  },
  {
   "cell_type": "code",
   "execution_count": 45,
   "id": "402f46a9",
   "metadata": {},
   "outputs": [
    {
     "data": {
      "text/plain": [
       "6877"
      ]
     },
     "execution_count": 45,
     "metadata": {},
     "output_type": "execute_result"
    }
   ],
   "source": [
    "running_time.str.contains(r'^\\d*\\s*m', flags=re.IGNORECASE, na=False).sum()"
   ]
  },
  {
   "cell_type": "code",
   "execution_count": 46,
   "id": "a7d67c0f",
   "metadata": {},
   "outputs": [
    {
     "data": {
      "text/plain": [
       "668                     UK:84 min (DVD version) US:86 min\n",
       "727                         78-102 min (depending on cut)\n",
       "840                       Varies (79 [3] –84 [1] minutes)\n",
       "1347                                              25 : 03\n",
       "1443    United States: 77 minutes Argentina: 94 minute...\n",
       "1499                                            1hr 35min\n",
       "1551                                               varies\n",
       "1774                    Netherlands:96 min, Canada:95 min\n",
       "1777                                       approx. 14 min\n",
       "2273                                           1 h 43 min\n",
       "2993                                               1h 48m\n",
       "3925                                              4 hours\n",
       "4425    US domestic version: 86 minutes Original versi...\n",
       "4967    Theatrical cut: 97 minutes Unrated cut: 107 mi...\n",
       "5424                    115 [1] /123 [2] /128 [3] minutes\n",
       "5447                                    1 hour 32 minutes\n",
       "7075                Variable; 90 minutes for default path\n",
       "Name: Running time, dtype: object"
      ]
     },
     "execution_count": 46,
     "metadata": {},
     "output_type": "execute_result"
    }
   ],
   "source": [
    "running_time[running_time.str.contains(r'^\\d*\\s*m', flags=re.IGNORECASE, na=False) != True]"
   ]
  },
  {
   "cell_type": "code",
   "execution_count": 47,
   "id": "72daa59c",
   "metadata": {},
   "outputs": [],
   "source": [
    "running_time_extract = running_time.str.extract(r'(\\d+)\\s*ho?u?r?s?\\s*(\\d*)|(\\d+)\\s*m')"
   ]
  },
  {
   "cell_type": "code",
   "execution_count": 48,
   "id": "95cae694",
   "metadata": {},
   "outputs": [],
   "source": [
    "running_time_extract = running_time_extract.apply(lambda col: pd.to_numeric(col, errors='coerce')).fillna(0)"
   ]
  },
  {
   "cell_type": "code",
   "execution_count": 49,
   "id": "95f8321b",
   "metadata": {},
   "outputs": [],
   "source": [
    "wiki_movies_df['running_time'] = running_time_extract.apply(lambda row: row[0]*60 + row[1] if row[2] == 0 else row[2], axis=1)"
   ]
  },
  {
   "cell_type": "code",
   "execution_count": 50,
   "id": "22dab47a",
   "metadata": {},
   "outputs": [],
   "source": [
    "wiki_movies_df.drop('Running time', axis=1, inplace=True)        "
   ]
  },
  {
   "cell_type": "markdown",
   "id": "2c0e0d33",
   "metadata": {},
   "source": [
    "### Review and clean the Kaggle dataset"
   ]
  },
  {
   "cell_type": "code",
   "execution_count": 51,
   "id": "ae3d8805",
   "metadata": {},
   "outputs": [],
   "source": [
    "kaggle_metadata_df = kaggle_metadata_df[kaggle_metadata_df['adult'] == 'False'].drop('adult',axis='columns')"
   ]
  },
  {
   "cell_type": "code",
   "execution_count": 52,
   "id": "1cbb8335",
   "metadata": {},
   "outputs": [
    {
     "data": {
      "text/plain": [
       "False    45358\n",
       "True        93\n",
       "Name: video, dtype: int64"
      ]
     },
     "execution_count": 52,
     "metadata": {},
     "output_type": "execute_result"
    }
   ],
   "source": [
    "kaggle_metadata_df['video'].value_counts()"
   ]
  },
  {
   "cell_type": "code",
   "execution_count": 53,
   "id": "29326ef8",
   "metadata": {},
   "outputs": [],
   "source": [
    "kaggle_metadata_df['video'] == 'True'\n",
    "kaggle_metadata_df['budget'] = kaggle_metadata_df['budget'].astype(int)\n",
    "kaggle_metadata_df['id'] = pd.to_numeric(kaggle_metadata_df['id'], errors='raise')\n",
    "kaggle_metadata_df['popularity'] = pd.to_numeric(kaggle_metadata_df['popularity'], errors='raise')\n",
    "kaggle_metadata_df['release_date'] = pd.to_datetime(kaggle_metadata_df['release_date'])"
   ]
  },
  {
   "cell_type": "markdown",
   "id": "91a49768",
   "metadata": {},
   "source": [
    "### Review and clean the Ratings data"
   ]
  },
  {
   "cell_type": "code",
   "execution_count": 54,
   "id": "8ed99ca9",
   "metadata": {},
   "outputs": [
    {
     "name": "stderr",
     "output_type": "stream",
     "text": [
      "C:\\Users\\azinc\\Anaconda3\\envs\\Pythondata\\lib\\site-packages\\ipykernel_launcher.py:1: FutureWarning: null_counts is deprecated. Use show_counts instead\n",
      "  \"\"\"Entry point for launching an IPython kernel.\n"
     ]
    },
    {
     "name": "stdout",
     "output_type": "stream",
     "text": [
      "<class 'pandas.core.frame.DataFrame'>\n",
      "RangeIndex: 26024289 entries, 0 to 26024288\n",
      "Data columns (total 4 columns):\n",
      " #   Column     Non-Null Count     Dtype  \n",
      "---  ------     --------------     -----  \n",
      " 0   userId     26024289 non-null  int64  \n",
      " 1   movieId    26024289 non-null  int64  \n",
      " 2   rating     26024289 non-null  float64\n",
      " 3   timestamp  26024289 non-null  int64  \n",
      "dtypes: float64(1), int64(3)\n",
      "memory usage: 794.2 MB\n"
     ]
    }
   ],
   "source": [
    "ratings_df.info(null_counts=True)"
   ]
  },
  {
   "cell_type": "code",
   "execution_count": 55,
   "id": "2c0dab5a",
   "metadata": {},
   "outputs": [],
   "source": [
    "ratings_df['timestamp'] = pd.to_datetime(ratings_df['timestamp'], unit='s')"
   ]
  },
  {
   "cell_type": "code",
   "execution_count": 56,
   "id": "3dba7f3b",
   "metadata": {},
   "outputs": [
    {
     "data": {
      "text/plain": [
       "count          26,024,289.00\n",
       "mean                    3.53\n",
       "std                     1.07\n",
       "min                     0.50\n",
       "25%                     3.00\n",
       "50%                     3.50\n",
       "75%                     4.00\n",
       "max                     5.00\n",
       "Name: rating, dtype: float64"
      ]
     },
     "execution_count": 56,
     "metadata": {},
     "output_type": "execute_result"
    },
    {
     "data": {
      "image/png": "[encoded data removed]",
      "text/plain": [
       "<Figure size 432x288 with 1 Axes>"
      ]
     },
     "metadata": {
      "needs_background": "light"
     },
     "output_type": "display_data"
    }
   ],
   "source": [
    "pd.options.display.float_format = '{:20,.2f}'.format\n",
    "ratings_df['rating'].plot(kind='hist')\n",
    "ratings_df['rating'].describe()"
   ]
  },
  {
   "cell_type": "code",
   "execution_count": null,
   "id": "66c5bfa2",
   "metadata": {},
   "outputs": [],
   "source": []
  },
  {
   "cell_type": "code",
   "execution_count": null,
   "id": "46c66cf2",
   "metadata": {},
   "outputs": [],
   "source": []
  },
  {
   "cell_type": "code",
   "execution_count": null,
   "id": "e7656719",
   "metadata": {},
   "outputs": [],
   "source": []
  },
  {
   "cell_type": "code",
   "execution_count": null,
   "id": "2b17a7a5",
   "metadata": {},
   "outputs": [],
   "source": []
  },
  {
   "cell_type": "code",
   "execution_count": null,
   "id": "fd546f2c",
   "metadata": {},
   "outputs": [],
   "source": []
  },
  {
   "cell_type": "code",
   "execution_count": null,
   "id": "66546a61",
   "metadata": {},
   "outputs": [],
   "source": []
  },
  {
   "cell_type": "code",
   "execution_count": null,
   "id": "ca685130",
   "metadata": {},
   "outputs": [],
   "source": []
  },
  {
   "cell_type": "code",
   "execution_count": null,
   "id": "8b493909",
   "metadata": {},
   "outputs": [],
   "source": []
  },
  {
   "cell_type": "code",
   "execution_count": null,
   "id": "bee83aba",
   "metadata": {},
   "outputs": [],
   "source": []
  },
  {
   "cell_type": "code",
   "execution_count": null,
   "id": "3b133b96",
   "metadata": {},
   "outputs": [],
   "source": []
  },
  {
   "cell_type": "code",
   "execution_count": null,
   "id": "b5c0b16a",
   "metadata": {},
   "outputs": [],
   "source": []
  },
  {
   "cell_type": "code",
   "execution_count": null,
   "id": "297e51c4",
   "metadata": {},
   "outputs": [],
   "source": []
  }
 ],
 "metadata": {
  "kernelspec": {
   "display_name": "Pythondata",
   "language": "python",
   "name": "pythondata"
  },
  "language_info": {
   "codemirror_mode": {
    "name": "ipython",
    "version": 3
   },
   "file_extension": ".py",
   "mimetype": "text/x-python",
   "name": "python",
   "nbconvert_exporter": "python",
   "pygments_lexer": "ipython3",
   "version": "3.7.13"
  }
 },
 "nbformat": 4,
 "nbformat_minor": 5
}
